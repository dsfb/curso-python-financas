{
 "cells": [
  {
   "cell_type": "code",
   "execution_count": 1,
   "metadata": {},
   "outputs": [],
   "source": [
    "import pandas as pd\n",
    "import numpy as np\n",
    "import matplotlib.pyplot as plt\n",
    "import yfinance as yf\n",
    "from bcb import currency"
   ]
  },
  {
   "cell_type": "markdown",
   "metadata": {},
   "source": [
    "# Análise de Retornos\n",
    "\n",
    "Vamos considerar os seguintes investimentos em ações:\n",
    "\n",
    "- Investimento em WEGE3 a R\\\\$ 42,03 em junho/2020 e venda em julho/2020 a R\\\\$ 67,32, lucro de R\\\\$ 25,29 por ação em 2 meses.\n",
    "- Investimento em OIBR3 a R\\\\$ 0,49 em abril/2020 e venda em junho/2020 a R\\\\$ 1,20, lucro de R\\\\$ 0,71 por ação em 3 meses.\n",
    "- Investimento em VVAR3 a R\\\\$ 4,65 em abril/2020 e venda em setembro/2020 a R\\\\$ 17,87, lucro de R\\\\$ 13,22 por ação em 6 meses.\n",
    "\n",
    "Qual investimento tem o melhor *retorno*?\n",
    "\n",
    "O investimento em WEGE3 apresenta o melhor resultado financeiro, pois é o que paga o maior *retorno* por ação, R\\\\$ 25,29.\n",
    "\n",
    "Calculando o resultado percentual temos"
   ]
  },
  {
   "cell_type": "code",
   "execution_count": 2,
   "metadata": {},
   "outputs": [
    {
     "data": {
      "text/html": [
       "<style  type=\"text/css\" >\n",
       "</style><table id=\"T_6091d_\" ><thead>    <tr>        <th class=\"col_heading level0 col0\" >WEGE3</th>        <th class=\"col_heading level0 col1\" >OIBR3</th>        <th class=\"col_heading level0 col2\" >VVAR3</th>    </tr></thead><tbody>\n",
       "                <tr>\n",
       "                                <td id=\"T_6091d_row0_col0\" class=\"data row0 col0\" >0.601713</td>\n",
       "                        <td id=\"T_6091d_row0_col1\" class=\"data row0 col1\" >1.448980</td>\n",
       "                        <td id=\"T_6091d_row0_col2\" class=\"data row0 col2\" >2.843011</td>\n",
       "            </tr>\n",
       "    </tbody></table>"
      ],
      "text/plain": [
       "<pandas.io.formats.style.Styler at 0x16dfcc31b88>"
      ]
     },
     "execution_count": 2,
     "metadata": {},
     "output_type": "execute_result"
    }
   ],
   "source": [
    "variações = pd.DataFrame(\n",
    "    [[(67.32 - 42.03) / 42.03, (1.20 - 0.49) / 0.49, (17.87 - 4.65) / 4.65]],\n",
    "    columns=['WEGE3', 'OIBR3', 'VVAR3']\n",
    ")\n",
    "\n",
    "variações.style.hide_index()"
   ]
  },
  {
   "cell_type": "markdown",
   "metadata": {},
   "source": [
    "O *retorno* _percentual_ no período total da VVAR3 foi o dobro da OIBR3 e o quatro vezes o da WEGE3.\n",
    "\n",
    "Se ainda considerarmos o prazo do investimento de forma linear, ou seja, dividindo o retorno percentual pelo prazo em meses do investimento, temos:"
   ]
  },
  {
   "cell_type": "code",
   "execution_count": 3,
   "metadata": {},
   "outputs": [
    {
     "data": {
      "text/html": [
       "<style  type=\"text/css\" >\n",
       "</style><table id=\"T_e1f2e_\" ><thead>    <tr>        <th class=\"col_heading level0 col0\" >WEGE3</th>        <th class=\"col_heading level0 col1\" >OIBR3</th>        <th class=\"col_heading level0 col2\" >VVAR3</th>    </tr></thead><tbody>\n",
       "                <tr>\n",
       "                                <td id=\"T_e1f2e_row0_col0\" class=\"data row0 col0\" >0.300857</td>\n",
       "                        <td id=\"T_e1f2e_row0_col1\" class=\"data row0 col1\" >0.482993</td>\n",
       "                        <td id=\"T_e1f2e_row0_col2\" class=\"data row0 col2\" >0.473835</td>\n",
       "            </tr>\n",
       "    </tbody></table>"
      ],
      "text/plain": [
       "<pandas.io.formats.style.Styler at 0x16dfd013bc8>"
      ]
     },
     "execution_count": 3,
     "metadata": {},
     "output_type": "execute_result"
    }
   ],
   "source": [
    "meses = [2, 3, 6]\n",
    "\n",
    "variações_mês = variações / meses\n",
    "\n",
    "variações_mês.style.hide_index()"
   ]
  },
  {
   "cell_type": "markdown",
   "metadata": {},
   "source": [
    "O *retorno* por mês da OIBR3 é um pouco maior que o retorno da VVAR3, na prática muito próximos.\n",
    "\n",
    "O que podemos extrair desses exemplos?\n",
    "\n",
    "- Há diversas formas de avaliar o resultado entregue por um investimento: financeiro, percentual, ajustado ao prazo e outras formas.\n",
    "- **retorno** é um termo utilizado para fazer referência ao resultado de um investimento.\n",
    "\n",
    "Veremos nas próximas seções algumas formas de calcular o retorno de um investimento e como utilizar o retorno para fazer a análise de risco do investimento.\n",
    "\n",
    "O que são retornos?\n",
    "\n",
    "> Os retornos (retornos financeiros) representam a variação no preço dos nossos investimentos.\n",
    "\n",
    "Exemplo: Variação do preço de fechamento do ETF BOVA11 entre 31-01-2020 e 30-09-2020."
   ]
  },
  {
   "cell_type": "code",
   "execution_count": 4,
   "metadata": {},
   "outputs": [
    {
     "data": {
      "text/html": [
       "<div>\n",
       "<style scoped>\n",
       "    .dataframe tbody tr th:only-of-type {\n",
       "        vertical-align: middle;\n",
       "    }\n",
       "\n",
       "    .dataframe tbody tr th {\n",
       "        vertical-align: top;\n",
       "    }\n",
       "\n",
       "    .dataframe thead th {\n",
       "        text-align: right;\n",
       "    }\n",
       "</style>\n",
       "<table border=\"1\" class=\"dataframe\">\n",
       "  <thead>\n",
       "    <tr style=\"text-align: right;\">\n",
       "      <th></th>\n",
       "      <th>Close</th>\n",
       "    </tr>\n",
       "    <tr>\n",
       "      <th>Date</th>\n",
       "      <th></th>\n",
       "    </tr>\n",
       "  </thead>\n",
       "  <tbody>\n",
       "    <tr>\n",
       "      <th>2020-01-31</th>\n",
       "      <td>108.900002</td>\n",
       "    </tr>\n",
       "    <tr>\n",
       "      <th>2020-09-30</th>\n",
       "      <td>91.050003</td>\n",
       "    </tr>\n",
       "  </tbody>\n",
       "</table>\n",
       "</div>"
      ],
      "text/plain": [
       "                 Close\n",
       "Date                  \n",
       "2020-01-31  108.900002\n",
       "2020-09-30   91.050003"
      ]
     },
     "execution_count": 4,
     "metadata": {},
     "output_type": "execute_result"
    }
   ],
   "source": [
    "BOVA11 = yf.download('BOVA11.SA', start='2020-01-31', end='2020-10-01', progress=False)\n",
    "BOVA11.loc[['2020-01-31', '2020-09-30'], ['Close']]"
   ]
  },
  {
   "cell_type": "markdown",
   "metadata": {},
   "source": [
    "Vamos calcular a variação total dos preços usando a função `diff`"
   ]
  },
  {
   "cell_type": "code",
   "execution_count": 5,
   "metadata": {},
   "outputs": [
    {
     "data": {
      "text/html": [
       "<div>\n",
       "<style scoped>\n",
       "    .dataframe tbody tr th:only-of-type {\n",
       "        vertical-align: middle;\n",
       "    }\n",
       "\n",
       "    .dataframe tbody tr th {\n",
       "        vertical-align: top;\n",
       "    }\n",
       "\n",
       "    .dataframe thead th {\n",
       "        text-align: right;\n",
       "    }\n",
       "</style>\n",
       "<table border=\"1\" class=\"dataframe\">\n",
       "  <thead>\n",
       "    <tr style=\"text-align: right;\">\n",
       "      <th></th>\n",
       "      <th>Close</th>\n",
       "    </tr>\n",
       "    <tr>\n",
       "      <th>Date</th>\n",
       "      <th></th>\n",
       "    </tr>\n",
       "  </thead>\n",
       "  <tbody>\n",
       "    <tr>\n",
       "      <th>2020-01-31</th>\n",
       "      <td>NaN</td>\n",
       "    </tr>\n",
       "    <tr>\n",
       "      <th>2020-09-30</th>\n",
       "      <td>-17.849998</td>\n",
       "    </tr>\n",
       "  </tbody>\n",
       "</table>\n",
       "</div>"
      ],
      "text/plain": [
       "                Close\n",
       "Date                 \n",
       "2020-01-31        NaN\n",
       "2020-09-30 -17.849998"
      ]
     },
     "execution_count": 5,
     "metadata": {},
     "output_type": "execute_result"
    }
   ],
   "source": [
    "BOVA11.loc[['2020-01-31', '2020-09-30'], ['Close']].diff()"
   ]
  },
  {
   "cell_type": "markdown",
   "metadata": {},
   "source": [
    "Entre as datas 31-01-2020 e 30-09-2020 o cotação do BOVA11 perdeu R$ 17,85, pois temos uma variação negativa.\n",
    "Essa é a variação total, simplismente a diferença dos preços em instantes de tempo diferentes.\n",
    "\n",
    "Exemplo: Variação da cotação do Dólar Americano em Reais entre 31-01-2020 e 30-09-2020."
   ]
  },
  {
   "cell_type": "code",
   "execution_count": 6,
   "metadata": {},
   "outputs": [
    {
     "data": {
      "text/html": [
       "<div>\n",
       "<style scoped>\n",
       "    .dataframe tbody tr th:only-of-type {\n",
       "        vertical-align: middle;\n",
       "    }\n",
       "\n",
       "    .dataframe tbody tr th {\n",
       "        vertical-align: top;\n",
       "    }\n",
       "\n",
       "    .dataframe thead tr th {\n",
       "        text-align: left;\n",
       "    }\n",
       "\n",
       "    .dataframe thead tr:last-of-type th {\n",
       "        text-align: right;\n",
       "    }\n",
       "</style>\n",
       "<table border=\"1\" class=\"dataframe\">\n",
       "  <thead>\n",
       "    <tr>\n",
       "      <th></th>\n",
       "      <th>USD</th>\n",
       "    </tr>\n",
       "    <tr>\n",
       "      <th></th>\n",
       "      <th>ask</th>\n",
       "    </tr>\n",
       "    <tr>\n",
       "      <th>Date</th>\n",
       "      <th></th>\n",
       "    </tr>\n",
       "  </thead>\n",
       "  <tbody>\n",
       "    <tr>\n",
       "      <th>2020-01-31</th>\n",
       "      <td>4.2695</td>\n",
       "    </tr>\n",
       "    <tr>\n",
       "      <th>2020-09-30</th>\n",
       "      <td>5.6407</td>\n",
       "    </tr>\n",
       "  </tbody>\n",
       "</table>\n",
       "</div>"
      ],
      "text/plain": [
       "               USD\n",
       "               ask\n",
       "Date              \n",
       "2020-01-31  4.2695\n",
       "2020-09-30  5.6407"
      ]
     },
     "execution_count": 6,
     "metadata": {},
     "output_type": "execute_result"
    }
   ],
   "source": [
    "USDBRL = currency.get('USD', start_date='2020-01-31', end_date='2020-10-01')[[('USD', 'ask')]]\n",
    "USDBRL.loc[['2020-01-31', '2020-09-30']]"
   ]
  },
  {
   "cell_type": "markdown",
   "metadata": {},
   "source": [
    "Vamos calcular a variação total dos preços usando a função `diff`"
   ]
  },
  {
   "cell_type": "code",
   "execution_count": 7,
   "metadata": {},
   "outputs": [
    {
     "data": {
      "text/html": [
       "<div>\n",
       "<style scoped>\n",
       "    .dataframe tbody tr th:only-of-type {\n",
       "        vertical-align: middle;\n",
       "    }\n",
       "\n",
       "    .dataframe tbody tr th {\n",
       "        vertical-align: top;\n",
       "    }\n",
       "\n",
       "    .dataframe thead tr th {\n",
       "        text-align: left;\n",
       "    }\n",
       "\n",
       "    .dataframe thead tr:last-of-type th {\n",
       "        text-align: right;\n",
       "    }\n",
       "</style>\n",
       "<table border=\"1\" class=\"dataframe\">\n",
       "  <thead>\n",
       "    <tr>\n",
       "      <th></th>\n",
       "      <th>USD</th>\n",
       "    </tr>\n",
       "    <tr>\n",
       "      <th></th>\n",
       "      <th>ask</th>\n",
       "    </tr>\n",
       "    <tr>\n",
       "      <th>Date</th>\n",
       "      <th></th>\n",
       "    </tr>\n",
       "  </thead>\n",
       "  <tbody>\n",
       "    <tr>\n",
       "      <th>2020-01-31</th>\n",
       "      <td>NaN</td>\n",
       "    </tr>\n",
       "    <tr>\n",
       "      <th>2020-09-30</th>\n",
       "      <td>1.3712</td>\n",
       "    </tr>\n",
       "  </tbody>\n",
       "</table>\n",
       "</div>"
      ],
      "text/plain": [
       "               USD\n",
       "               ask\n",
       "Date              \n",
       "2020-01-31     NaN\n",
       "2020-09-30  1.3712"
      ]
     },
     "execution_count": 7,
     "metadata": {},
     "output_type": "execute_result"
    }
   ],
   "source": [
    "USDBRL.loc[['2020-01-31', '2020-09-30']].diff()"
   ]
  },
  {
   "cell_type": "markdown",
   "metadata": {},
   "source": [
    "\n",
    "Note que entre as datas 31-01-2020 e 30-09-2020 o cotação do Dólar Americano perdeu R$ 1,3712, pelo menos 1 ordem de grandeza menor que o BOVA11, em módulo.\n",
    "\n",
    "A variação total pode ser considerada uma medida de retorno, entretanto, ela está muito vinculada ao valor do ativo.\n",
    "Vamos considerar $P_t$ o valor do ativo em um instante $t$ qualquer.\n",
    "A **variação** deste ativo entre os instantes $t$ e $t-1$ é dada por:\n",
    "\n",
    "$$\n",
    "\\Delta P_t = P_t - P_{t-1}\n",
    "$$\n",
    "\n",
    "Chamamos esta variação total de $\\Delta P_t$ onde $t$ representa um instante qualquer no tempo e $t-1$ é o instante anterior na série.\n",
    "Em nosso exemplo $t$ é a primeira data e $t-1$  a segunda.\n",
    "\n",
    "Como observamos, no mesmo período, os dois ativos apresentam medidas muito diferentes, logo, com esta medida é difícil comparar os 2 ativos.\n",
    "\n",
    "<!-- Pergunta: Quanto de retorno teríamos se tivessemos investido a mesma quantia em ambos os ativos? -->\n",
    "\n",
    "Há duas formas de calcular os retornos de maneira que possamos comparar os investimentos.\n",
    "\n",
    "1. Retornos Simples: calculados a partir da variação percentual dos preços com referência ao valor inicial\n",
    "1. Retornos Logarítimicos: calculados a partir da variação do logarítimo dos preços\n",
    "\n",
    "Nas próximas seções vamos detalhar estes tipos de retornos e como calculá-los."
   ]
  },
  {
   "cell_type": "markdown",
   "metadata": {},
   "source": [
    "## Retornos simples\n",
    "\n",
    "Os retornos simples são a variação percentual dos preços de um ativo.\n",
    "\n",
    "Do exemplo do BOVA11 temos a diferença dos preços nas datas 31-01-2020 e 30-09-2020."
   ]
  },
  {
   "cell_type": "code",
   "execution_count": 8,
   "metadata": {},
   "outputs": [
    {
     "data": {
      "text/html": [
       "<div>\n",
       "<style scoped>\n",
       "    .dataframe tbody tr th:only-of-type {\n",
       "        vertical-align: middle;\n",
       "    }\n",
       "\n",
       "    .dataframe tbody tr th {\n",
       "        vertical-align: top;\n",
       "    }\n",
       "\n",
       "    .dataframe thead th {\n",
       "        text-align: right;\n",
       "    }\n",
       "</style>\n",
       "<table border=\"1\" class=\"dataframe\">\n",
       "  <thead>\n",
       "    <tr style=\"text-align: right;\">\n",
       "      <th></th>\n",
       "      <th>Close</th>\n",
       "    </tr>\n",
       "    <tr>\n",
       "      <th>Date</th>\n",
       "      <th></th>\n",
       "    </tr>\n",
       "  </thead>\n",
       "  <tbody>\n",
       "    <tr>\n",
       "      <th>2020-01-31</th>\n",
       "      <td>NaN</td>\n",
       "    </tr>\n",
       "    <tr>\n",
       "      <th>2020-09-30</th>\n",
       "      <td>-17.849998</td>\n",
       "    </tr>\n",
       "  </tbody>\n",
       "</table>\n",
       "</div>"
      ],
      "text/plain": [
       "                Close\n",
       "Date                 \n",
       "2020-01-31        NaN\n",
       "2020-09-30 -17.849998"
      ]
     },
     "execution_count": 8,
     "metadata": {},
     "output_type": "execute_result"
    }
   ],
   "source": [
    "BOVA11.loc[['2020-01-31', '2020-09-30'], ['Close']].diff()"
   ]
  },
  {
   "cell_type": "markdown",
   "metadata": {},
   "source": [
    "Dada a diferença, só precisamos dividir pelo preço inicial, na data 31-01-2020.\n"
   ]
  },
  {
   "cell_type": "code",
   "execution_count": 9,
   "metadata": {},
   "outputs": [
    {
     "data": {
      "text/html": [
       "<div>\n",
       "<style scoped>\n",
       "    .dataframe tbody tr th:only-of-type {\n",
       "        vertical-align: middle;\n",
       "    }\n",
       "\n",
       "    .dataframe tbody tr th {\n",
       "        vertical-align: top;\n",
       "    }\n",
       "\n",
       "    .dataframe thead th {\n",
       "        text-align: right;\n",
       "    }\n",
       "</style>\n",
       "<table border=\"1\" class=\"dataframe\">\n",
       "  <thead>\n",
       "    <tr style=\"text-align: right;\">\n",
       "      <th></th>\n",
       "      <th>Close</th>\n",
       "    </tr>\n",
       "    <tr>\n",
       "      <th>Date</th>\n",
       "      <th></th>\n",
       "    </tr>\n",
       "  </thead>\n",
       "  <tbody>\n",
       "    <tr>\n",
       "      <th>2020-01-31</th>\n",
       "      <td>NaN</td>\n",
       "    </tr>\n",
       "    <tr>\n",
       "      <th>2020-09-30</th>\n",
       "      <td>-0.163912</td>\n",
       "    </tr>\n",
       "  </tbody>\n",
       "</table>\n",
       "</div>"
      ],
      "text/plain": [
       "               Close\n",
       "Date                \n",
       "2020-01-31       NaN\n",
       "2020-09-30 -0.163912"
      ]
     },
     "execution_count": 9,
     "metadata": {},
     "output_type": "execute_result"
    }
   ],
   "source": [
    "ini_price = BOVA11.loc['2020-01-31', 'Close']\n",
    "\n",
    "diff = BOVA11.loc[['2020-01-31', '2020-09-30'], ['Close']].diff()\n",
    "\n",
    "diff / ini_price"
   ]
  },
  {
   "cell_type": "markdown",
   "metadata": {},
   "source": [
    "O BOVA11 apresentou uma variação negativa de 16,39% no período.\n",
    "\n",
    "Usando os dados do Dólar Americano temos\n"
   ]
  },
  {
   "cell_type": "code",
   "execution_count": 10,
   "metadata": {},
   "outputs": [
    {
     "data": {
      "text/html": [
       "<div>\n",
       "<style scoped>\n",
       "    .dataframe tbody tr th:only-of-type {\n",
       "        vertical-align: middle;\n",
       "    }\n",
       "\n",
       "    .dataframe tbody tr th {\n",
       "        vertical-align: top;\n",
       "    }\n",
       "\n",
       "    .dataframe thead tr th {\n",
       "        text-align: left;\n",
       "    }\n",
       "\n",
       "    .dataframe thead tr:last-of-type th {\n",
       "        text-align: right;\n",
       "    }\n",
       "</style>\n",
       "<table border=\"1\" class=\"dataframe\">\n",
       "  <thead>\n",
       "    <tr>\n",
       "      <th></th>\n",
       "      <th>USD</th>\n",
       "    </tr>\n",
       "    <tr>\n",
       "      <th></th>\n",
       "      <th>ask</th>\n",
       "    </tr>\n",
       "    <tr>\n",
       "      <th>Date</th>\n",
       "      <th></th>\n",
       "    </tr>\n",
       "  </thead>\n",
       "  <tbody>\n",
       "    <tr>\n",
       "      <th>2020-01-31</th>\n",
       "      <td>NaN</td>\n",
       "    </tr>\n",
       "    <tr>\n",
       "      <th>2020-09-30</th>\n",
       "      <td>0.321162</td>\n",
       "    </tr>\n",
       "  </tbody>\n",
       "</table>\n",
       "</div>"
      ],
      "text/plain": [
       "                 USD\n",
       "                 ask\n",
       "Date                \n",
       "2020-01-31       NaN\n",
       "2020-09-30  0.321162"
      ]
     },
     "execution_count": 10,
     "metadata": {},
     "output_type": "execute_result"
    }
   ],
   "source": [
    "ini_price = USDBRL.loc['2020-01-31']\n",
    "\n",
    "diff = USDBRL.loc[['2020-01-31', '2020-09-30']].diff()\n",
    "\n",
    "diff / ini_price"
   ]
  },
  {
   "cell_type": "markdown",
   "metadata": {},
   "source": [
    "O Dólar Americano apresentou uma variação positiva de 32,11% no período, aproximadamente o dobro da variação do BOVA11, em módulo.\n",
    "\n",
    "Colocando em equação, a variação percentual é dada pela divisão de $\\Delta P_t$ pelo seu valor inicial, $P_{t-1}$, dessa forma calculamos o retorno simples $R_t$.\n",
    "\n",
    "\\begin{equation}\n",
    "R_t = \\frac{\\Delta P_t}{P_{t-1}} = \\frac{P_t - P_{t-1}}{P_{t-1}} = \\frac{P_t}{P_{t-1}} - 1\n",
    "%(\\#eq:simple-return)\n",
    "\\end{equation}\n",
    "\n",
    "O cálculo do retorno simples para dois instantes de tempo é útil para cálculos isolados, na prática queremos calcular retornos compostos em diferentes períodos em sequência.\n",
    "Queremos responder a perguntas como:\n",
    "\n",
    "- Para uma série de preços diários de um ativo, calculamos os retornos simples diários, qual é a média dos retornos diários no período?\n",
    "- Para uma série de retornos diários de um ativo, como calcular o retorno mensal?\n",
    "- Dado o retorno mensal, qual é o retorno médio diário?\n"
   ]
  },
  {
   "cell_type": "markdown",
   "metadata": {},
   "source": [
    "### Retornos Simples Multiperíodo\n",
    "\n",
    "Vamos calcular os retornos simples a partir de uma série de preços.\n",
    "Com uma série temporal no Python (um pandas DataFrame) calculamos a variação usando o método `diff` para a série do Dólar Americano entre as datas 01-09-2020 e 04-09-2020.\n"
   ]
  },
  {
   "cell_type": "code",
   "execution_count": 11,
   "metadata": {},
   "outputs": [
    {
     "data": {
      "text/html": [
       "<div>\n",
       "<style scoped>\n",
       "    .dataframe tbody tr th:only-of-type {\n",
       "        vertical-align: middle;\n",
       "    }\n",
       "\n",
       "    .dataframe tbody tr th {\n",
       "        vertical-align: top;\n",
       "    }\n",
       "\n",
       "    .dataframe thead th {\n",
       "        text-align: right;\n",
       "    }\n",
       "</style>\n",
       "<table border=\"1\" class=\"dataframe\">\n",
       "  <thead>\n",
       "    <tr style=\"text-align: right;\">\n",
       "      <th></th>\n",
       "      <th>P_t</th>\n",
       "      <th>diff</th>\n",
       "    </tr>\n",
       "    <tr>\n",
       "      <th>Date</th>\n",
       "      <th></th>\n",
       "      <th></th>\n",
       "    </tr>\n",
       "  </thead>\n",
       "  <tbody>\n",
       "    <tr>\n",
       "      <th>2020-09-01</th>\n",
       "      <td>5.3732</td>\n",
       "      <td>NaN</td>\n",
       "    </tr>\n",
       "    <tr>\n",
       "      <th>2020-09-02</th>\n",
       "      <td>5.3741</td>\n",
       "      <td>0.0009</td>\n",
       "    </tr>\n",
       "    <tr>\n",
       "      <th>2020-09-03</th>\n",
       "      <td>5.3079</td>\n",
       "      <td>-0.0662</td>\n",
       "    </tr>\n",
       "    <tr>\n",
       "      <th>2020-09-04</th>\n",
       "      <td>5.2848</td>\n",
       "      <td>-0.0231</td>\n",
       "    </tr>\n",
       "  </tbody>\n",
       "</table>\n",
       "</div>"
      ],
      "text/plain": [
       "               P_t    diff\n",
       "Date                      \n",
       "2020-09-01  5.3732     NaN\n",
       "2020-09-02  5.3741  0.0009\n",
       "2020-09-03  5.3079 -0.0662\n",
       "2020-09-04  5.2848 -0.0231"
      ]
     },
     "execution_count": 11,
     "metadata": {},
     "output_type": "execute_result"
    }
   ],
   "source": [
    "USDBRL = currency.get(\"USD\", start_date = '2020-09-01', end_date = '2020-09-04')[[('USD', 'ask')]]\n",
    "pd.concat([USDBRL, USDBRL.diff()], axis=1).set_axis(['P_t', 'diff'], axis=1)"
   ]
  },
  {
   "cell_type": "markdown",
   "metadata": {},
   "source": [
    "O primeiro elemento do vetor de diferenças é um `NaN` porque o cálculo das diferenças é entre o elemento corrente com o anterior e para o primeiro elemento não há um elemento anterior para realizar o cálculo, dessa forma o pandas mantém a estrutura de índices e indica que o resultado para o índice em questão não está disponível.\n",
    "\n",
    "> Usamos `set_axis` para renomear `USDBRL.diff()` que vem com o nome `ask`, que é o mesmo da série original.\n",
    "> Isso é interessante e uma ótima alternativa para organizar a apresentação dos dados.\n",
    "> Usamos também a função `concat` para *juntar* as séries de preço e diferenças.\n",
    "\n",
    "A série `diff` é a série de diferenças, logo, representa $\\Delta P_t$.\n",
    "\n",
    "Para realizar este cálculo de $R_t$ no R é necessário obter a série de $P_{t-1}$.\n",
    "Isso pode ser feito com o método `shift` da série temporal."
   ]
  },
  {
   "cell_type": "code",
   "execution_count": 12,
   "metadata": {},
   "outputs": [
    {
     "data": {
      "text/html": [
       "<div>\n",
       "<style scoped>\n",
       "    .dataframe tbody tr th:only-of-type {\n",
       "        vertical-align: middle;\n",
       "    }\n",
       "\n",
       "    .dataframe tbody tr th {\n",
       "        vertical-align: top;\n",
       "    }\n",
       "\n",
       "    .dataframe thead th {\n",
       "        text-align: right;\n",
       "    }\n",
       "</style>\n",
       "<table border=\"1\" class=\"dataframe\">\n",
       "  <thead>\n",
       "    <tr style=\"text-align: right;\">\n",
       "      <th></th>\n",
       "      <th>P_t</th>\n",
       "      <th>P_t1</th>\n",
       "      <th>diff</th>\n",
       "    </tr>\n",
       "    <tr>\n",
       "      <th>Date</th>\n",
       "      <th></th>\n",
       "      <th></th>\n",
       "      <th></th>\n",
       "    </tr>\n",
       "  </thead>\n",
       "  <tbody>\n",
       "    <tr>\n",
       "      <th>2020-09-01</th>\n",
       "      <td>5.3732</td>\n",
       "      <td>NaN</td>\n",
       "      <td>NaN</td>\n",
       "    </tr>\n",
       "    <tr>\n",
       "      <th>2020-09-02</th>\n",
       "      <td>5.3741</td>\n",
       "      <td>5.3732</td>\n",
       "      <td>0.0009</td>\n",
       "    </tr>\n",
       "    <tr>\n",
       "      <th>2020-09-03</th>\n",
       "      <td>5.3079</td>\n",
       "      <td>5.3741</td>\n",
       "      <td>-0.0662</td>\n",
       "    </tr>\n",
       "    <tr>\n",
       "      <th>2020-09-04</th>\n",
       "      <td>5.2848</td>\n",
       "      <td>5.3079</td>\n",
       "      <td>-0.0231</td>\n",
       "    </tr>\n",
       "  </tbody>\n",
       "</table>\n",
       "</div>"
      ],
      "text/plain": [
       "               P_t    P_t1    diff\n",
       "Date                              \n",
       "2020-09-01  5.3732     NaN     NaN\n",
       "2020-09-02  5.3741  5.3732  0.0009\n",
       "2020-09-03  5.3079  5.3741 -0.0662\n",
       "2020-09-04  5.2848  5.3079 -0.0231"
      ]
     },
     "execution_count": 12,
     "metadata": {},
     "output_type": "execute_result"
    }
   ],
   "source": [
    "pd.concat([USDBRL, USDBRL.shift(), USDBRL.diff()], axis=1).set_axis(['P_t', 'P_t1', 'diff'], axis=1)"
   ]
  },
  {
   "cell_type": "markdown",
   "metadata": {},
   "source": [
    "Note que essa função desloca a série tempora em 1 elemento adiante.\n",
    "Aqui a coluna `P_t1` refere-se a $P_{t-1}$.\n",
    "Uma boa forma de ler esse resultado é que em $t$  igual a `2020-09-02`, $P_{t-1}$ é `5.3732`, que é o valor de $P_t$ quando $t$ é `2020-09-01`, ou seja, o instante anterior.\n",
    "\n",
    "Assim, o retorno $R_t$ é calculado no pandas da seguinte maneira:"
   ]
  },
  {
   "cell_type": "code",
   "execution_count": 13,
   "metadata": {},
   "outputs": [
    {
     "data": {
      "text/html": [
       "<div>\n",
       "<style scoped>\n",
       "    .dataframe tbody tr th:only-of-type {\n",
       "        vertical-align: middle;\n",
       "    }\n",
       "\n",
       "    .dataframe tbody tr th {\n",
       "        vertical-align: top;\n",
       "    }\n",
       "\n",
       "    .dataframe thead th {\n",
       "        text-align: right;\n",
       "    }\n",
       "</style>\n",
       "<table border=\"1\" class=\"dataframe\">\n",
       "  <thead>\n",
       "    <tr style=\"text-align: right;\">\n",
       "      <th></th>\n",
       "      <th>R_t</th>\n",
       "    </tr>\n",
       "    <tr>\n",
       "      <th>Date</th>\n",
       "      <th></th>\n",
       "    </tr>\n",
       "  </thead>\n",
       "  <tbody>\n",
       "    <tr>\n",
       "      <th>2020-09-01</th>\n",
       "      <td>NaN</td>\n",
       "    </tr>\n",
       "    <tr>\n",
       "      <th>2020-09-02</th>\n",
       "      <td>0.000167</td>\n",
       "    </tr>\n",
       "    <tr>\n",
       "      <th>2020-09-03</th>\n",
       "      <td>-0.012318</td>\n",
       "    </tr>\n",
       "    <tr>\n",
       "      <th>2020-09-04</th>\n",
       "      <td>-0.004352</td>\n",
       "    </tr>\n",
       "  </tbody>\n",
       "</table>\n",
       "</div>"
      ],
      "text/plain": [
       "                 R_t\n",
       "Date                \n",
       "2020-09-01       NaN\n",
       "2020-09-02  0.000167\n",
       "2020-09-03 -0.012318\n",
       "2020-09-04 -0.004352"
      ]
     },
     "execution_count": 13,
     "metadata": {},
     "output_type": "execute_result"
    }
   ],
   "source": [
    "(USDBRL.diff() / USDBRL.shift()).set_axis(['R_t'], axis=1)"
   ]
  },
  {
   "cell_type": "markdown",
   "metadata": {},
   "source": [
    "Dessa forma calculamos os retornos simples para uma série temporal.\n",
    "Neste exemplo calculamos os retornos diários, pois a série é de cotações diárias.\n",
    "É comum trabalharmos com séries com períodos maiores como séries semanais, mensais ou anuais.\n",
    "Logo, utilizando ainda a série do Dólar Americano, vamos obter a série mensal de preços e desta série vamos obter a série de retornos mensais para o ano de 2019.\n"
   ]
  },
  {
   "cell_type": "code",
   "execution_count": 14,
   "metadata": {},
   "outputs": [
    {
     "data": {
      "text/html": [
       "<div>\n",
       "<style scoped>\n",
       "    .dataframe tbody tr th:only-of-type {\n",
       "        vertical-align: middle;\n",
       "    }\n",
       "\n",
       "    .dataframe tbody tr th {\n",
       "        vertical-align: top;\n",
       "    }\n",
       "\n",
       "    .dataframe thead tr th {\n",
       "        text-align: left;\n",
       "    }\n",
       "\n",
       "    .dataframe thead tr:last-of-type th {\n",
       "        text-align: right;\n",
       "    }\n",
       "</style>\n",
       "<table border=\"1\" class=\"dataframe\">\n",
       "  <thead>\n",
       "    <tr>\n",
       "      <th></th>\n",
       "      <th colspan=\"4\" halign=\"left\">USD</th>\n",
       "    </tr>\n",
       "    <tr>\n",
       "      <th></th>\n",
       "      <th colspan=\"4\" halign=\"left\">ask</th>\n",
       "    </tr>\n",
       "    <tr>\n",
       "      <th></th>\n",
       "      <th>open</th>\n",
       "      <th>high</th>\n",
       "      <th>low</th>\n",
       "      <th>close</th>\n",
       "    </tr>\n",
       "    <tr>\n",
       "      <th>Date</th>\n",
       "      <th></th>\n",
       "      <th></th>\n",
       "      <th></th>\n",
       "      <th></th>\n",
       "    </tr>\n",
       "  </thead>\n",
       "  <tbody>\n",
       "    <tr>\n",
       "      <th>2018-12-31</th>\n",
       "      <td>3.8748</td>\n",
       "      <td>3.8748</td>\n",
       "      <td>3.8748</td>\n",
       "      <td>3.8748</td>\n",
       "    </tr>\n",
       "    <tr>\n",
       "      <th>2019-01-31</th>\n",
       "      <td>3.8595</td>\n",
       "      <td>3.8595</td>\n",
       "      <td>3.6519</td>\n",
       "      <td>3.6519</td>\n",
       "    </tr>\n",
       "    <tr>\n",
       "      <th>2019-02-28</th>\n",
       "      <td>3.6694</td>\n",
       "      <td>3.7756</td>\n",
       "      <td>3.6694</td>\n",
       "      <td>3.7385</td>\n",
       "    </tr>\n",
       "    <tr>\n",
       "      <th>2019-03-31</th>\n",
       "      <td>3.7832</td>\n",
       "      <td>3.9682</td>\n",
       "      <td>3.7762</td>\n",
       "      <td>3.8967</td>\n",
       "    </tr>\n",
       "    <tr>\n",
       "      <th>2019-04-30</th>\n",
       "      <td>3.8682</td>\n",
       "      <td>3.9725</td>\n",
       "      <td>3.8345</td>\n",
       "      <td>3.9453</td>\n",
       "    </tr>\n",
       "    <tr>\n",
       "      <th>2019-05-31</th>\n",
       "      <td>3.9650</td>\n",
       "      <td>4.1056</td>\n",
       "      <td>3.9344</td>\n",
       "      <td>3.9407</td>\n",
       "    </tr>\n",
       "    <tr>\n",
       "      <th>2019-06-30</th>\n",
       "      <td>3.9003</td>\n",
       "      <td>3.9003</td>\n",
       "      <td>3.8234</td>\n",
       "      <td>3.8322</td>\n",
       "    </tr>\n",
       "    <tr>\n",
       "      <th>2019-07-31</th>\n",
       "      <td>3.8193</td>\n",
       "      <td>3.8564</td>\n",
       "      <td>3.7400</td>\n",
       "      <td>3.7649</td>\n",
       "    </tr>\n",
       "    <tr>\n",
       "      <th>2019-08-31</th>\n",
       "      <td>3.8296</td>\n",
       "      <td>4.1680</td>\n",
       "      <td>3.8296</td>\n",
       "      <td>4.1385</td>\n",
       "    </tr>\n",
       "    <tr>\n",
       "      <th>2019-09-30</th>\n",
       "      <td>4.1581</td>\n",
       "      <td>4.1827</td>\n",
       "      <td>4.0494</td>\n",
       "      <td>4.1644</td>\n",
       "    </tr>\n",
       "    <tr>\n",
       "      <th>2019-10-31</th>\n",
       "      <td>4.1740</td>\n",
       "      <td>4.1740</td>\n",
       "      <td>3.9793</td>\n",
       "      <td>4.0041</td>\n",
       "    </tr>\n",
       "    <tr>\n",
       "      <th>2019-11-30</th>\n",
       "      <td>3.9786</td>\n",
       "      <td>4.2602</td>\n",
       "      <td>3.9786</td>\n",
       "      <td>4.2240</td>\n",
       "    </tr>\n",
       "    <tr>\n",
       "      <th>2019-12-31</th>\n",
       "      <td>4.2261</td>\n",
       "      <td>4.2261</td>\n",
       "      <td>4.0307</td>\n",
       "      <td>4.0307</td>\n",
       "    </tr>\n",
       "  </tbody>\n",
       "</table>\n",
       "</div>"
      ],
      "text/plain": [
       "               USD                        \n",
       "               ask                        \n",
       "              open    high     low   close\n",
       "Date                                      \n",
       "2018-12-31  3.8748  3.8748  3.8748  3.8748\n",
       "2019-01-31  3.8595  3.8595  3.6519  3.6519\n",
       "2019-02-28  3.6694  3.7756  3.6694  3.7385\n",
       "2019-03-31  3.7832  3.9682  3.7762  3.8967\n",
       "2019-04-30  3.8682  3.9725  3.8345  3.9453\n",
       "2019-05-31  3.9650  4.1056  3.9344  3.9407\n",
       "2019-06-30  3.9003  3.9003  3.8234  3.8322\n",
       "2019-07-31  3.8193  3.8564  3.7400  3.7649\n",
       "2019-08-31  3.8296  4.1680  3.8296  4.1385\n",
       "2019-09-30  4.1581  4.1827  4.0494  4.1644\n",
       "2019-10-31  4.1740  4.1740  3.9793  4.0041\n",
       "2019-11-30  3.9786  4.2602  3.9786  4.2240\n",
       "2019-12-31  4.2261  4.2261  4.0307  4.0307"
      ]
     },
     "execution_count": 14,
     "metadata": {},
     "output_type": "execute_result"
    }
   ],
   "source": [
    "USDBRL_2019 = currency.get(\"USD\", start_date='2018-12-31', end_date='2019-12-31')[[('USD', 'ask')]]\n",
    "\n",
    "USDBRL_2019_monthly = USDBRL_2019.resample('M').ohlc()\n",
    "\n",
    "USDBRL_2019_monthly"
   ]
  },
  {
   "cell_type": "markdown",
   "metadata": {},
   "source": [
    "\n",
    "Note que aqui o argumento `start_date = \"2018-12-31\"`, definimos dessa maneira para que a série de preços começe com os dados de dezembro/2018 e assim ao construirmos a série mensal para o cálculo dos retornos tenhamos o retorno de janeiro/2019.\n",
    "De outra forma teríamos o retorno de janeiro/2019 igual a `NaN`.\n",
    "\n",
    "Agora vamos calcular os retornos simples para a série mensal de cotações do Dólar Americano."
   ]
  },
  {
   "cell_type": "code",
   "execution_count": 15,
   "metadata": {},
   "outputs": [],
   "source": [
    "USDBRL_2019_monthly = USDBRL_2019_monthly[('USD', 'ask')][['close']]\n",
    "\n",
    "USDBRL_2019_monthly_returns = (USDBRL_2019_monthly.diff() / USDBRL_2019_monthly.shift()).set_axis(['R_t'], axis=1)"
   ]
  },
  {
   "cell_type": "code",
   "execution_count": 16,
   "metadata": {},
   "outputs": [
    {
     "data": {
      "text/html": [
       "<div>\n",
       "<style scoped>\n",
       "    .dataframe tbody tr th:only-of-type {\n",
       "        vertical-align: middle;\n",
       "    }\n",
       "\n",
       "    .dataframe tbody tr th {\n",
       "        vertical-align: top;\n",
       "    }\n",
       "\n",
       "    .dataframe thead th {\n",
       "        text-align: right;\n",
       "    }\n",
       "</style>\n",
       "<table border=\"1\" class=\"dataframe\">\n",
       "  <thead>\n",
       "    <tr style=\"text-align: right;\">\n",
       "      <th></th>\n",
       "      <th>R_t</th>\n",
       "    </tr>\n",
       "    <tr>\n",
       "      <th>Date</th>\n",
       "      <th></th>\n",
       "    </tr>\n",
       "  </thead>\n",
       "  <tbody>\n",
       "    <tr>\n",
       "      <th>2018-12-31</th>\n",
       "      <td>NaN</td>\n",
       "    </tr>\n",
       "    <tr>\n",
       "      <th>2019-01-31</th>\n",
       "      <td>-0.057526</td>\n",
       "    </tr>\n",
       "    <tr>\n",
       "      <th>2019-02-28</th>\n",
       "      <td>0.023714</td>\n",
       "    </tr>\n",
       "    <tr>\n",
       "      <th>2019-03-31</th>\n",
       "      <td>0.042316</td>\n",
       "    </tr>\n",
       "    <tr>\n",
       "      <th>2019-04-30</th>\n",
       "      <td>0.012472</td>\n",
       "    </tr>\n",
       "    <tr>\n",
       "      <th>2019-05-31</th>\n",
       "      <td>-0.001166</td>\n",
       "    </tr>\n",
       "    <tr>\n",
       "      <th>2019-06-30</th>\n",
       "      <td>-0.027533</td>\n",
       "    </tr>\n",
       "    <tr>\n",
       "      <th>2019-07-31</th>\n",
       "      <td>-0.017562</td>\n",
       "    </tr>\n",
       "    <tr>\n",
       "      <th>2019-08-31</th>\n",
       "      <td>0.099232</td>\n",
       "    </tr>\n",
       "    <tr>\n",
       "      <th>2019-09-30</th>\n",
       "      <td>0.006258</td>\n",
       "    </tr>\n",
       "    <tr>\n",
       "      <th>2019-10-31</th>\n",
       "      <td>-0.038493</td>\n",
       "    </tr>\n",
       "    <tr>\n",
       "      <th>2019-11-30</th>\n",
       "      <td>0.054919</td>\n",
       "    </tr>\n",
       "    <tr>\n",
       "      <th>2019-12-31</th>\n",
       "      <td>-0.045762</td>\n",
       "    </tr>\n",
       "  </tbody>\n",
       "</table>\n",
       "</div>"
      ],
      "text/plain": [
       "                 R_t\n",
       "Date                \n",
       "2018-12-31       NaN\n",
       "2019-01-31 -0.057526\n",
       "2019-02-28  0.023714\n",
       "2019-03-31  0.042316\n",
       "2019-04-30  0.012472\n",
       "2019-05-31 -0.001166\n",
       "2019-06-30 -0.027533\n",
       "2019-07-31 -0.017562\n",
       "2019-08-31  0.099232\n",
       "2019-09-30  0.006258\n",
       "2019-10-31 -0.038493\n",
       "2019-11-30  0.054919\n",
       "2019-12-31 -0.045762"
      ]
     },
     "execution_count": 16,
     "metadata": {},
     "output_type": "execute_result"
    }
   ],
   "source": [
    "USDBRL_2019_monthly_returns"
   ]
  },
  {
   "cell_type": "markdown",
   "metadata": {},
   "source": [
    "Visualizando os dados em um gráfico de barras."
   ]
  },
  {
   "cell_type": "code",
   "execution_count": 17,
   "metadata": {},
   "outputs": [
    {
     "data": {
      "image/png": "[encoded data removed]",
      "text/plain": [
       "<Figure size 1080x360 with 1 Axes>"
      ]
     },
     "metadata": {
      "needs_background": "light"
     },
     "output_type": "display_data"
    }
   ],
   "source": [
    "USDBRL_2019_monthly_returns\\\n",
    "    .reset_index()\\\n",
    "    .assign(Date=lambda x: x['Date'].dt.strftime('%m/%y'))\\\n",
    "    .plot.bar(x='Date', y='R_t', rot=0, figsize=(15,5));"
   ]
  },
  {
   "cell_type": "markdown",
   "metadata": {},
   "source": [
    "### Entendendo os preços em função dos retornos\n",
    "\n",
    "Vimos com escrever os retornos em função dos preços, uma outra forma de entender os retornos simples é inverter a equação de retornos simples ($R_t$) e escrevê-la em termos do preço $P_t$.\n",
    "\n",
    "\\begin{equation}\n",
    "P_t = P_{t-1} (1 + R_t) = P_{t-1} + R_t P_{t-1}\n",
    "%(\\#eq:arithmetic-price)\n",
    "\\end{equation}\n",
    "\n",
    "O preço $P_t$ pode ser interpretado como um choque do retorno $R_t$ no preço $P_{t-1}$.\n",
    "O retorno $R_t$ está associado ao período entre os instantes $t$ e $t-1$, de forma análoga, $R_{t-1}$ está associado aos instantes $t-1$ e $t-2$, e assim por diante para diferentes valores de $t$.\n",
    "Por isso o retorno simples também é conhecido como **retorno discreto**, pois, para cada período entre instantes dois instantes de tempo temos um choque discreto associado a cada movimento dos preços.\n",
    "\n",
    "### Composição de retornos simples\n",
    "\n",
    "Vimos como obter a série de retornos a partir da série de preços de um ativo.\n",
    "Agora vamos ver como obter a série de preços a partir da série de retornos e para isso é necessário entender como compor os retornos.\n",
    "\n",
    "A composição de retornos ajuda a responder a pergunta: Dado que temos os retornos simples de dois meses consecutivos, qual é o retorno total nos dois meses?\n",
    "Para obter os retornos mensais partimos da série de preços diários, para obter os retornos de 2 meses podemos partir da série de preços de 2 meses.\n",
    "Contudo, podemos partir da série de retornos mensais e criar uma série de retornos bimestrais compondo os retornos mensais.\n",
    "Isso vale para dois meses e vale para $N$ meses, podemos construir séries de retornos trimestrais, semestrais e assim por diante.\n",
    "\n",
    "Vamos começar com um exemplo estático.\n",
    "Da série `USDBRL_2019_monthly_returns` vamos pegar os retonos dos últimos 2 meses, novembro e dezembro de 2019."
   ]
  },
  {
   "cell_type": "code",
   "execution_count": 18,
   "metadata": {},
   "outputs": [
    {
     "data": {
      "text/html": [
       "<div>\n",
       "<style scoped>\n",
       "    .dataframe tbody tr th:only-of-type {\n",
       "        vertical-align: middle;\n",
       "    }\n",
       "\n",
       "    .dataframe tbody tr th {\n",
       "        vertical-align: top;\n",
       "    }\n",
       "\n",
       "    .dataframe thead th {\n",
       "        text-align: right;\n",
       "    }\n",
       "</style>\n",
       "<table border=\"1\" class=\"dataframe\">\n",
       "  <thead>\n",
       "    <tr style=\"text-align: right;\">\n",
       "      <th></th>\n",
       "      <th>R_t</th>\n",
       "    </tr>\n",
       "    <tr>\n",
       "      <th>Date</th>\n",
       "      <th></th>\n",
       "    </tr>\n",
       "  </thead>\n",
       "  <tbody>\n",
       "    <tr>\n",
       "      <th>2019-11-30</th>\n",
       "      <td>0.054919</td>\n",
       "    </tr>\n",
       "    <tr>\n",
       "      <th>2019-12-31</th>\n",
       "      <td>-0.045762</td>\n",
       "    </tr>\n",
       "  </tbody>\n",
       "</table>\n",
       "</div>"
      ],
      "text/plain": [
       "                 R_t\n",
       "Date                \n",
       "2019-11-30  0.054919\n",
       "2019-12-31 -0.045762"
      ]
     },
     "execution_count": 18,
     "metadata": {},
     "output_type": "execute_result"
    }
   ],
   "source": [
    "USDBRL_2019_monthly_returns.tail(2)"
   ]
  },
  {
   "cell_type": "markdown",
   "metadata": {},
   "source": [
    "Em novembro/2019 tivemos um retorno de 5,49% e em dezembro/2019 um retorno negativo de -4,57%.\n",
    "O retorno total no período é dado pela equação\n",
    "\n",
    "\\begin{equation}\n",
    "R_{nov-dez/19} = (1 + R_{nov/19})(1 + R_{dez/19}) - 1\n",
    "%(\\#eq:simple-return-composed-2-months)\n",
    "\\end{equation}\n",
    "\n",
    "Dessa forma, no pandas, utilizamos o método `prod` para calcular o retorno composto para este período."
   ]
  },
  {
   "cell_type": "code",
   "execution_count": 19,
   "metadata": {},
   "outputs": [
    {
     "data": {
      "text/plain": [
       "R_t    0.006643\n",
       "dtype: float64"
      ]
     },
     "execution_count": 19,
     "metadata": {},
     "output_type": "execute_result"
    }
   ],
   "source": [
    "(1 + USDBRL_2019_monthly_returns.tail(2)).prod() - 1"
   ]
  },
  {
   "cell_type": "markdown",
   "metadata": {},
   "source": [
    "O retorno total é de 0,66%, praticamente zero, devido a queda de dezembro.\n",
    "\n",
    "Mas de onde vem a equação $R_{nov-dez/19}$?\n",
    "Vamos demostrar.\n",
    "\n",
    "Temos os retonos $R_t$ e $R_{t-1}$ referentes aos meses de novembro e dezembro de 2019.\n",
    "Vamos começar escrevendo o preço $P_t$ conforme a equação do preço.\n",
    "\n",
    "\\begin{equation}\n",
    "P_t = P_{t-1} (1 + R_t)\n",
    "\\end{equation}\n",
    "\n",
    "Aqui temos o preço de dezembro/2019 ($t$) como função do preço de novembro/2019 ($t-1$).\n",
    "Vamos escrever $P_{t-1}$ também segundo a equação do preço substituindo na equação acima.\n",
    "\n",
    "\\begin{equation}\n",
    "P_t = P_{t-2} (1 + R_{t-1}) (1 + R_t)\n",
    "\\end{equation}\n",
    "\n",
    "Agora temos o preço de dezembro/2019 ($t$) como função do preço de outubro/2019 ($t-2$)\n",
    "Temos também os retornos $R_t$ e $R_{t-1}$ compostos produzindo o retorno total no período de novembro-dezembro/2019.\n",
    "Para simplificar podemos escrever\n",
    "\n",
    "\\begin{equation}\n",
    "P_t = P_{t-2} (1 + \\bar{R}_{2})\n",
    "\\end{equation}\n",
    "\n",
    "onde $(1 + \\bar{R}_{2})$ é o retorno total no período de dois meses.\n",
    "\n",
    "Generalizando para $N$ meses (ou dias, ou anos) temos que o retorno total neste período é dado por:\n",
    "\n",
    "\\begin{equation}\n",
    "(1 + \\bar{R}_{N}) = \\prod_{i=0}^{N-1} (1 + R_{t-i})\n",
    "%(\\#eq:simple-return-composed)\n",
    "\\end{equation}\n",
    "\n",
    "Podemos calcular o retorno simples para todo o ano de 2019 utilizando o método `prod` do DataFrame pandas."
   ]
  },
  {
   "cell_type": "code",
   "execution_count": 20,
   "metadata": {},
   "outputs": [
    {
     "data": {
      "text/plain": [
       "R_t    0.040234\n",
       "dtype: float64"
      ]
     },
     "execution_count": 20,
     "metadata": {},
     "output_type": "execute_result"
    }
   ],
   "source": [
    "(1 + USDBRL_2019_monthly_returns.dropna()).prod() - 1"
   ]
  },
  {
   "cell_type": "markdown",
   "metadata": {},
   "source": [
    "Dessa forma descobrimos que no ano de 2019 o Dólar Americano teve uma valorização de 4,02%.\n",
    "\n",
    "Foi necessário utilizar o método `dropna` para remover o `NaN` do primeiro elemento do cálculo dos produtos acumulados.\n",
    "\n",
    "<!-- > As funções `cumsum`, `cumprod`, `cummax` e `cummin` não possuem o argumento `na.rm` que exclui os elementos com `NA` da operação, como acontece com as funções `sum`, `prod`, `max` e `min`.\n",
    "> Por este motivo é importante fazer este tratamento antes de executar estas funções.\n",
    " -->\n",
    " \n",
    "No pandas podemos ainda calcular o calcular a série de retornos simples compostos usando o método `cumprod`:"
   ]
  },
  {
   "cell_type": "code",
   "execution_count": 21,
   "metadata": {},
   "outputs": [
    {
     "data": {
      "text/html": [
       "<div>\n",
       "<style scoped>\n",
       "    .dataframe tbody tr th:only-of-type {\n",
       "        vertical-align: middle;\n",
       "    }\n",
       "\n",
       "    .dataframe tbody tr th {\n",
       "        vertical-align: top;\n",
       "    }\n",
       "\n",
       "    .dataframe thead th {\n",
       "        text-align: right;\n",
       "    }\n",
       "</style>\n",
       "<table border=\"1\" class=\"dataframe\">\n",
       "  <thead>\n",
       "    <tr style=\"text-align: right;\">\n",
       "      <th></th>\n",
       "      <th>R_t</th>\n",
       "    </tr>\n",
       "    <tr>\n",
       "      <th>Date</th>\n",
       "      <th></th>\n",
       "    </tr>\n",
       "  </thead>\n",
       "  <tbody>\n",
       "    <tr>\n",
       "      <th>2019-01-31</th>\n",
       "      <td>-0.057526</td>\n",
       "    </tr>\n",
       "    <tr>\n",
       "      <th>2019-02-28</th>\n",
       "      <td>-0.035176</td>\n",
       "    </tr>\n",
       "    <tr>\n",
       "      <th>2019-03-31</th>\n",
       "      <td>0.005652</td>\n",
       "    </tr>\n",
       "    <tr>\n",
       "      <th>2019-04-30</th>\n",
       "      <td>0.018194</td>\n",
       "    </tr>\n",
       "    <tr>\n",
       "      <th>2019-05-31</th>\n",
       "      <td>0.017007</td>\n",
       "    </tr>\n",
       "    <tr>\n",
       "      <th>2019-06-30</th>\n",
       "      <td>-0.010994</td>\n",
       "    </tr>\n",
       "    <tr>\n",
       "      <th>2019-07-31</th>\n",
       "      <td>-0.028363</td>\n",
       "    </tr>\n",
       "    <tr>\n",
       "      <th>2019-08-31</th>\n",
       "      <td>0.068055</td>\n",
       "    </tr>\n",
       "    <tr>\n",
       "      <th>2019-09-30</th>\n",
       "      <td>0.074739</td>\n",
       "    </tr>\n",
       "    <tr>\n",
       "      <th>2019-10-31</th>\n",
       "      <td>0.033369</td>\n",
       "    </tr>\n",
       "    <tr>\n",
       "      <th>2019-11-30</th>\n",
       "      <td>0.090121</td>\n",
       "    </tr>\n",
       "    <tr>\n",
       "      <th>2019-12-31</th>\n",
       "      <td>0.040234</td>\n",
       "    </tr>\n",
       "  </tbody>\n",
       "</table>\n",
       "</div>"
      ],
      "text/plain": [
       "                 R_t\n",
       "Date                \n",
       "2019-01-31 -0.057526\n",
       "2019-02-28 -0.035176\n",
       "2019-03-31  0.005652\n",
       "2019-04-30  0.018194\n",
       "2019-05-31  0.017007\n",
       "2019-06-30 -0.010994\n",
       "2019-07-31 -0.028363\n",
       "2019-08-31  0.068055\n",
       "2019-09-30  0.074739\n",
       "2019-10-31  0.033369\n",
       "2019-11-30  0.090121\n",
       "2019-12-31  0.040234"
      ]
     },
     "execution_count": 21,
     "metadata": {},
     "output_type": "execute_result"
    }
   ],
   "source": [
    "(1 + USDBRL_2019_monthly_returns.dropna()).cumprod() - 1"
   ]
  },
  {
   "cell_type": "markdown",
   "metadata": {},
   "source": [
    "### Visualização de retornos compostos\n",
    "\n",
    "Vamos ver aqui algumas formas de visualizar os retornos acumulados que aparecem em diversos sites de comparação de ativos.\n",
    "\n",
    "Dados os retornos mensais `USDBRL_2019_monthly_returns` vamos ver um gráfico de barras simples usando o código acima."
   ]
  },
  {
   "cell_type": "code",
   "execution_count": 22,
   "metadata": {},
   "outputs": [
    {
     "data": {
      "image/png": "[encoded data removed]",
      "text/plain": [
       "<Figure size 1080x360 with 1 Axes>"
      ]
     },
     "metadata": {
      "needs_background": "light"
     },
     "output_type": "display_data"
    }
   ],
   "source": [
    "((1 + USDBRL_2019_monthly_returns.dropna()).cumprod() - 1)\\\n",
    "    .reset_index()\\\n",
    "    .assign(Date=lambda x: x['Date'].dt.strftime('%m/%y'))\\\n",
    "    .plot.bar(x='Date', y='R_t', rot=0, figsize=(15,5));"
   ]
  },
  {
   "cell_type": "markdown",
   "metadata": {},
   "source": [
    "É possível notar que o grande resultado para o ano do Dólar Americano ocorreu em julho/2019, após este mês ele ficou de lado mantendo esse resultado.\n",
    "\n",
    "Uma outra forma interessante de ver o resultado dos retornos acumulados no tempo é visualizar o gráfico de linha dos retornos acumulados"
   ]
  },
  {
   "cell_type": "code",
   "execution_count": 23,
   "metadata": {},
   "outputs": [
    {
     "data": {
      "image/png": "[encoded data removed]",
      "text/plain": [
       "<Figure size 1080x360 with 1 Axes>"
      ]
     },
     "metadata": {
      "needs_background": "light"
     },
     "output_type": "display_data"
    }
   ],
   "source": [
    "((1 + USDBRL_2019_monthly_returns.dropna()).cumprod() - 1).plot(figsize=(15,5), grid=True);"
   ]
  },
  {
   "cell_type": "markdown",
   "metadata": {},
   "source": [
    "Note que ao fim do período temos os mesmos 4,02% acumulados, apenas sendo consistente.\n",
    "\n",
    "Também podemos fazer para toda a série acumulada.\n"
   ]
  },
  {
   "cell_type": "code",
   "execution_count": 24,
   "metadata": {},
   "outputs": [
    {
     "data": {
      "image/png": "[encoded data removed]",
      "text/plain": [
       "<Figure size 1080x360 with 1 Axes>"
      ]
     },
     "metadata": {
      "needs_background": "light"
     },
     "output_type": "display_data"
    }
   ],
   "source": [
    "USDBRL_2019\\\n",
    "    .apply(lambda x: x.diff() / x.shift())\\\n",
    "    .apply(lambda x: (1 + x).cumprod())\\\n",
    "    .set_axis(['R_t'], axis=1)\\\n",
    "    .plot(figsize=(15,5), grid=True, title='Retorno diário acumulado');"
   ]
  },
  {
   "cell_type": "markdown",
   "metadata": {},
   "source": [
    "Mais interessante é comparar mais de 1 ativos, vamos pegar 3 moedas: USD, CNY e GBP."
   ]
  },
  {
   "cell_type": "code",
   "execution_count": 25,
   "metadata": {},
   "outputs": [],
   "source": [
    "x = currency.get(['USD', 'CNY', 'GBP'], start_date='2018-12-31', end_date='2019-12-31')"
   ]
  },
  {
   "cell_type": "code",
   "execution_count": 26,
   "metadata": {},
   "outputs": [
    {
     "data": {
      "image/png": "[encoded data removed]",
      "text/plain": [
       "<Figure size 1080x360 with 1 Axes>"
      ]
     },
     "metadata": {
      "needs_background": "light"
     },
     "output_type": "display_data"
    }
   ],
   "source": [
    "x.loc[:,pd.IndexSlice[:, 'ask']]\\\n",
    "    .set_axis(['USD', 'CNY', 'GBP'], axis=1)\\\n",
    "    .apply(lambda x: x.diff() / x.shift())\\\n",
    "    .apply(lambda x: (1 + x).cumprod())\\\n",
    "    .plot(figsize=(15,5), grid=True, title='Retorno diário acumulado');"
   ]
  },
  {
   "cell_type": "markdown",
   "metadata": {},
   "source": [
    "Outra abordagem interessante é poder usar as cores para destacar uma série específica."
   ]
  },
  {
   "cell_type": "code",
   "execution_count": 27,
   "metadata": {},
   "outputs": [
    {
     "data": {
      "image/png": "[encoded data removed]",
      "text/plain": [
       "<Figure size 1080x360 with 1 Axes>"
      ]
     },
     "metadata": {
      "needs_background": "light"
     },
     "output_type": "display_data"
    }
   ],
   "source": [
    "x.loc[:,pd.IndexSlice[:, 'ask']]\\\n",
    "    .set_axis(['USD', 'CNY', 'GBP'], axis=1)\\\n",
    "    .apply(lambda x: x.diff() / x.shift())\\\n",
    "    .apply(lambda x: (1 + x).cumprod())\\\n",
    "    .plot(figsize=(15,5), grid=True, title='Retorno diário acumulado', color=['gray', 'red', 'gray']);"
   ]
  },
  {
   "cell_type": "markdown",
   "metadata": {},
   "source": [
    "### Retorno médio \n",
    "\n",
    "Outra pergunta interessante para se fazer aqui é: Tá ok, eu sei que o retorno simples para o Dólar Americano em 2019 foi de 10,37%, mas qual é o retorno mensal médio de 2019?\n",
    "Este seria o retorno que poderíamos comparar com outros investimentos que também apresentam retornos mensais, como a Poupança por exemplo.\n",
    "\n",
    "Sabendo que o retorno simples no período é dado pela Eq.\\@ref(eq:simple-return-composed), podemos considerar que os retornos $R_t$ são constantes e iguais a $\\hat{R}$.\n",
    "Assim teríamos,\n",
    "\n",
    "\\begin{equation}\n",
    "\\begin{array}{lcr}\n",
    "(1 + \\bar{R}_{N}) & = & \\prod_{i=0}^{N-1} (1 + \\hat{R}) \\\\\n",
    "                  & = & (1 + \\hat{R})^N\n",
    "\\end{array}\n",
    "\\end{equation}\n",
    "\n",
    "Consequentemente temos\n",
    "\n",
    "\\begin{equation}\n",
    "(1 + \\hat{R}) = (1 + \\bar{R}_{N})^{\\frac{1}{N}}\n",
    "%#(\\#eq:simple-mean-return-composed)\n",
    "\\end{equation}\n",
    "\n",
    "É uma média geométrica dos retornos simples\n",
    "\n",
    "$$\n",
    "1 + \\hat{R} = \\left( \\prod_{i=0}^{N-1} (1 + R_{t-i}) \\right)^{\\frac{1}{N}}\n",
    "$$\n",
    "\n",
    "> Esta é a razão pela qual é incorreto calcular a média aritimética dos retornos simples.\n",
    "\n",
    "No Python calculamos essa operação usando a função de exponenciação `np.power` do `numpy`."
   ]
  },
  {
   "cell_type": "code",
   "execution_count": 28,
   "metadata": {},
   "outputs": [
    {
     "data": {
      "text/plain": [
       "R_t    0.003293\n",
       "dtype: float64"
      ]
     },
     "execution_count": 28,
     "metadata": {},
     "output_type": "execute_result"
    }
   ],
   "source": [
    "R_med = np.power((1 + USDBRL_2019_monthly_returns.dropna()).prod(), 1 / len(USDBRL_2019_monthly_returns.dropna())) - 1\n",
    "R_med"
   ]
  },
  {
   "cell_type": "markdown",
   "metadata": {},
   "source": [
    "Obtemos 0,33% ao mês! Para efeito de comparação, vamos considerar a taxa SELIC (taxa básica de juros na economia), esta taxa é de 2,0% ao ano.\n",
    "Podemos calcular o seu equivalente mensal aplicando a mesma fórmula.\n"
   ]
  },
  {
   "cell_type": "code",
   "execution_count": 29,
   "metadata": {},
   "outputs": [
    {
     "data": {
      "text/plain": [
       "0.0016515813019202241"
      ]
     },
     "execution_count": 29,
     "metadata": {},
     "output_type": "execute_result"
    }
   ],
   "source": [
    "SELIC = 0.02\n",
    "SELIC_med = (1 + SELIC) ** (1 / 12) - 1\n",
    "SELIC_med"
   ]
  },
  {
   "cell_type": "markdown",
   "metadata": {},
   "source": [
    "Temos 0,17%, aproximadamente a metade do retorno obtido com o Dólar Americano no ano de 2019."
   ]
  },
  {
   "cell_type": "markdown",
   "metadata": {},
   "source": [
    "## Retornos logaritimicos\n",
    "\n",
    "Os retornos logaritimicos são dados pela diferença entre os logarítimos dos preços dos ativos.\n",
    "\n",
    "\\begin{equation}\n",
    "r_t = \\log \\left( \\frac{P_t}{P_{t-1}} \\right) = \\log P_t - \\log P_{t-1} = p_t - p_{t-1}\n",
    "%(\\#eq:log-return)\n",
    "\\end{equation}\n",
    "\n",
    "No Python fazemos como na equação acima, tiramos a diferença dos logaritimos dos preços $P_t$.\n",
    "Os logaritimos são calculados com a função `np.log`, que retorna um DataFrame (ou um Series, dependendo do que for passado), e a diferença é calculada com o método `diff` do pandas."
   ]
  },
  {
   "cell_type": "code",
   "execution_count": 30,
   "metadata": {},
   "outputs": [
    {
     "data": {
      "text/html": [
       "<div>\n",
       "<style scoped>\n",
       "    .dataframe tbody tr th:only-of-type {\n",
       "        vertical-align: middle;\n",
       "    }\n",
       "\n",
       "    .dataframe tbody tr th {\n",
       "        vertical-align: top;\n",
       "    }\n",
       "\n",
       "    .dataframe thead th {\n",
       "        text-align: right;\n",
       "    }\n",
       "</style>\n",
       "<table border=\"1\" class=\"dataframe\">\n",
       "  <thead>\n",
       "    <tr style=\"text-align: right;\">\n",
       "      <th></th>\n",
       "      <th>r_t</th>\n",
       "    </tr>\n",
       "    <tr>\n",
       "      <th>Date</th>\n",
       "      <th></th>\n",
       "    </tr>\n",
       "  </thead>\n",
       "  <tbody>\n",
       "    <tr>\n",
       "      <th>2020-09-01</th>\n",
       "      <td>NaN</td>\n",
       "    </tr>\n",
       "    <tr>\n",
       "      <th>2020-09-02</th>\n",
       "      <td>0.000167</td>\n",
       "    </tr>\n",
       "    <tr>\n",
       "      <th>2020-09-03</th>\n",
       "      <td>-0.012395</td>\n",
       "    </tr>\n",
       "    <tr>\n",
       "      <th>2020-09-04</th>\n",
       "      <td>-0.004362</td>\n",
       "    </tr>\n",
       "  </tbody>\n",
       "</table>\n",
       "</div>"
      ],
      "text/plain": [
       "                 r_t\n",
       "Date                \n",
       "2020-09-01       NaN\n",
       "2020-09-02  0.000167\n",
       "2020-09-03 -0.012395\n",
       "2020-09-04 -0.004362"
      ]
     },
     "execution_count": 30,
     "metadata": {},
     "output_type": "execute_result"
    }
   ],
   "source": [
    "np.log(USDBRL).diff()\\\n",
    "    .set_axis(['r_t'], axis=1)"
   ]
  },
  {
   "cell_type": "markdown",
   "metadata": {},
   "source": [
    "Como o termo *retorno logaritimico* é muito extenso pra escrever e falar, vamos usar com mais frequência o termo **log-retorno**.\n"
   ]
  },
  {
   "cell_type": "markdown",
   "metadata": {},
   "source": [
    "### Entendendo os preços em função dos retornos\n",
    "\n",
    "Invertendo a equação de log-retorno para obter a equação dos preços, da mesma maneira que fizemos com a equação dos retornos simples, temos:\n",
    "\n",
    "\\begin{equation}\n",
    "P_t =  P_{t-1} \\exp\\left( r_t \\right)\n",
    "%(\\#eq:log-price)\n",
    "\\end{equation}\n",
    "\n",
    "### Composição dos log-retornos\n",
    "\n",
    "A composição dos log-retornos se dá da seguinte forma:\n",
    "\n",
    "\\begin{equation}\n",
    "\\exp(\\bar{r}_{N}) = \\prod_{i=0}^{N-1} \\exp(r_{t-i}) = \\exp\\left(\\sum_{i=0}^{N-1} r_{t-i}\\right)\n",
    "\\end{equation}\n",
    "\n",
    "Dessa forma temos que o log-retorno no período, $\\bar{r}_{N}$, é dado pela **soma** dos retornos\n",
    "\n",
    "\\begin{equation}\n",
    "\\bar{r}_{N} = \\sum_{i=0}^{N-1} r_{t-i}\n",
    "%(\\#eq:log-return-composed)\n",
    "\\end{equation}\n",
    "\n",
    "Podemos calcular o log-retorno no período usando o método `sum` do objeto Series.\n",
    "Usando a série de preços do Dólar Americano em 2019, temos:"
   ]
  },
  {
   "cell_type": "code",
   "execution_count": 31,
   "metadata": {},
   "outputs": [
    {
     "data": {
      "text/plain": [
       "close    0.039446\n",
       "dtype: float64"
      ]
     },
     "execution_count": 31,
     "metadata": {},
     "output_type": "execute_result"
    }
   ],
   "source": [
    "np.log(USDBRL_2019_monthly).diff().sum()"
   ]
  },
  {
   "cell_type": "markdown",
   "metadata": {},
   "source": [
    "Note que o log-retorno referente a 2019 é 3.94%, ligeiramente menor que o obtido com o retorno simples, que foi de 4,02%.\n",
    "Entretanto, estas duas abordagens são equivalentes, vamos ver isso em mais detalhes na seção de equivalência de retornos.\n",
    "\n",
    "Podemos ainda no pandas calcular a série de log-retornos compostos usando o método `cumsum`, da mesma forma que fizemos com os retornos simples."
   ]
  },
  {
   "cell_type": "code",
   "execution_count": 32,
   "metadata": {},
   "outputs": [
    {
     "data": {
      "text/html": [
       "<div>\n",
       "<style scoped>\n",
       "    .dataframe tbody tr th:only-of-type {\n",
       "        vertical-align: middle;\n",
       "    }\n",
       "\n",
       "    .dataframe tbody tr th {\n",
       "        vertical-align: top;\n",
       "    }\n",
       "\n",
       "    .dataframe thead th {\n",
       "        text-align: right;\n",
       "    }\n",
       "</style>\n",
       "<table border=\"1\" class=\"dataframe\">\n",
       "  <thead>\n",
       "    <tr style=\"text-align: right;\">\n",
       "      <th></th>\n",
       "      <th>close</th>\n",
       "    </tr>\n",
       "    <tr>\n",
       "      <th>Date</th>\n",
       "      <th></th>\n",
       "    </tr>\n",
       "  </thead>\n",
       "  <tbody>\n",
       "    <tr>\n",
       "      <th>2018-12-31</th>\n",
       "      <td>NaN</td>\n",
       "    </tr>\n",
       "    <tr>\n",
       "      <th>2019-01-31</th>\n",
       "      <td>-0.059246</td>\n",
       "    </tr>\n",
       "    <tr>\n",
       "      <th>2019-02-28</th>\n",
       "      <td>-0.035810</td>\n",
       "    </tr>\n",
       "    <tr>\n",
       "      <th>2019-03-31</th>\n",
       "      <td>0.005636</td>\n",
       "    </tr>\n",
       "    <tr>\n",
       "      <th>2019-04-30</th>\n",
       "      <td>0.018031</td>\n",
       "    </tr>\n",
       "    <tr>\n",
       "      <th>2019-05-31</th>\n",
       "      <td>0.016864</td>\n",
       "    </tr>\n",
       "    <tr>\n",
       "      <th>2019-06-30</th>\n",
       "      <td>-0.011055</td>\n",
       "    </tr>\n",
       "    <tr>\n",
       "      <th>2019-07-31</th>\n",
       "      <td>-0.028773</td>\n",
       "    </tr>\n",
       "    <tr>\n",
       "      <th>2019-08-31</th>\n",
       "      <td>0.065839</td>\n",
       "    </tr>\n",
       "    <tr>\n",
       "      <th>2019-09-30</th>\n",
       "      <td>0.072078</td>\n",
       "    </tr>\n",
       "    <tr>\n",
       "      <th>2019-10-31</th>\n",
       "      <td>0.032825</td>\n",
       "    </tr>\n",
       "    <tr>\n",
       "      <th>2019-11-30</th>\n",
       "      <td>0.086288</td>\n",
       "    </tr>\n",
       "    <tr>\n",
       "      <th>2019-12-31</th>\n",
       "      <td>0.039446</td>\n",
       "    </tr>\n",
       "  </tbody>\n",
       "</table>\n",
       "</div>"
      ],
      "text/plain": [
       "               close\n",
       "Date                \n",
       "2018-12-31       NaN\n",
       "2019-01-31 -0.059246\n",
       "2019-02-28 -0.035810\n",
       "2019-03-31  0.005636\n",
       "2019-04-30  0.018031\n",
       "2019-05-31  0.016864\n",
       "2019-06-30 -0.011055\n",
       "2019-07-31 -0.028773\n",
       "2019-08-31  0.065839\n",
       "2019-09-30  0.072078\n",
       "2019-10-31  0.032825\n",
       "2019-11-30  0.086288\n",
       "2019-12-31  0.039446"
      ]
     },
     "execution_count": 32,
     "metadata": {},
     "output_type": "execute_result"
    }
   ],
   "source": [
    "np.log(USDBRL_2019_monthly).diff().cumsum()"
   ]
  },
  {
   "cell_type": "markdown",
   "metadata": {},
   "source": [
    "### Log-retorno médio\n",
    "\n",
    "Voltando a pergunta: *Tá ok, eu sei que o log-retorno para o Dólar Americano em 2019 foi de 9,87%, mas qual é o retorno mensal médio de 2019?*\n",
    "\n",
    "Dado que o log-retorno para um período com múltiplos retornos é dado pela soma dos retornos, temos que o log-retorno médio é dado pela média aritimética dos log-retornos.\n",
    "\n",
    "\\begin{equation}\n",
    "\\hat{r} = \\frac{1}{N} \\sum_{i=0}^{N-1} r_{t-i}\n",
    "%(\\#eq:mean-log-return-composed)\n",
    "\\end{equation}\n",
    "\n",
    "Utilizamos o método `mean` no Pandas para calcular o log-retorno médio para uma série de retornos"
   ]
  },
  {
   "cell_type": "code",
   "execution_count": 33,
   "metadata": {},
   "outputs": [
    {
     "data": {
      "text/plain": [
       "close    0.003287\n",
       "dtype: float64"
      ]
     },
     "execution_count": 33,
     "metadata": {},
     "output_type": "execute_result"
    }
   ],
   "source": [
    "np.log(USDBRL_2019_monthly).diff().mean()"
   ]
  },
  {
   "cell_type": "markdown",
   "metadata": {},
   "source": [
    "Obtivemos 0,33%, praticamente o mesmo resultado obtido com o retorno simples, que arredondado também ficou em 0,33%.\n",
    "\n",
    "## Relação entre os retornos simples e logaritimicos <!-- {#s:equivalent-returns} -->\n",
    "\n",
    "Como vimos anteriormente, os retornos simples e logaritimicos, são diferentes, mesmo quando se referem ao mesmo período.\n",
    "\n",
    "Bem, vamos ver aqui que são duas formulações equivalentes, pois ambas são obtidas a partir dos mesmos preços.\n",
    "\n",
    "Como $P_t$ deve ser sempre o mesmo, independente do retorno que estamos utilizando, então, usando as equações de preços, para retornos simples e log-retornos, podemos obter a relação entre os retornos simples e logaritimicos.\n",
    "\n",
    "\\begin{equation}\n",
    "1 + R_t =  \\exp\\left( r_t \\right)\n",
    "%(\\#eq:arithmetic-log-return-relation)\n",
    "\\end{equation}\n",
    "\n",
    "## Porque formas diferentes de calcular os retornos?\n",
    "\n",
    "Bem, faz sentido trabalhar com duas formas diferentes de calcular retornos?\n",
    "Honestamente, não!\n",
    "Entretanto, os retornos simples são mais intuitivos de serem utilizados nos cálculos de retornos, por outro lado os log-retornos são mais fáceis de manipular nos cálculos, principalmente devido ao fato de que podem ser somados.\n",
    "\n",
    "Devido a simplicidade de uso dos log-retornos, a grande maioria dos estudos de alocação de ativos e risco de investimentos utiliza os log-retornos.\n",
    "\n",
    "Nas próximas seções vamos abordar os conceitos de **retorno esperado** e **risco esperado** para ativos e veremos que a utilização de log-retornos é fundamental.\n",
    "\n",
    "## Retorno esperado\n",
    "\n",
    "O **retorno esperado** é equivalente ao *retorno médio*.\n",
    "Há diversas outras formas de estimar o retorno esperado, desde modelos matemáticos complexos até hipóteses bem fundamentadas sobre o comportamento dos ativos.\n",
    "Aqui vamos considerar a análise estatística em que, dada uma amostra de retornos, o retorno médio é um bom estimador para retornos futuros.\n",
    "Justamente por ser o valor médio, o mais comum, o *esperado* para essa amostra.\n",
    "\n",
    "Na estatística, a média aritimética é estimador para a média consistente para a média de uma amostra.\n",
    "Por esse motivo os log-retornos são utilizado para o cálculo do retorno esperado, pois são equivalentes a média aritimética dos retornos.\n",
    "\n",
    "\\begin{equation}\n",
    "\\hat{r} = \\frac{1}{N} \\sum_{i=0}^{N-1} r_{t-i}\n",
    "\\end{equation}\n",
    "\n",
    "A partir daqui vamos assumir que o retorno esperado é a média aritimética dos log-retornos.\n",
    "\n",
    "### Retornos anualizados\n",
    "\n",
    "Outro conceito importante é o de retorno anualizado.\n",
    "Primeiro: porque anualizar os retornos?\n",
    "No mercado financeiro é muito comum se trabalhar com taxas ao ano como a SELIC e o CDI, que são taxas básicas de juros e sempre são cotadas ao ano.\n",
    "Dessa forma, é interessante converter os retornos para uma base anual de maneira que seja possível comparar os retornos esperados com retornos de outros investimentos.\n",
    "\n",
    "Para calcular o retorno anualizado, multiplicamos o retorno esperado pela quantidade de períodos que temos em 1 ano.\n",
    "Por exemplo:\n",
    "\n",
    "- retorno esperado diário - multiplicamos por 252, que é uma convenção adotada no mercado brasileiro que significa 252 dias úteis por ano.\n",
    "- retorno esperado mensal - multiplicamos por 12, pois 1 ano tem 12 meses.\n",
    "\n",
    "Vamos utilizar a nossa série `USDBRL_2019` com as cotações do Dólar Americano para 2019.\n",
    "Primeiro vamos calcular os retornos diários"
   ]
  },
  {
   "cell_type": "code",
   "execution_count": 34,
   "metadata": {},
   "outputs": [
    {
     "data": {
      "text/plain": [
       "USD  ask    0.000156\n",
       "dtype: float64"
      ]
     },
     "execution_count": 34,
     "metadata": {},
     "output_type": "execute_result"
    }
   ],
   "source": [
    "USDBRL_2019_daily_returns = np.log(USDBRL_2019).diff()\n",
    "USDBRL_2019_daily_mean_return = USDBRL_2019_daily_returns.mean()\n",
    "USDBRL_2019_daily_mean_return"
   ]
  },
  {
   "cell_type": "markdown",
   "metadata": {},
   "source": [
    "Note que o retorno diário para o USDBRL em 2019 foi de 0,0156%.\n",
    "Vamos multiplicá-lo por 252 para encontrar o retorno anualizado\n"
   ]
  },
  {
   "cell_type": "code",
   "execution_count": 35,
   "metadata": {},
   "outputs": [
    {
     "data": {
      "text/plain": [
       "USD  ask    0.03929\n",
       "dtype: float64"
      ]
     },
     "execution_count": 35,
     "metadata": {},
     "output_type": "execute_result"
    }
   ],
   "source": [
    "USDBRL_2019_daily_mean_return * 252"
   ]
  },
  {
   "cell_type": "markdown",
   "metadata": {},
   "source": [
    "Obtivemos 3,93% com retorno diário anualizado, ficou bastante próximo do retorno anual calculado com a composição dos retornos mensais que ficou em 3,94%.\n",
    "\n",
    "Utilizando os retornos mensais"
   ]
  },
  {
   "cell_type": "code",
   "execution_count": 36,
   "metadata": {},
   "outputs": [
    {
     "data": {
      "text/plain": [
       "close    0.003287\n",
       "dtype: float64"
      ]
     },
     "execution_count": 36,
     "metadata": {},
     "output_type": "execute_result"
    }
   ],
   "source": [
    "USDBRL_2019_monthly_log_returns = np.log(USDBRL_2019_monthly).diff()\n",
    "USDBRL_2019_monthly_mean_return = USDBRL_2019_monthly_log_returns.mean()\n",
    "USDBRL_2019_monthly_mean_return"
   ]
  },
  {
   "cell_type": "markdown",
   "metadata": {},
   "source": [
    "Multiplicando `USDBRL_2019_monthly_mean_return` por 12 para anualizar o retorno temos"
   ]
  },
  {
   "cell_type": "code",
   "execution_count": 37,
   "metadata": {},
   "outputs": [
    {
     "data": {
      "text/plain": [
       "close    0.039446\n",
       "dtype: float64"
      ]
     },
     "execution_count": 37,
     "metadata": {},
     "output_type": "execute_result"
    }
   ],
   "source": [
    "USDBRL_2019_monthly_mean_return * 12"
   ]
  },
  {
   "cell_type": "markdown",
   "metadata": {},
   "source": [
    "Novamente a estimativa do retorno anualizado ficou muito próximo dos valores já encontrados, 3,94%.\n",
    "\n",
    "A anualização dos retornos é muito útil para converter os retornos entre períodos diários, mensais e anuais com contas simples que podem produzir análises interessantes para comparação de investimentos."
   ]
  },
  {
   "cell_type": "markdown",
   "metadata": {},
   "source": [
    "## Risco esperado\n",
    "\n",
    "Há diversas formas de calcular o risco esperado de um ativo.\n",
    "Aqui vamos considerar que a volatilidade dos log-retornos será a medida de **risco esperado** para o ativo.\n",
    "\n",
    "Para calcular a volatilidade precisamos calcular a variância dos log-retornos, que é dada pela fórmula:\n",
    "\n",
    "\n",
    "$$\n",
    "\\textrm{Var}(r_t) = \\frac{1}{N-1}\\sum_{i=0}^{N-1}\\left( r_{t-i} - \\bar{r} \\right)^2\n",
    "$$\n",
    "A **volatilidade** dos retornos é dada pela raiz quadrada da variância e representada por $\\sigma$.\n",
    "\n",
    "$$\n",
    "\\sigma = \\sqrt{\\textrm{Var}(r_t)}\n",
    "$$\n",
    "\n",
    "A volatilidade também é conhecida como desvio padrão dos retornos, na verdade é o contrário, mas a ordem dos fatores não altera o produto.\n",
    "A volatilidade é um conceito amplo para descrever o comportamento da dinâmica de um ativo.\n",
    "Há diversas formas de estimar a volatilidade, aqui estamos assumindo a raiz quadrada da variância amostral.\n",
    "Contudo, a volatilidade **não é observada**, diferente dos preços dos ativos e das taxas de juros, logo, sua estimação é sempre calcada em um conjunto de hipóteses.\n",
    "Em termos gerais, o objetivo de caracterizar o risco esperado em termos da volatilidade é que a partir dessa medida possamos definir perdas esperadas associadas a probabilidades.\n",
    "Ou mesmo que não defina-se uma perda esperada, conhecendo a volatilidade de diferentes ativos é possível comparar os ativos por uma métrica de risco esperado potencial.\n",
    "\n",
    "No Pandas utilizamos o método `std` (de *standard deviation*)"
   ]
  },
  {
   "cell_type": "code",
   "execution_count": 38,
   "metadata": {},
   "outputs": [
    {
     "data": {
      "text/plain": [
       "USD  ask    0.006972\n",
       "dtype: float64"
      ]
     },
     "execution_count": 38,
     "metadata": {},
     "output_type": "execute_result"
    }
   ],
   "source": [
    "USDBRL_2019_daily_returns.std()"
   ]
  },
  {
   "cell_type": "markdown",
   "metadata": {},
   "source": [
    "O desvio padrão tem uma relação direta com os retornos, eles estão na mesma *unidade*.\n",
    "Aqui temos uma volatilidade de 0,69% para um retorno esperado de 0,0156%.\n",
    "Já já vamos saber como avaliar se isso é bom ou ruim, comparado a que?\n",
    "\n",
    "Por esse motivo o desvio padrão é utilizado para definir um **intervalo de confiança** para o retorno esperado.\n",
    "Por ora vamos segurar um pouco aqui, mais adiante vamos trazer uma abordagem estatística sobre os retornos e vamos falar mais sobre o desvio padrão.\n",
    "\n",
    "### Volatilidade anualizada\n",
    "\n",
    "Da mesma maneira que anualizamos os retornos, é necessário anualizar a volatilidade para evitar que façamos comparações de maçãs com bananas.\n",
    "\n",
    "A conta aqui é menos direta então vou colocar direto a equação.\n",
    "Para anualizar volatilidade diária (obtida de retornos diários) multiplicamos por raiz quadrada de 252 (quantidade de dias úteis no ano).\n",
    "\n",
    "\\begin{equation}\n",
    "\\sigma_a = \\sigma_d\\sqrt{252}\n",
    "\\end{equation}\n",
    "\n",
    "Para anualizar volatilidade mensal multiplicamos por raiz quadrada de 12 (número de meses no ano)\n",
    "\n",
    "\\begin{equation}\n",
    "\\sigma_a = \\sigma_m\\sqrt{12}\n",
    "\\end{equation}\n",
    "\n",
    "No exemplo acima, temos a volatilidade diária, logo, para anualizar a volatilidade vamos multiplicar por $\\sqrt{252}$."
   ]
  },
  {
   "cell_type": "code",
   "execution_count": 39,
   "metadata": {},
   "outputs": [
    {
     "data": {
      "text/plain": [
       "USD  ask    0.11067\n",
       "dtype: float64"
      ]
     },
     "execution_count": 39,
     "metadata": {},
     "output_type": "execute_result"
    }
   ],
   "source": [
    "USDBRL_2019_daily_returns.std() * np.sqrt(252)"
   ]
  },
  {
   "cell_type": "markdown",
   "metadata": {},
   "source": [
    "Com a volatilidade anualizada podemos escrever que o retorno anualizado é de 3,9% com uma volatilidade de 11%.\n",
    "Nas próximas seções vamos entender  como comparar ativos com diferentes medidas de risco e retorno."
   ]
  },
  {
   "cell_type": "markdown",
   "metadata": {},
   "source": [
    "## Exercícios - Análise de Retornos\n",
    "\n",
    "1. Obtenha as séries de preços ajustados de Petrobrás PN (PETR4.SA), Lojas Renner (LREN3.SA), Ambev (ABEV3.SA), da ETF SMAL11 (SMAL11.SA) e do Índice IBOVESPA (^BVSP), para o período de 2010-12-31 a 2020-01-01 (10 anos de dados). Estas séries possuem valores faltantes, é necessário fazer o tratamento. Para cada uma destas séries faça:\n",
    "    1. Limpeza dos dados faltantes\n",
    "    1. Cálculo do log-retorno diário\n",
    "    1. Cálculo do retorno esperado anualizado\n",
    "    1. Cálculo da volatilidade esperada anualizada\n",
    "1. Com as séries dos exercício anterior, faça para cada uma delas:\n",
    "    1. Limpeza dos dados faltantes\n",
    "    1. Cálculo do log-retorno diário\n",
    "    1. Dividir as séries em 5 períodos de 2 anos cada e calcule as estatísticas: retorno esperado e volatilidade anualizados, para cada sub-período.\n",
    "    1. O que você observa? As medidas permanecem *constantes* ao longo do tempo?\n",
    "1. Obtenha as séries de preços de Banco Itaú PN (ITUB4.SA), VALE (LREN3.SA), da ETF IVVB11 (IVVB11.SA) (replica o índice S&P 500), da ETF PIBB11 (PIBB11.SA) (replica o índice IBrX50), para o período de 2015-01-01 a 2020-01-01 (5 anos de dados). Estas séries possuem valores faltantes, é necessário fazer o tratamento. Para cada uma destas séries faça:\n",
    "    1. Limpeza dos dados faltantes\n",
    "    1. Cálculo da série de preços mensais\n",
    "    1. Cálculo do log-retorno mensal\n",
    "    1. Cálculo do retorno esperado e volatilidade mensal\n",
    "    1. Cálculo do retorno esperado e volatilidade anualizados\n",
    "1. Repita a análise do segundo exercício utilizando as moedas USD, EUR, CNY, GBP e CHF em BRL.\n",
    "1. Fazer gráfico de comparação da rentabilidade de ativos. Usar a série do Magazine Luiza (MGLU3.SA) no período de 2015-01-01 até 2020-12-31 e comparar com:\n",
    "    1. CDI acumulado no período\n",
    "    1. IBOVESPA\n",
    "    1. IPCA"
   ]
  }
 ],
 "metadata": {
  "kernelspec": {
   "display_name": "Python 3",
   "language": "python",
   "name": "python3"
  },
  "language_info": {
   "codemirror_mode": {
    "name": "ipython",
    "version": 3
   },
   "file_extension": ".py",
   "mimetype": "text/x-python",
   "name": "python",
   "nbconvert_exporter": "python",
   "pygments_lexer": "ipython3",
   "version": "3.7.6"
  }
 },
 "nbformat": 4,
 "nbformat_minor": 4
}
