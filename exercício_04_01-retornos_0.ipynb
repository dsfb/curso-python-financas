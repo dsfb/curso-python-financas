{
 "cells": [
  {
   "cell_type": "markdown",
   "id": "actual-maker",
   "metadata": {},
   "source": [
    "# Exercício 4\n",
    "\n",
    "Obtenha as séries de cotações de venda (*ask*) para as moedas USD, EUR, CNY, GBP e CHF, cotadas em BRL, para o período de 2010-12-31 a 2020-01-01 (10 anos de dados). Estas séries possuem valores faltantes, é necessário fazer o tratamento. Para cada uma destas séries faça:\n",
    "1. Limpeza dos dados faltantes\n",
    "1. Cálculo do log-retorno diário\n",
    "1. Dividir as séries em 5 períodos de 2 anos cada e calcule as estatísticas: retorno esperado e volatilidade anualizados, para cada sub-período.\n",
    "1. O que você observa? As medidas permanecem *constantes* ao longo do tempo?"
   ]
  },
  {
   "cell_type": "code",
   "execution_count": 53,
   "id": "featured-missouri",
   "metadata": {},
   "outputs": [],
   "source": [
    "import pandas as pd\n",
    "import numpy as np\n",
    "from bcb import currency"
   ]
  },
  {
   "cell_type": "code",
   "execution_count": 54,
   "id": "understood-novelty",
   "metadata": {},
   "outputs": [],
   "source": [
    "symbols = ['USD', 'EUR', 'CNY', 'GBP', 'CHF']"
   ]
  },
  {
   "cell_type": "code",
   "execution_count": 71,
   "id": "limited-photograph",
   "metadata": {},
   "outputs": [],
   "source": [
    "data = currency.get(symbols, start_date='2010-12-31', end_date='2020-01-01')"
   ]
  },
  {
   "cell_type": "code",
   "execution_count": 72,
   "id": "hispanic-sodium",
   "metadata": {},
   "outputs": [
    {
     "data": {
      "text/html": [
       "<div>\n",
       "<style scoped>\n",
       "    .dataframe tbody tr th:only-of-type {\n",
       "        vertical-align: middle;\n",
       "    }\n",
       "\n",
       "    .dataframe tbody tr th {\n",
       "        vertical-align: top;\n",
       "    }\n",
       "\n",
       "    .dataframe thead tr th {\n",
       "        text-align: left;\n",
       "    }\n",
       "\n",
       "    .dataframe thead tr:last-of-type th {\n",
       "        text-align: right;\n",
       "    }\n",
       "</style>\n",
       "<table border=\"1\" class=\"dataframe\">\n",
       "  <thead>\n",
       "    <tr>\n",
       "      <th></th>\n",
       "      <th colspan=\"2\" halign=\"left\">USD</th>\n",
       "      <th colspan=\"2\" halign=\"left\">EUR</th>\n",
       "      <th colspan=\"2\" halign=\"left\">CNY</th>\n",
       "      <th colspan=\"2\" halign=\"left\">GBP</th>\n",
       "      <th colspan=\"2\" halign=\"left\">CHF</th>\n",
       "    </tr>\n",
       "    <tr>\n",
       "      <th></th>\n",
       "      <th>bid</th>\n",
       "      <th>ask</th>\n",
       "      <th>bid</th>\n",
       "      <th>ask</th>\n",
       "      <th>bid</th>\n",
       "      <th>ask</th>\n",
       "      <th>bid</th>\n",
       "      <th>ask</th>\n",
       "      <th>bid</th>\n",
       "      <th>ask</th>\n",
       "    </tr>\n",
       "    <tr>\n",
       "      <th>Date</th>\n",
       "      <th></th>\n",
       "      <th></th>\n",
       "      <th></th>\n",
       "      <th></th>\n",
       "      <th></th>\n",
       "      <th></th>\n",
       "      <th></th>\n",
       "      <th></th>\n",
       "      <th></th>\n",
       "      <th></th>\n",
       "    </tr>\n",
       "  </thead>\n",
       "  <tbody>\n",
       "    <tr>\n",
       "      <th>2010-12-31</th>\n",
       "      <td>1.6654</td>\n",
       "      <td>1.6662</td>\n",
       "      <td>2.2266</td>\n",
       "      <td>2.2280</td>\n",
       "      <td>0.2521</td>\n",
       "      <td>0.2522</td>\n",
       "      <td>2.5859</td>\n",
       "      <td>2.5876</td>\n",
       "      <td>1.7814</td>\n",
       "      <td>1.7828</td>\n",
       "    </tr>\n",
       "    <tr>\n",
       "      <th>2011-01-03</th>\n",
       "      <td>1.6502</td>\n",
       "      <td>1.6510</td>\n",
       "      <td>2.2086</td>\n",
       "      <td>2.2099</td>\n",
       "      <td>0.2498</td>\n",
       "      <td>0.2499</td>\n",
       "      <td>2.5565</td>\n",
       "      <td>2.5581</td>\n",
       "      <td>1.7683</td>\n",
       "      <td>1.7698</td>\n",
       "    </tr>\n",
       "    <tr>\n",
       "      <th>2011-01-04</th>\n",
       "      <td>1.6548</td>\n",
       "      <td>1.6556</td>\n",
       "      <td>2.2040</td>\n",
       "      <td>2.2054</td>\n",
       "      <td>0.2503</td>\n",
       "      <td>0.2505</td>\n",
       "      <td>2.5803</td>\n",
       "      <td>2.5819</td>\n",
       "      <td>1.7459</td>\n",
       "      <td>1.7470</td>\n",
       "    </tr>\n",
       "    <tr>\n",
       "      <th>2011-01-05</th>\n",
       "      <td>1.6705</td>\n",
       "      <td>1.6713</td>\n",
       "      <td>2.2000</td>\n",
       "      <td>2.2014</td>\n",
       "      <td>0.2523</td>\n",
       "      <td>0.2525</td>\n",
       "      <td>2.5883</td>\n",
       "      <td>2.5898</td>\n",
       "      <td>1.7304</td>\n",
       "      <td>1.7316</td>\n",
       "    </tr>\n",
       "    <tr>\n",
       "      <th>2011-01-06</th>\n",
       "      <td>1.6849</td>\n",
       "      <td>1.6857</td>\n",
       "      <td>2.1914</td>\n",
       "      <td>2.1926</td>\n",
       "      <td>0.2543</td>\n",
       "      <td>0.2544</td>\n",
       "      <td>2.6054</td>\n",
       "      <td>2.6069</td>\n",
       "      <td>1.7451</td>\n",
       "      <td>1.7463</td>\n",
       "    </tr>\n",
       "  </tbody>\n",
       "</table>\n",
       "</div>"
      ],
      "text/plain": [
       "               USD             EUR             CNY             GBP          \\\n",
       "               bid     ask     bid     ask     bid     ask     bid     ask   \n",
       "Date                                                                         \n",
       "2010-12-31  1.6654  1.6662  2.2266  2.2280  0.2521  0.2522  2.5859  2.5876   \n",
       "2011-01-03  1.6502  1.6510  2.2086  2.2099  0.2498  0.2499  2.5565  2.5581   \n",
       "2011-01-04  1.6548  1.6556  2.2040  2.2054  0.2503  0.2505  2.5803  2.5819   \n",
       "2011-01-05  1.6705  1.6713  2.2000  2.2014  0.2523  0.2525  2.5883  2.5898   \n",
       "2011-01-06  1.6849  1.6857  2.1914  2.1926  0.2543  0.2544  2.6054  2.6069   \n",
       "\n",
       "               CHF          \n",
       "               bid     ask  \n",
       "Date                        \n",
       "2010-12-31  1.7814  1.7828  \n",
       "2011-01-03  1.7683  1.7698  \n",
       "2011-01-04  1.7459  1.7470  \n",
       "2011-01-05  1.7304  1.7316  \n",
       "2011-01-06  1.7451  1.7463  "
      ]
     },
     "execution_count": 72,
     "metadata": {},
     "output_type": "execute_result"
    }
   ],
   "source": [
    "data.head()"
   ]
  },
  {
   "cell_type": "markdown",
   "id": "possible-european",
   "metadata": {},
   "source": [
    "## Limpeza dos dados faltantes"
   ]
  },
  {
   "cell_type": "code",
   "execution_count": 73,
   "id": "ongoing-weather",
   "metadata": {},
   "outputs": [],
   "source": [
    "p = data.loc[:, pd.IndexSlice[:, 'ask']]\n",
    "p.columns = symbols"
   ]
  },
  {
   "cell_type": "code",
   "execution_count": 74,
   "id": "heated-arbitration",
   "metadata": {},
   "outputs": [
    {
     "data": {
      "text/plain": [
       "(2262, 5)"
      ]
     },
     "execution_count": 74,
     "metadata": {},
     "output_type": "execute_result"
    }
   ],
   "source": [
    "p.shape"
   ]
  },
  {
   "cell_type": "code",
   "execution_count": 75,
   "id": "mineral-birmingham",
   "metadata": {},
   "outputs": [
    {
     "data": {
      "text/plain": [
       "(2262, 5)"
      ]
     },
     "execution_count": 75,
     "metadata": {},
     "output_type": "execute_result"
    }
   ],
   "source": [
    "p.dropna().shape"
   ]
  },
  {
   "cell_type": "code",
   "execution_count": 76,
   "id": "requested-ottawa",
   "metadata": {},
   "outputs": [
    {
     "data": {
      "text/html": [
       "<div>\n",
       "<style scoped>\n",
       "    .dataframe tbody tr th:only-of-type {\n",
       "        vertical-align: middle;\n",
       "    }\n",
       "\n",
       "    .dataframe tbody tr th {\n",
       "        vertical-align: top;\n",
       "    }\n",
       "\n",
       "    .dataframe thead th {\n",
       "        text-align: right;\n",
       "    }\n",
       "</style>\n",
       "<table border=\"1\" class=\"dataframe\">\n",
       "  <thead>\n",
       "    <tr style=\"text-align: right;\">\n",
       "      <th></th>\n",
       "      <th>USD</th>\n",
       "      <th>EUR</th>\n",
       "      <th>CNY</th>\n",
       "      <th>GBP</th>\n",
       "      <th>CHF</th>\n",
       "    </tr>\n",
       "    <tr>\n",
       "      <th>Date</th>\n",
       "      <th></th>\n",
       "      <th></th>\n",
       "      <th></th>\n",
       "      <th></th>\n",
       "      <th></th>\n",
       "    </tr>\n",
       "  </thead>\n",
       "  <tbody>\n",
       "    <tr>\n",
       "      <th>2010-12-31</th>\n",
       "      <td>1.6662</td>\n",
       "      <td>2.2280</td>\n",
       "      <td>0.2522</td>\n",
       "      <td>2.5876</td>\n",
       "      <td>1.7828</td>\n",
       "    </tr>\n",
       "    <tr>\n",
       "      <th>2011-01-03</th>\n",
       "      <td>1.6510</td>\n",
       "      <td>2.2099</td>\n",
       "      <td>0.2499</td>\n",
       "      <td>2.5581</td>\n",
       "      <td>1.7698</td>\n",
       "    </tr>\n",
       "    <tr>\n",
       "      <th>2011-01-04</th>\n",
       "      <td>1.6556</td>\n",
       "      <td>2.2054</td>\n",
       "      <td>0.2505</td>\n",
       "      <td>2.5819</td>\n",
       "      <td>1.7470</td>\n",
       "    </tr>\n",
       "    <tr>\n",
       "      <th>2011-01-05</th>\n",
       "      <td>1.6713</td>\n",
       "      <td>2.2014</td>\n",
       "      <td>0.2525</td>\n",
       "      <td>2.5898</td>\n",
       "      <td>1.7316</td>\n",
       "    </tr>\n",
       "    <tr>\n",
       "      <th>2011-01-06</th>\n",
       "      <td>1.6857</td>\n",
       "      <td>2.1926</td>\n",
       "      <td>0.2544</td>\n",
       "      <td>2.6069</td>\n",
       "      <td>1.7463</td>\n",
       "    </tr>\n",
       "  </tbody>\n",
       "</table>\n",
       "</div>"
      ],
      "text/plain": [
       "               USD     EUR     CNY     GBP     CHF\n",
       "Date                                              \n",
       "2010-12-31  1.6662  2.2280  0.2522  2.5876  1.7828\n",
       "2011-01-03  1.6510  2.2099  0.2499  2.5581  1.7698\n",
       "2011-01-04  1.6556  2.2054  0.2505  2.5819  1.7470\n",
       "2011-01-05  1.6713  2.2014  0.2525  2.5898  1.7316\n",
       "2011-01-06  1.6857  2.1926  0.2544  2.6069  1.7463"
      ]
     },
     "execution_count": 76,
     "metadata": {},
     "output_type": "execute_result"
    }
   ],
   "source": [
    "p.head()"
   ]
  },
  {
   "cell_type": "markdown",
   "id": "handmade-honduras",
   "metadata": {},
   "source": [
    "## Cálculo do log-retorno diário"
   ]
  },
  {
   "cell_type": "code",
   "execution_count": 77,
   "id": "jewish-detroit",
   "metadata": {},
   "outputs": [],
   "source": [
    "r = np.log(p).diff()"
   ]
  },
  {
   "cell_type": "markdown",
   "id": "collective-blowing",
   "metadata": {},
   "source": [
    "## Estatísticas em subperíodos de 2 anos\n",
    "\n",
    "Dividir as séries em 5 períodos de 2 anos cada e calcule as estatísticas: retorno esperado e volatilidade anualizados, para cada sub-período."
   ]
  },
  {
   "cell_type": "markdown",
   "id": "generic-caution",
   "metadata": {},
   "source": [
    "### Criando os subperíodos"
   ]
  },
  {
   "cell_type": "code",
   "execution_count": 78,
   "id": "confidential-woman",
   "metadata": {},
   "outputs": [],
   "source": [
    "r['group'] = np.ceil(r.index.year / 2).astype('int32') - 1005"
   ]
  },
  {
   "cell_type": "markdown",
   "id": "derived-photograph",
   "metadata": {},
   "source": [
    "### Calculando o retorno esperado anualizado para cada subperíodo"
   ]
  },
  {
   "cell_type": "code",
   "execution_count": 79,
   "id": "arabic-assembly",
   "metadata": {},
   "outputs": [
    {
     "data": {
      "text/html": [
       "<div>\n",
       "<style scoped>\n",
       "    .dataframe tbody tr th:only-of-type {\n",
       "        vertical-align: middle;\n",
       "    }\n",
       "\n",
       "    .dataframe tbody tr th {\n",
       "        vertical-align: top;\n",
       "    }\n",
       "\n",
       "    .dataframe thead th {\n",
       "        text-align: right;\n",
       "    }\n",
       "</style>\n",
       "<table border=\"1\" class=\"dataframe\">\n",
       "  <thead>\n",
       "    <tr style=\"text-align: right;\">\n",
       "      <th></th>\n",
       "      <th>USD</th>\n",
       "      <th>EUR</th>\n",
       "      <th>CNY</th>\n",
       "      <th>GBP</th>\n",
       "      <th>CHF</th>\n",
       "      <th>group</th>\n",
       "    </tr>\n",
       "    <tr>\n",
       "      <th>group</th>\n",
       "      <th></th>\n",
       "      <th></th>\n",
       "      <th></th>\n",
       "      <th></th>\n",
       "      <th></th>\n",
       "      <th></th>\n",
       "    </tr>\n",
       "  </thead>\n",
       "  <tbody>\n",
       "    <tr>\n",
       "      <th>1</th>\n",
       "      <td>0.102466</td>\n",
       "      <td>0.095601</td>\n",
       "      <td>0.131919</td>\n",
       "      <td>0.122552</td>\n",
       "      <td>0.112894</td>\n",
       "      <td>252.0</td>\n",
       "    </tr>\n",
       "    <tr>\n",
       "      <th>2</th>\n",
       "      <td>0.130598</td>\n",
       "      <td>0.089647</td>\n",
       "      <td>0.132645</td>\n",
       "      <td>0.112531</td>\n",
       "      <td>0.091677</td>\n",
       "      <td>504.0</td>\n",
       "    </tr>\n",
       "    <tr>\n",
       "      <th>3</th>\n",
       "      <td>0.102890</td>\n",
       "      <td>0.031917</td>\n",
       "      <td>0.046432</td>\n",
       "      <td>-0.012808</td>\n",
       "      <td>0.089402</td>\n",
       "      <td>756.0</td>\n",
       "    </tr>\n",
       "    <tr>\n",
       "      <th>4</th>\n",
       "      <td>0.087388</td>\n",
       "      <td>0.128991</td>\n",
       "      <td>0.092253</td>\n",
       "      <td>0.104232</td>\n",
       "      <td>0.103995</td>\n",
       "      <td>1008.0</td>\n",
       "    </tr>\n",
       "    <tr>\n",
       "      <th>5</th>\n",
       "      <td>0.039290</td>\n",
       "      <td>0.020323</td>\n",
       "      <td>0.026851</td>\n",
       "      <td>0.070759</td>\n",
       "      <td>0.058726</td>\n",
       "      <td>1260.0</td>\n",
       "    </tr>\n",
       "  </tbody>\n",
       "</table>\n",
       "</div>"
      ],
      "text/plain": [
       "            USD       EUR       CNY       GBP       CHF   group\n",
       "group                                                          \n",
       "1      0.102466  0.095601  0.131919  0.122552  0.112894   252.0\n",
       "2      0.130598  0.089647  0.132645  0.112531  0.091677   504.0\n",
       "3      0.102890  0.031917  0.046432 -0.012808  0.089402   756.0\n",
       "4      0.087388  0.128991  0.092253  0.104232  0.103995  1008.0\n",
       "5      0.039290  0.020323  0.026851  0.070759  0.058726  1260.0"
      ]
     },
     "execution_count": 79,
     "metadata": {},
     "output_type": "execute_result"
    }
   ],
   "source": [
    "r.dropna()\\\n",
    "    .groupby('group')\\\n",
    "    .apply(lambda x: x.mean() * 252)"
   ]
  },
  {
   "cell_type": "markdown",
   "id": "surgical-oxford",
   "metadata": {},
   "source": [
    "### Calculando o risco esperado anualizado para cada subperíodo"
   ]
  },
  {
   "cell_type": "code",
   "execution_count": 80,
   "id": "impossible-individual",
   "metadata": {},
   "outputs": [
    {
     "data": {
      "text/html": [
       "<div>\n",
       "<style scoped>\n",
       "    .dataframe tbody tr th:only-of-type {\n",
       "        vertical-align: middle;\n",
       "    }\n",
       "\n",
       "    .dataframe tbody tr th {\n",
       "        vertical-align: top;\n",
       "    }\n",
       "\n",
       "    .dataframe thead th {\n",
       "        text-align: right;\n",
       "    }\n",
       "</style>\n",
       "<table border=\"1\" class=\"dataframe\">\n",
       "  <thead>\n",
       "    <tr style=\"text-align: right;\">\n",
       "      <th></th>\n",
       "      <th>USD</th>\n",
       "      <th>EUR</th>\n",
       "      <th>CNY</th>\n",
       "      <th>GBP</th>\n",
       "      <th>CHF</th>\n",
       "      <th>group</th>\n",
       "    </tr>\n",
       "    <tr>\n",
       "      <th>group</th>\n",
       "      <th></th>\n",
       "      <th></th>\n",
       "      <th></th>\n",
       "      <th></th>\n",
       "      <th></th>\n",
       "      <th></th>\n",
       "    </tr>\n",
       "  </thead>\n",
       "  <tbody>\n",
       "    <tr>\n",
       "      <th>1</th>\n",
       "      <td>0.121111</td>\n",
       "      <td>0.110823</td>\n",
       "      <td>0.120044</td>\n",
       "      <td>0.107925</td>\n",
       "      <td>0.146576</td>\n",
       "      <td>0.0</td>\n",
       "    </tr>\n",
       "    <tr>\n",
       "      <th>2</th>\n",
       "      <td>0.116278</td>\n",
       "      <td>0.126206</td>\n",
       "      <td>0.116281</td>\n",
       "      <td>0.124278</td>\n",
       "      <td>0.134139</td>\n",
       "      <td>0.0</td>\n",
       "    </tr>\n",
       "    <tr>\n",
       "      <th>3</th>\n",
       "      <td>0.181305</td>\n",
       "      <td>0.189003</td>\n",
       "      <td>0.176492</td>\n",
       "      <td>0.189607</td>\n",
       "      <td>0.215138</td>\n",
       "      <td>0.0</td>\n",
       "    </tr>\n",
       "    <tr>\n",
       "      <th>4</th>\n",
       "      <td>0.132038</td>\n",
       "      <td>0.135758</td>\n",
       "      <td>0.129635</td>\n",
       "      <td>0.146603</td>\n",
       "      <td>0.139689</td>\n",
       "      <td>0.0</td>\n",
       "    </tr>\n",
       "    <tr>\n",
       "      <th>5</th>\n",
       "      <td>0.110670</td>\n",
       "      <td>0.108853</td>\n",
       "      <td>0.102331</td>\n",
       "      <td>0.128918</td>\n",
       "      <td>0.117721</td>\n",
       "      <td>0.0</td>\n",
       "    </tr>\n",
       "  </tbody>\n",
       "</table>\n",
       "</div>"
      ],
      "text/plain": [
       "            USD       EUR       CNY       GBP       CHF  group\n",
       "group                                                         \n",
       "1      0.121111  0.110823  0.120044  0.107925  0.146576    0.0\n",
       "2      0.116278  0.126206  0.116281  0.124278  0.134139    0.0\n",
       "3      0.181305  0.189003  0.176492  0.189607  0.215138    0.0\n",
       "4      0.132038  0.135758  0.129635  0.146603  0.139689    0.0\n",
       "5      0.110670  0.108853  0.102331  0.128918  0.117721    0.0"
      ]
     },
     "execution_count": 80,
     "metadata": {},
     "output_type": "execute_result"
    }
   ],
   "source": [
    "r.dropna()\\\n",
    "    .groupby('group')\\\n",
    "    .apply(lambda x: x.std() * np.sqrt(252))"
   ]
  }
 ],
 "metadata": {
  "kernelspec": {
   "display_name": "Python 3",
   "language": "python",
   "name": "python3"
  },
  "language_info": {
   "codemirror_mode": {
    "name": "ipython",
    "version": 3
   },
   "file_extension": ".py",
   "mimetype": "text/x-python",
   "name": "python",
   "nbconvert_exporter": "python",
   "pygments_lexer": "ipython3",
   "version": "3.7.6"
  }
 },
 "nbformat": 4,
 "nbformat_minor": 5
}
