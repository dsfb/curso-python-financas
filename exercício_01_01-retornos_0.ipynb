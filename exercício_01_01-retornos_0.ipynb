{
 "cells": [
  {
   "cell_type": "markdown",
   "id": "lasting-rebound",
   "metadata": {},
   "source": [
    "# Exercício 1\n",
    "\n",
    "Obtenha as séries de preços ajustados de Petrobrás PN (PETR4.SA), Lojas Renner (LREN3.SA), Ambev (ABEV3.SA), da ETF SMAL11 (SMAL11.SA) e do Índice IBOVESPA (^BVSP), para o período de 2010-12-31 a 2020-01-01 (10 anos de dados). Estas séries possuem valores faltantes, é necessário fazer o tratamento. Para cada uma destas séries faça:\n",
    "1. Limpeza dos dados faltantes\n",
    "1. Cálculo do log-retorno diário\n",
    "1. Cálculo do retorno esperado anualizado\n",
    "1. Cálculo da volatilidade esperada anualizada\n",
    "1. Cálculo do log-retorno anual\n",
    "1. Cálculo da rentabilidade a partir do log-retorno anual"
   ]
  },
  {
   "cell_type": "code",
   "execution_count": 104,
   "id": "everyday-member",
   "metadata": {},
   "outputs": [],
   "source": [
    "import pandas as pd\n",
    "import numpy as np\n",
    "import yfinance as yf"
   ]
  },
  {
   "cell_type": "code",
   "execution_count": 105,
   "id": "every-special",
   "metadata": {},
   "outputs": [],
   "source": [
    "symbol = 'PETR4.SA LREN3.SA ABEV3.SA SMAL11.SA ^BVSP'"
   ]
  },
  {
   "cell_type": "code",
   "execution_count": 112,
   "id": "experienced-pennsylvania",
   "metadata": {},
   "outputs": [
    {
     "name": "stdout",
     "output_type": "stream",
     "text": [
      "[*********************100%***********************]  5 of 5 completed\n"
     ]
    }
   ],
   "source": [
    "data = yf.download(symbol, start='2010-12-30', end='2020-01-01')"
   ]
  },
  {
   "cell_type": "markdown",
   "id": "molecular-feelings",
   "metadata": {},
   "source": [
    "## Limpeza dos dados faltantes"
   ]
  },
  {
   "cell_type": "code",
   "execution_count": 113,
   "id": "wicked-professional",
   "metadata": {},
   "outputs": [
    {
     "data": {
      "text/plain": [
       "(2232, 5)"
      ]
     },
     "execution_count": 113,
     "metadata": {},
     "output_type": "execute_result"
    }
   ],
   "source": [
    "data['Adj Close'].shape"
   ]
  },
  {
   "cell_type": "code",
   "execution_count": 114,
   "id": "nonprofit-insight",
   "metadata": {},
   "outputs": [
    {
     "data": {
      "text/plain": [
       "(2225, 5)"
      ]
     },
     "execution_count": 114,
     "metadata": {},
     "output_type": "execute_result"
    }
   ],
   "source": [
    "data['Adj Close'].dropna().shape"
   ]
  },
  {
   "cell_type": "code",
   "execution_count": 115,
   "id": "applied-testament",
   "metadata": {},
   "outputs": [],
   "source": [
    "p = data['Adj Close'].dropna()"
   ]
  },
  {
   "cell_type": "code",
   "execution_count": 116,
   "id": "different-developer",
   "metadata": {},
   "outputs": [
    {
     "data": {
      "text/html": [
       "<div>\n",
       "<style scoped>\n",
       "    .dataframe tbody tr th:only-of-type {\n",
       "        vertical-align: middle;\n",
       "    }\n",
       "\n",
       "    .dataframe tbody tr th {\n",
       "        vertical-align: top;\n",
       "    }\n",
       "\n",
       "    .dataframe thead th {\n",
       "        text-align: right;\n",
       "    }\n",
       "</style>\n",
       "<table border=\"1\" class=\"dataframe\">\n",
       "  <thead>\n",
       "    <tr style=\"text-align: right;\">\n",
       "      <th></th>\n",
       "      <th>ABEV3.SA</th>\n",
       "      <th>LREN3.SA</th>\n",
       "      <th>PETR4.SA</th>\n",
       "      <th>SMAL11.SA</th>\n",
       "      <th>^BVSP</th>\n",
       "    </tr>\n",
       "    <tr>\n",
       "      <th>Date</th>\n",
       "      <th></th>\n",
       "      <th></th>\n",
       "      <th></th>\n",
       "      <th></th>\n",
       "      <th></th>\n",
       "    </tr>\n",
       "  </thead>\n",
       "  <tbody>\n",
       "    <tr>\n",
       "      <th>2010-12-30</th>\n",
       "      <td>6.045817</td>\n",
       "      <td>7.446164</td>\n",
       "      <td>21.904737</td>\n",
       "      <td>70.919998</td>\n",
       "      <td>69305.0</td>\n",
       "    </tr>\n",
       "    <tr>\n",
       "      <th>2011-01-03</th>\n",
       "      <td>6.059748</td>\n",
       "      <td>7.537259</td>\n",
       "      <td>21.671963</td>\n",
       "      <td>71.470001</td>\n",
       "      <td>69962.0</td>\n",
       "    </tr>\n",
       "    <tr>\n",
       "      <th>2011-01-04</th>\n",
       "      <td>6.061141</td>\n",
       "      <td>7.432962</td>\n",
       "      <td>21.591696</td>\n",
       "      <td>70.940002</td>\n",
       "      <td>70318.0</td>\n",
       "    </tr>\n",
       "    <tr>\n",
       "      <th>2011-01-05</th>\n",
       "      <td>5.948304</td>\n",
       "      <td>7.373550</td>\n",
       "      <td>21.848547</td>\n",
       "      <td>70.919998</td>\n",
       "      <td>71091.0</td>\n",
       "    </tr>\n",
       "    <tr>\n",
       "      <th>2011-01-06</th>\n",
       "      <td>5.892582</td>\n",
       "      <td>7.195315</td>\n",
       "      <td>21.760258</td>\n",
       "      <td>70.129997</td>\n",
       "      <td>70579.0</td>\n",
       "    </tr>\n",
       "  </tbody>\n",
       "</table>\n",
       "</div>"
      ],
      "text/plain": [
       "            ABEV3.SA  LREN3.SA   PETR4.SA  SMAL11.SA    ^BVSP\n",
       "Date                                                         \n",
       "2010-12-30  6.045817  7.446164  21.904737  70.919998  69305.0\n",
       "2011-01-03  6.059748  7.537259  21.671963  71.470001  69962.0\n",
       "2011-01-04  6.061141  7.432962  21.591696  70.940002  70318.0\n",
       "2011-01-05  5.948304  7.373550  21.848547  70.919998  71091.0\n",
       "2011-01-06  5.892582  7.195315  21.760258  70.129997  70579.0"
      ]
     },
     "execution_count": 116,
     "metadata": {},
     "output_type": "execute_result"
    }
   ],
   "source": [
    "p.head()"
   ]
  },
  {
   "cell_type": "markdown",
   "id": "horizontal-fleece",
   "metadata": {},
   "source": [
    "## Cálculo do log-retorno diário"
   ]
  },
  {
   "cell_type": "code",
   "execution_count": 117,
   "id": "productive-financing",
   "metadata": {},
   "outputs": [],
   "source": [
    "r = np.log(p).diff()"
   ]
  },
  {
   "cell_type": "markdown",
   "id": "conscious-oracle",
   "metadata": {},
   "source": [
    "## Cálculo do retorno esperado anualizado"
   ]
  },
  {
   "cell_type": "code",
   "execution_count": 118,
   "id": "israeli-harassment",
   "metadata": {},
   "outputs": [],
   "source": [
    "AnualizedReturns = r.mean() * 252"
   ]
  },
  {
   "cell_type": "code",
   "execution_count": 119,
   "id": "severe-classification",
   "metadata": {},
   "outputs": [
    {
     "data": {
      "image/png": "[encoded data removed]",
      "text/plain": [
       "<Figure size 1152x288 with 1 Axes>"
      ]
     },
     "metadata": {
      "needs_background": "light"
     },
     "output_type": "display_data"
    }
   ],
   "source": [
    "AnualizedReturns.sort_values().plot(kind='bar', figsize=(16,4), title='Retornos Anualizados (10Y)');"
   ]
  },
  {
   "cell_type": "markdown",
   "id": "personalized-bikini",
   "metadata": {},
   "source": [
    "## Cálculo da volatilidade esperada anualizada"
   ]
  },
  {
   "cell_type": "code",
   "execution_count": 120,
   "id": "hired-specialist",
   "metadata": {},
   "outputs": [],
   "source": [
    "AnualizedVolatility = r.std() * np.sqrt(252)"
   ]
  },
  {
   "cell_type": "code",
   "execution_count": 121,
   "id": "engaging-title",
   "metadata": {},
   "outputs": [
    {
     "data": {
      "image/png": "[encoded data removed]",
      "text/plain": [
       "<Figure size 1152x288 with 1 Axes>"
      ]
     },
     "metadata": {
      "needs_background": "light"
     },
     "output_type": "display_data"
    }
   ],
   "source": [
    "AnualizedVolatility.sort_values().plot(kind='bar', figsize=(16,4), title='Volatilidade Anualizada (10Y)');"
   ]
  },
  {
   "cell_type": "markdown",
   "id": "million-jewelry",
   "metadata": {},
   "source": [
    "## Cálculo do CAGR (Compound Annual Growth Rate)\n",
    "\n",
    "<https://en.wikipedia.org/wiki/Compound_annual_growth_rate>"
   ]
  },
  {
   "cell_type": "code",
   "execution_count": 122,
   "id": "injured-heaven",
   "metadata": {},
   "outputs": [],
   "source": [
    "x = p.iloc[[-1,0]]\n",
    "cagr = np.power(x.iloc[0] / x.iloc[1], 1/10) - 1"
   ]
  },
  {
   "cell_type": "code",
   "execution_count": 123,
   "id": "surprised-tragedy",
   "metadata": {},
   "outputs": [
    {
     "data": {
      "image/png": "[encoded data removed]",
      "text/plain": [
       "<Figure size 1152x288 with 1 Axes>"
      ]
     },
     "metadata": {
      "needs_background": "light"
     },
     "output_type": "display_data"
    }
   ],
   "source": [
    "cagr.sort_values().plot(kind='bar', figsize=(16,4), title='CAGR - Compound Annual Growth Rate');"
   ]
  },
  {
   "cell_type": "markdown",
   "id": "synthetic-portuguese",
   "metadata": {},
   "source": [
    "## Cálculo do log-retorno anual"
   ]
  },
  {
   "cell_type": "code",
   "execution_count": 124,
   "id": "devoted-marathon",
   "metadata": {},
   "outputs": [],
   "source": [
    "p_yearly = p.resample('1Y').last()"
   ]
  },
  {
   "cell_type": "code",
   "execution_count": 125,
   "id": "fewer-burning",
   "metadata": {},
   "outputs": [],
   "source": [
    "r_yearly = np.log(p_yearly).diff()"
   ]
  },
  {
   "cell_type": "code",
   "execution_count": 126,
   "id": "honest-error",
   "metadata": {},
   "outputs": [
    {
     "data": {
      "text/html": [
       "<div>\n",
       "<style scoped>\n",
       "    .dataframe tbody tr th:only-of-type {\n",
       "        vertical-align: middle;\n",
       "    }\n",
       "\n",
       "    .dataframe tbody tr th {\n",
       "        vertical-align: top;\n",
       "    }\n",
       "\n",
       "    .dataframe thead th {\n",
       "        text-align: right;\n",
       "    }\n",
       "</style>\n",
       "<table border=\"1\" class=\"dataframe\">\n",
       "  <thead>\n",
       "    <tr style=\"text-align: right;\">\n",
       "      <th></th>\n",
       "      <th>ABEV3.SA</th>\n",
       "      <th>LREN3.SA</th>\n",
       "      <th>PETR4.SA</th>\n",
       "      <th>SMAL11.SA</th>\n",
       "      <th>^BVSP</th>\n",
       "    </tr>\n",
       "    <tr>\n",
       "      <th>Date</th>\n",
       "      <th></th>\n",
       "      <th></th>\n",
       "      <th></th>\n",
       "      <th></th>\n",
       "      <th></th>\n",
       "    </tr>\n",
       "  </thead>\n",
       "  <tbody>\n",
       "    <tr>\n",
       "      <th>2010-12-31</th>\n",
       "      <td>NaN</td>\n",
       "      <td>NaN</td>\n",
       "      <td>NaN</td>\n",
       "      <td>NaN</td>\n",
       "      <td>NaN</td>\n",
       "    </tr>\n",
       "    <tr>\n",
       "      <th>2011-12-31</th>\n",
       "      <td>0.256645</td>\n",
       "      <td>-0.116638</td>\n",
       "      <td>-0.201035</td>\n",
       "      <td>-0.185372</td>\n",
       "      <td>-0.199791</td>\n",
       "    </tr>\n",
       "    <tr>\n",
       "      <th>2012-12-31</th>\n",
       "      <td>0.463163</td>\n",
       "      <td>0.532864</td>\n",
       "      <td>-0.072540</td>\n",
       "      <td>0.247952</td>\n",
       "      <td>0.071361</td>\n",
       "    </tr>\n",
       "    <tr>\n",
       "      <th>2013-12-31</th>\n",
       "      <td>0.049323</td>\n",
       "      <td>-0.239990</td>\n",
       "      <td>-0.114439</td>\n",
       "      <td>-0.162441</td>\n",
       "      <td>-0.168369</td>\n",
       "    </tr>\n",
       "    <tr>\n",
       "      <th>2014-12-31</th>\n",
       "      <td>-0.024551</td>\n",
       "      <td>0.247495</td>\n",
       "      <td>-0.468152</td>\n",
       "      <td>-0.189326</td>\n",
       "      <td>-0.029555</td>\n",
       "    </tr>\n",
       "    <tr>\n",
       "      <th>2015-12-31</th>\n",
       "      <td>0.185549</td>\n",
       "      <td>0.130812</td>\n",
       "      <td>-0.403473</td>\n",
       "      <td>-0.245949</td>\n",
       "      <td>-0.142856</td>\n",
       "    </tr>\n",
       "    <tr>\n",
       "      <th>2016-12-31</th>\n",
       "      <td>-0.048919</td>\n",
       "      <td>0.324638</td>\n",
       "      <td>0.797238</td>\n",
       "      <td>0.264418</td>\n",
       "      <td>0.328814</td>\n",
       "    </tr>\n",
       "    <tr>\n",
       "      <th>2017-12-31</th>\n",
       "      <td>0.288279</td>\n",
       "      <td>0.535422</td>\n",
       "      <td>0.079474</td>\n",
       "      <td>0.402997</td>\n",
       "      <td>0.237888</td>\n",
       "    </tr>\n",
       "    <tr>\n",
       "      <th>2018-12-31</th>\n",
       "      <td>-0.292565</td>\n",
       "      <td>0.191481</td>\n",
       "      <td>0.384958</td>\n",
       "      <td>0.072651</td>\n",
       "      <td>0.140043</td>\n",
       "    </tr>\n",
       "    <tr>\n",
       "      <th>2019-12-31</th>\n",
       "      <td>0.219775</td>\n",
       "      <td>0.396497</td>\n",
       "      <td>0.318373</td>\n",
       "      <td>0.449402</td>\n",
       "      <td>0.277228</td>\n",
       "    </tr>\n",
       "  </tbody>\n",
       "</table>\n",
       "</div>"
      ],
      "text/plain": [
       "            ABEV3.SA  LREN3.SA  PETR4.SA  SMAL11.SA     ^BVSP\n",
       "Date                                                         \n",
       "2010-12-31       NaN       NaN       NaN        NaN       NaN\n",
       "2011-12-31  0.256645 -0.116638 -0.201035  -0.185372 -0.199791\n",
       "2012-12-31  0.463163  0.532864 -0.072540   0.247952  0.071361\n",
       "2013-12-31  0.049323 -0.239990 -0.114439  -0.162441 -0.168369\n",
       "2014-12-31 -0.024551  0.247495 -0.468152  -0.189326 -0.029555\n",
       "2015-12-31  0.185549  0.130812 -0.403473  -0.245949 -0.142856\n",
       "2016-12-31 -0.048919  0.324638  0.797238   0.264418  0.328814\n",
       "2017-12-31  0.288279  0.535422  0.079474   0.402997  0.237888\n",
       "2018-12-31 -0.292565  0.191481  0.384958   0.072651  0.140043\n",
       "2019-12-31  0.219775  0.396497  0.318373   0.449402  0.277228"
      ]
     },
     "execution_count": 126,
     "metadata": {},
     "output_type": "execute_result"
    }
   ],
   "source": [
    "r_yearly"
   ]
  },
  {
   "cell_type": "markdown",
   "id": "danish-premium",
   "metadata": {},
   "source": [
    "## Cálculo da rentabilidade a partir do log-retorno anual"
   ]
  },
  {
   "cell_type": "code",
   "execution_count": 132,
   "id": "natural-harrison",
   "metadata": {},
   "outputs": [],
   "source": [
    "rentabilidade = 100 * np.exp(r_yearly.cumsum())"
   ]
  },
  {
   "cell_type": "code",
   "execution_count": 133,
   "id": "coordinated-waters",
   "metadata": {},
   "outputs": [],
   "source": [
    "rentabilidade.iloc[0] = 100"
   ]
  },
  {
   "cell_type": "code",
   "execution_count": 136,
   "id": "arranged-leeds",
   "metadata": {},
   "outputs": [
    {
     "data": {
      "text/html": [
       "<div>\n",
       "<style scoped>\n",
       "    .dataframe tbody tr th:only-of-type {\n",
       "        vertical-align: middle;\n",
       "    }\n",
       "\n",
       "    .dataframe tbody tr th {\n",
       "        vertical-align: top;\n",
       "    }\n",
       "\n",
       "    .dataframe thead th {\n",
       "        text-align: right;\n",
       "    }\n",
       "</style>\n",
       "<table border=\"1\" class=\"dataframe\">\n",
       "  <thead>\n",
       "    <tr style=\"text-align: right;\">\n",
       "      <th></th>\n",
       "      <th>ABEV3.SA</th>\n",
       "      <th>LREN3.SA</th>\n",
       "      <th>PETR4.SA</th>\n",
       "      <th>SMAL11.SA</th>\n",
       "      <th>^BVSP</th>\n",
       "    </tr>\n",
       "    <tr>\n",
       "      <th>Date</th>\n",
       "      <th></th>\n",
       "      <th></th>\n",
       "      <th></th>\n",
       "      <th></th>\n",
       "      <th></th>\n",
       "    </tr>\n",
       "  </thead>\n",
       "  <tbody>\n",
       "    <tr>\n",
       "      <th>2010-12-31</th>\n",
       "      <td>100.000000</td>\n",
       "      <td>100.000000</td>\n",
       "      <td>100.000000</td>\n",
       "      <td>100.000000</td>\n",
       "      <td>100.000000</td>\n",
       "    </tr>\n",
       "    <tr>\n",
       "      <th>2011-12-31</th>\n",
       "      <td>129.258629</td>\n",
       "      <td>88.990753</td>\n",
       "      <td>81.788360</td>\n",
       "      <td>83.079526</td>\n",
       "      <td>81.890196</td>\n",
       "    </tr>\n",
       "    <tr>\n",
       "      <th>2012-12-31</th>\n",
       "      <td>205.403976</td>\n",
       "      <td>151.622943</td>\n",
       "      <td>76.065505</td>\n",
       "      <td>106.457984</td>\n",
       "      <td>87.947479</td>\n",
       "    </tr>\n",
       "    <tr>\n",
       "      <th>2013-12-31</th>\n",
       "      <td>215.789118</td>\n",
       "      <td>119.271988</td>\n",
       "      <td>67.840271</td>\n",
       "      <td>90.496337</td>\n",
       "      <td>74.319313</td>\n",
       "    </tr>\n",
       "    <tr>\n",
       "      <th>2014-12-31</th>\n",
       "      <td>210.555755</td>\n",
       "      <td>152.765150</td>\n",
       "      <td>42.478735</td>\n",
       "      <td>74.887200</td>\n",
       "      <td>72.154967</td>\n",
       "    </tr>\n",
       "    <tr>\n",
       "      <th>2015-12-31</th>\n",
       "      <td>253.483674</td>\n",
       "      <td>174.114561</td>\n",
       "      <td>28.375625</td>\n",
       "      <td>58.558939</td>\n",
       "      <td>62.549600</td>\n",
       "    </tr>\n",
       "    <tr>\n",
       "      <th>2016-12-31</th>\n",
       "      <td>241.381992</td>\n",
       "      <td>240.892633</td>\n",
       "      <td>62.976944</td>\n",
       "      <td>76.283136</td>\n",
       "      <td>86.901378</td>\n",
       "    </tr>\n",
       "    <tr>\n",
       "      <th>2017-12-31</th>\n",
       "      <td>322.034691</td>\n",
       "      <td>411.485132</td>\n",
       "      <td>68.186206</td>\n",
       "      <td>114.142695</td>\n",
       "      <td>110.240242</td>\n",
       "    </tr>\n",
       "    <tr>\n",
       "      <th>2018-12-31</th>\n",
       "      <td>240.349561</td>\n",
       "      <td>498.325862</td>\n",
       "      <td>100.203189</td>\n",
       "      <td>122.743944</td>\n",
       "      <td>126.811918</td>\n",
       "    </tr>\n",
       "    <tr>\n",
       "      <th>2019-12-31</th>\n",
       "      <td>299.426690</td>\n",
       "      <td>740.815550</td>\n",
       "      <td>137.768202</td>\n",
       "      <td>192.385795</td>\n",
       "      <td>167.324147</td>\n",
       "    </tr>\n",
       "  </tbody>\n",
       "</table>\n",
       "</div>"
      ],
      "text/plain": [
       "              ABEV3.SA    LREN3.SA    PETR4.SA   SMAL11.SA       ^BVSP\n",
       "Date                                                                  \n",
       "2010-12-31  100.000000  100.000000  100.000000  100.000000  100.000000\n",
       "2011-12-31  129.258629   88.990753   81.788360   83.079526   81.890196\n",
       "2012-12-31  205.403976  151.622943   76.065505  106.457984   87.947479\n",
       "2013-12-31  215.789118  119.271988   67.840271   90.496337   74.319313\n",
       "2014-12-31  210.555755  152.765150   42.478735   74.887200   72.154967\n",
       "2015-12-31  253.483674  174.114561   28.375625   58.558939   62.549600\n",
       "2016-12-31  241.381992  240.892633   62.976944   76.283136   86.901378\n",
       "2017-12-31  322.034691  411.485132   68.186206  114.142695  110.240242\n",
       "2018-12-31  240.349561  498.325862  100.203189  122.743944  126.811918\n",
       "2019-12-31  299.426690  740.815550  137.768202  192.385795  167.324147"
      ]
     },
     "execution_count": 136,
     "metadata": {},
     "output_type": "execute_result"
    }
   ],
   "source": [
    "rentabilidade"
   ]
  },
  {
   "cell_type": "code",
   "execution_count": 135,
   "id": "embedded-chicken",
   "metadata": {},
   "outputs": [
    {
     "data": {
      "text/plain": [
       "<AxesSubplot:xlabel='Date'>"
      ]
     },
     "execution_count": 135,
     "metadata": {},
     "output_type": "execute_result"
    },
    {
     "data": {
      "image/png": "[encoded data removed]",
      "text/plain": [
       "<Figure size 1152x288 with 1 Axes>"
      ]
     },
     "metadata": {
      "needs_background": "light"
     },
     "output_type": "display_data"
    }
   ],
   "source": [
    "rentabilidade.plot(figsize=(16, 4), grid=True);"
   ]
  }
 ],
 "metadata": {
  "kernelspec": {
   "display_name": "Python 3",
   "language": "python",
   "name": "python3"
  },
  "language_info": {
   "codemirror_mode": {
    "name": "ipython",
    "version": 3
   },
   "file_extension": ".py",
   "mimetype": "text/x-python",
   "name": "python",
   "nbconvert_exporter": "python",
   "pygments_lexer": "ipython3",
   "version": "3.7.6"
  }
 },
 "nbformat": 4,
 "nbformat_minor": 5
}
