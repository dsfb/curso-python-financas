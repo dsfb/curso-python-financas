{
 "cells": [
  {
   "cell_type": "markdown",
   "id": "funky-doctor",
   "metadata": {},
   "source": [
    "# Exercício 3\n",
    "\n",
    "Obtenha as séries de preços de Banco Itaú PN (ITUB4.SA), VALE (VALE3.SA), da WEG (WEGE3.SA), da B3 (B3SA3.SA), para o período de 2015-01-01 a 2020-01-01 (5 anos de dados). Estas séries possuem valores faltantes, é necessário fazer o tratamento. Para cada uma destas séries faça:\n",
    "1. Limpeza dos dados faltantes\n",
    "1. Cálculo da série de preços mensais\n",
    "1. Cálculo do log-retorno mensal\n",
    "1. Cálculo do retorno esperado e volatilidade mensal\n",
    "1. Cálculo do retorno esperado e volatilidade anualizados"
   ]
  },
  {
   "cell_type": "code",
   "execution_count": 3,
   "id": "vanilla-banking",
   "metadata": {},
   "outputs": [],
   "source": [
    "import pandas as pd\n",
    "import numpy as np\n",
    "import yfinance as yf"
   ]
  },
  {
   "cell_type": "code",
   "execution_count": 26,
   "id": "known-screening",
   "metadata": {},
   "outputs": [],
   "source": [
    "symbol = 'ITUB4.SA VALE3.SA B3SA3.SA WEGE3.SA'"
   ]
  },
  {
   "cell_type": "code",
   "execution_count": 27,
   "id": "formed-republic",
   "metadata": {},
   "outputs": [
    {
     "name": "stdout",
     "output_type": "stream",
     "text": [
      "[*********************100%***********************]  4 of 4 completed\n"
     ]
    }
   ],
   "source": [
    "data = yf.download(symbol, start='2014-12-30', end='2020-01-01')"
   ]
  },
  {
   "cell_type": "markdown",
   "id": "graduate-addition",
   "metadata": {},
   "source": [
    "## Limpeza dos dados faltantes"
   ]
  },
  {
   "cell_type": "code",
   "execution_count": 28,
   "id": "critical-prisoner",
   "metadata": {},
   "outputs": [
    {
     "data": {
      "text/plain": [
       "(1242, 4)"
      ]
     },
     "execution_count": 28,
     "metadata": {},
     "output_type": "execute_result"
    }
   ],
   "source": [
    "data['Adj Close'].shape"
   ]
  },
  {
   "cell_type": "code",
   "execution_count": 29,
   "id": "continental-china",
   "metadata": {},
   "outputs": [
    {
     "data": {
      "text/plain": [
       "(1242, 4)"
      ]
     },
     "execution_count": 29,
     "metadata": {},
     "output_type": "execute_result"
    }
   ],
   "source": [
    "data['Adj Close'].dropna().shape"
   ]
  },
  {
   "cell_type": "code",
   "execution_count": 30,
   "id": "amber-release",
   "metadata": {},
   "outputs": [],
   "source": [
    "p = data['Adj Close'].dropna()"
   ]
  },
  {
   "cell_type": "code",
   "execution_count": 31,
   "id": "little-particular",
   "metadata": {},
   "outputs": [
    {
     "data": {
      "text/html": [
       "<div>\n",
       "<style scoped>\n",
       "    .dataframe tbody tr th:only-of-type {\n",
       "        vertical-align: middle;\n",
       "    }\n",
       "\n",
       "    .dataframe tbody tr th {\n",
       "        vertical-align: top;\n",
       "    }\n",
       "\n",
       "    .dataframe thead th {\n",
       "        text-align: right;\n",
       "    }\n",
       "</style>\n",
       "<table border=\"1\" class=\"dataframe\">\n",
       "  <thead>\n",
       "    <tr style=\"text-align: right;\">\n",
       "      <th></th>\n",
       "      <th>B3SA3.SA</th>\n",
       "      <th>ITUB4.SA</th>\n",
       "      <th>VALE3.SA</th>\n",
       "      <th>WEGE3.SA</th>\n",
       "    </tr>\n",
       "    <tr>\n",
       "      <th>Date</th>\n",
       "      <th></th>\n",
       "      <th></th>\n",
       "      <th></th>\n",
       "      <th></th>\n",
       "    </tr>\n",
       "  </thead>\n",
       "  <tbody>\n",
       "    <tr>\n",
       "      <th>2014-12-30</th>\n",
       "      <td>7.959536</td>\n",
       "      <td>14.352860</td>\n",
       "      <td>17.784248</td>\n",
       "      <td>10.522178</td>\n",
       "    </tr>\n",
       "    <tr>\n",
       "      <th>2015-01-02</th>\n",
       "      <td>7.692603</td>\n",
       "      <td>14.039539</td>\n",
       "      <td>17.272884</td>\n",
       "      <td>10.625674</td>\n",
       "    </tr>\n",
       "    <tr>\n",
       "      <th>2015-01-05</th>\n",
       "      <td>7.482286</td>\n",
       "      <td>14.110084</td>\n",
       "      <td>17.013140</td>\n",
       "      <td>10.698119</td>\n",
       "    </tr>\n",
       "    <tr>\n",
       "      <th>2015-01-06</th>\n",
       "      <td>7.555089</td>\n",
       "      <td>14.338338</td>\n",
       "      <td>17.694962</td>\n",
       "      <td>10.539428</td>\n",
       "    </tr>\n",
       "    <tr>\n",
       "      <th>2015-01-07</th>\n",
       "      <td>7.854380</td>\n",
       "      <td>14.857093</td>\n",
       "      <td>18.344318</td>\n",
       "      <td>10.418679</td>\n",
       "    </tr>\n",
       "  </tbody>\n",
       "</table>\n",
       "</div>"
      ],
      "text/plain": [
       "            B3SA3.SA   ITUB4.SA   VALE3.SA   WEGE3.SA\n",
       "Date                                                 \n",
       "2014-12-30  7.959536  14.352860  17.784248  10.522178\n",
       "2015-01-02  7.692603  14.039539  17.272884  10.625674\n",
       "2015-01-05  7.482286  14.110084  17.013140  10.698119\n",
       "2015-01-06  7.555089  14.338338  17.694962  10.539428\n",
       "2015-01-07  7.854380  14.857093  18.344318  10.418679"
      ]
     },
     "execution_count": 31,
     "metadata": {},
     "output_type": "execute_result"
    }
   ],
   "source": [
    "p.head()"
   ]
  },
  {
   "cell_type": "markdown",
   "id": "antique-argentina",
   "metadata": {},
   "source": [
    "## Cálculo da série de preços mensais"
   ]
  },
  {
   "cell_type": "code",
   "execution_count": 32,
   "id": "buried-vocabulary",
   "metadata": {},
   "outputs": [],
   "source": [
    "p_monthly = p.resample('1M').last()"
   ]
  },
  {
   "cell_type": "code",
   "execution_count": 33,
   "id": "southwest-coordinate",
   "metadata": {},
   "outputs": [
    {
     "data": {
      "text/html": [
       "<div>\n",
       "<style scoped>\n",
       "    .dataframe tbody tr th:only-of-type {\n",
       "        vertical-align: middle;\n",
       "    }\n",
       "\n",
       "    .dataframe tbody tr th {\n",
       "        vertical-align: top;\n",
       "    }\n",
       "\n",
       "    .dataframe thead th {\n",
       "        text-align: right;\n",
       "    }\n",
       "</style>\n",
       "<table border=\"1\" class=\"dataframe\">\n",
       "  <thead>\n",
       "    <tr style=\"text-align: right;\">\n",
       "      <th></th>\n",
       "      <th>B3SA3.SA</th>\n",
       "      <th>ITUB4.SA</th>\n",
       "      <th>VALE3.SA</th>\n",
       "      <th>WEGE3.SA</th>\n",
       "    </tr>\n",
       "    <tr>\n",
       "      <th>Date</th>\n",
       "      <th></th>\n",
       "      <th></th>\n",
       "      <th></th>\n",
       "      <th></th>\n",
       "    </tr>\n",
       "  </thead>\n",
       "  <tbody>\n",
       "    <tr>\n",
       "      <th>2014-12-31</th>\n",
       "      <td>7.959536</td>\n",
       "      <td>14.352860</td>\n",
       "      <td>17.784248</td>\n",
       "      <td>10.522178</td>\n",
       "    </tr>\n",
       "    <tr>\n",
       "      <th>2015-01-31</th>\n",
       "      <td>7.441843</td>\n",
       "      <td>13.653583</td>\n",
       "      <td>15.105658</td>\n",
       "      <td>11.067260</td>\n",
       "    </tr>\n",
       "    <tr>\n",
       "      <th>2015-02-28</th>\n",
       "      <td>8.153672</td>\n",
       "      <td>15.530207</td>\n",
       "      <td>17.248533</td>\n",
       "      <td>10.617612</td>\n",
       "    </tr>\n",
       "    <tr>\n",
       "      <th>2015-03-31</th>\n",
       "      <td>8.994921</td>\n",
       "      <td>15.030057</td>\n",
       "      <td>14.561820</td>\n",
       "      <td>11.071282</td>\n",
       "    </tr>\n",
       "    <tr>\n",
       "      <th>2015-04-30</th>\n",
       "      <td>10.146810</td>\n",
       "      <td>16.407654</td>\n",
       "      <td>18.994514</td>\n",
       "      <td>11.168765</td>\n",
       "    </tr>\n",
       "  </tbody>\n",
       "</table>\n",
       "</div>"
      ],
      "text/plain": [
       "             B3SA3.SA   ITUB4.SA   VALE3.SA   WEGE3.SA\n",
       "Date                                                  \n",
       "2014-12-31   7.959536  14.352860  17.784248  10.522178\n",
       "2015-01-31   7.441843  13.653583  15.105658  11.067260\n",
       "2015-02-28   8.153672  15.530207  17.248533  10.617612\n",
       "2015-03-31   8.994921  15.030057  14.561820  11.071282\n",
       "2015-04-30  10.146810  16.407654  18.994514  11.168765"
      ]
     },
     "execution_count": 33,
     "metadata": {},
     "output_type": "execute_result"
    }
   ],
   "source": [
    "p_monthly.head()"
   ]
  },
  {
   "cell_type": "markdown",
   "id": "independent-brother",
   "metadata": {},
   "source": [
    "## Cálculo do log-retorno mensal"
   ]
  },
  {
   "cell_type": "code",
   "execution_count": 45,
   "id": "cross-separation",
   "metadata": {},
   "outputs": [],
   "source": [
    "r_monthly = np.log(p_monthly).diff()"
   ]
  },
  {
   "cell_type": "markdown",
   "id": "accomplished-experience",
   "metadata": {},
   "source": [
    "## Cálculo do retorno esperado e volatilidade mensal\n",
    "\n",
    "### Retorno esperado"
   ]
  },
  {
   "cell_type": "code",
   "execution_count": 46,
   "id": "undefined-procurement",
   "metadata": {},
   "outputs": [
    {
     "data": {
      "text/plain": [
       "B3SA3.SA    0.027405\n",
       "ITUB4.SA    0.015367\n",
       "VALE3.SA    0.017611\n",
       "WEGE3.SA    0.019735\n",
       "dtype: float64"
      ]
     },
     "execution_count": 46,
     "metadata": {},
     "output_type": "execute_result"
    }
   ],
   "source": [
    "r_monthly.mean()"
   ]
  },
  {
   "cell_type": "markdown",
   "id": "selected-monkey",
   "metadata": {},
   "source": [
    "### Volatilidade"
   ]
  },
  {
   "cell_type": "code",
   "execution_count": 47,
   "id": "legitimate-discharge",
   "metadata": {},
   "outputs": [
    {
     "data": {
      "text/plain": [
       "B3SA3.SA    0.082739\n",
       "ITUB4.SA    0.077436\n",
       "VALE3.SA    0.128637\n",
       "WEGE3.SA    0.067656\n",
       "dtype: float64"
      ]
     },
     "execution_count": 47,
     "metadata": {},
     "output_type": "execute_result"
    }
   ],
   "source": [
    "r_monthly.std()"
   ]
  },
  {
   "cell_type": "markdown",
   "id": "bronze-steam",
   "metadata": {},
   "source": [
    "## Cálculo do retorno esperado e volatilidade anualizados\n",
    "\n",
    "### Retorno esperado anualizado"
   ]
  },
  {
   "cell_type": "code",
   "execution_count": 48,
   "id": "prospective-tradition",
   "metadata": {},
   "outputs": [
    {
     "data": {
      "text/plain": [
       "B3SA3.SA    0.328865\n",
       "ITUB4.SA    0.184406\n",
       "VALE3.SA    0.211334\n",
       "WEGE3.SA    0.236816\n",
       "dtype: float64"
      ]
     },
     "execution_count": 48,
     "metadata": {},
     "output_type": "execute_result"
    }
   ],
   "source": [
    "r_monthly.mean() * 12"
   ]
  },
  {
   "cell_type": "code",
   "execution_count": 50,
   "id": "atomic-district",
   "metadata": {},
   "outputs": [
    {
     "data": {
      "image/png": "[encoded data removed]",
      "text/plain": [
       "<Figure size 1152x288 with 1 Axes>"
      ]
     },
     "metadata": {
      "needs_background": "light"
     },
     "output_type": "display_data"
    }
   ],
   "source": [
    "(r_monthly.mean() * 12).sort_values().plot(kind='bar', figsize=(16,4), title='Retorno Anualizado');"
   ]
  },
  {
   "cell_type": "markdown",
   "id": "norman-berry",
   "metadata": {},
   "source": [
    "### Volatilidade anualizada"
   ]
  },
  {
   "cell_type": "code",
   "execution_count": 49,
   "id": "changing-separate",
   "metadata": {},
   "outputs": [
    {
     "data": {
      "text/plain": [
       "B3SA3.SA    0.286615\n",
       "ITUB4.SA    0.268246\n",
       "VALE3.SA    0.445613\n",
       "WEGE3.SA    0.234368\n",
       "dtype: float64"
      ]
     },
     "execution_count": 49,
     "metadata": {},
     "output_type": "execute_result"
    }
   ],
   "source": [
    "r_monthly.std() * np.sqrt(12)"
   ]
  },
  {
   "cell_type": "code",
   "execution_count": 51,
   "id": "pursuant-matrix",
   "metadata": {},
   "outputs": [
    {
     "data": {
      "image/png": "[encoded data removed]",
      "text/plain": [
       "<Figure size 1152x288 with 1 Axes>"
      ]
     },
     "metadata": {
      "needs_background": "light"
     },
     "output_type": "display_data"
    }
   ],
   "source": [
    "(r_monthly.std() * np.sqrt(12)).sort_values().plot(kind='bar', figsize=(16,4), title='Volatilidade Anualizada');"
   ]
  },
  {
   "cell_type": "code",
   "execution_count": null,
   "id": "exotic-store",
   "metadata": {},
   "outputs": [],
   "source": []
  }
 ],
 "metadata": {
  "kernelspec": {
   "display_name": "Python 3",
   "language": "python",
   "name": "python3"
  },
  "language_info": {
   "codemirror_mode": {
    "name": "ipython",
    "version": 3
   },
   "file_extension": ".py",
   "mimetype": "text/x-python",
   "name": "python",
   "nbconvert_exporter": "python",
   "pygments_lexer": "ipython3",
   "version": "3.7.6"
  }
 },
 "nbformat": 4,
 "nbformat_minor": 5
}
