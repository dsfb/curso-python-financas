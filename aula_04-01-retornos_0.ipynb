{
 "cells": [
  {
   "cell_type": "markdown",
   "metadata": {},
   "source": [
    "# Análise de retornos\n",
    "\n",
    "## Retornos Logaritimicos (LOG-RETORNO)\n",
    "\n",
    "### LOG do Preço\n",
    "\n",
    "$$\n",
    "p_t = \\log \\left( P_t \\right)\n",
    "$$\n",
    "\n",
    "### LOG-RETORNO = diferença dos logaritimos dos preços\n",
    "\n",
    "$$\n",
    "r_t = p_t - p_{t-1} = \\log\\left( \\frac{P_t}{P_{t-1}} \\right)\n",
    "$$"
   ]
  },
  {
   "cell_type": "code",
   "execution_count": null,
   "metadata": {},
   "outputs": [],
   "source": [
    "import pandas as pd\n",
    "import numpy as np\n",
    "from bcb import currency"
   ]
  },
  {
   "cell_type": "code",
   "execution_count": null,
   "metadata": {},
   "outputs": [],
   "source": [
    "usdbrl = currency.get('USD', start_date='2020-01-01', end_date='2020-01-08')"
   ]
  },
  {
   "cell_type": "code",
   "execution_count": null,
   "metadata": {},
   "outputs": [],
   "source": [
    "usdbrl_ask = usdbrl.loc[:, ('USD', 'ask')]"
   ]
  },
  {
   "cell_type": "code",
   "execution_count": null,
   "metadata": {},
   "outputs": [],
   "source": [
    "P_t_1 = usdbrl_ask.shift(1)"
   ]
  },
  {
   "cell_type": "code",
   "execution_count": null,
   "metadata": {},
   "outputs": [],
   "source": [
    "r_t = np.log(usdbrl_ask).diff()"
   ]
  },
  {
   "cell_type": "code",
   "execution_count": null,
   "metadata": {},
   "outputs": [],
   "source": [
    "df = pd.concat([r_t, P_t_1, usdbrl_ask], axis=1)\\\n",
    "    .set_axis(['r_t', 'P_t-1', 'P_t'], axis=1)"
   ]
  },
  {
   "cell_type": "code",
   "execution_count": null,
   "metadata": {},
   "outputs": [],
   "source": [
    "df"
   ]
  },
  {
   "cell_type": "markdown",
   "metadata": {},
   "source": [
    "## Preços em função dos LOG-RETORNOS\n",
    "\n",
    "$$\n",
    "P_t = P_{t-1} \\exp\\left(r_t\\right)\n",
    "$$"
   ]
  },
  {
   "cell_type": "code",
   "execution_count": null,
   "metadata": {},
   "outputs": [],
   "source": [
    "df['P_t calc'] = df['P_t-1'] * np.exp(df['r_t'])"
   ]
  },
  {
   "cell_type": "code",
   "execution_count": null,
   "metadata": {},
   "outputs": [],
   "source": [
    "df.head()"
   ]
  },
  {
   "cell_type": "markdown",
   "metadata": {},
   "source": [
    "## Composição dos LOG-RETORNOS\n",
    "\n",
    "$$\n",
    "\\begin{eqnarray}\n",
    "P_t & = & P_{t-1} \\exp(r_t) \\\\\n",
    "P_{t-1} & = & P_{t-2} \\exp(r_{t-1}) \\\\\n",
    "P_{t-2} & = & P_{t-3} \\exp(r_{t-2}) \\\\\n",
    "\\end{eqnarray}\n",
    "$$\n",
    "\n",
    "##### **Escrevendo $P_t$ em termos de $r_{t}$, $r_{t-1}$, $r_{t-2}$**\n",
    "\n",
    "$$\n",
    "\\begin{eqnarray}\n",
    "P_{t-2} & = & P_{t-3} \\exp(r_{t-2}) \\\\\n",
    "P_{t-1} & = & P_{t-3} \\exp(r_{t-2}) \\exp(r_{t-1}) \\\\\n",
    "P_t & = & P_{t-3} \\exp(r_{t-2}) \\exp(r_{t-1}) \\exp(r_t) \\\\\n",
    "\\end{eqnarray}\n",
    "$$\n",
    "\n",
    "##### **Generalizando**\n",
    "\n",
    "$$\n",
    "P_t = P_{t-N} \\exp\\left(\\sum_{i=0}^{N-1} r_{t-i} \\right)\n",
    "$$"
   ]
  },
  {
   "cell_type": "code",
   "execution_count": null,
   "metadata": {},
   "outputs": [],
   "source": [
    "df.loc['2020-01-02', 'P_t'] * np.exp( df['r_t'].sum() )"
   ]
  },
  {
   "cell_type": "markdown",
   "metadata": {},
   "source": [
    "## Reconstruir os Preços a partir dos Retornos"
   ]
  },
  {
   "cell_type": "code",
   "execution_count": null,
   "metadata": {},
   "outputs": [],
   "source": [
    "P_t_recon = df.loc['2020-01-02', 'P_t'] * np.exp(df['r_t'].cumsum())"
   ]
  },
  {
   "cell_type": "code",
   "execution_count": null,
   "metadata": {},
   "outputs": [],
   "source": [
    "P_t_recon"
   ]
  },
  {
   "cell_type": "code",
   "execution_count": null,
   "metadata": {},
   "outputs": [],
   "source": [
    "P_t_recon['2020-01-02'] = df.loc['2020-01-02', 'P_t']"
   ]
  },
  {
   "cell_type": "code",
   "execution_count": null,
   "metadata": {},
   "outputs": [],
   "source": [
    "P_t_recon"
   ]
  },
  {
   "cell_type": "code",
   "execution_count": null,
   "metadata": {},
   "outputs": [],
   "source": [
    "pd.concat([df['P_t'], P_t_recon], axis=1)\\\n",
    "    .set_axis(['P_t', 'P_t_recon'], axis=1)"
   ]
  },
  {
   "cell_type": "markdown",
   "metadata": {},
   "source": [
    "## Curva de Rentabilidade de um Ativo"
   ]
  },
  {
   "cell_type": "code",
   "execution_count": null,
   "metadata": {},
   "outputs": [],
   "source": [
    "rentabilidade = 100 * np.exp(df['r_t'].cumsum())"
   ]
  },
  {
   "cell_type": "code",
   "execution_count": null,
   "metadata": {},
   "outputs": [],
   "source": [
    "rentabilidade.iloc[0] = 100"
   ]
  },
  {
   "cell_type": "code",
   "execution_count": null,
   "metadata": {},
   "outputs": [],
   "source": [
    "rentabilidade"
   ]
  },
  {
   "cell_type": "markdown",
   "metadata": {},
   "source": [
    "## Comparar as Rentabilidades de Diversos Ativos\n",
    "\n",
    "Para 2020, usar:\n",
    "\n",
    "- USDBRL\n",
    "- BOVA11\n",
    "- SMLL11"
   ]
  },
  {
   "cell_type": "code",
   "execution_count": null,
   "metadata": {},
   "outputs": [],
   "source": [
    "import yfinance as yf"
   ]
  },
  {
   "cell_type": "code",
   "execution_count": null,
   "metadata": {},
   "outputs": [],
   "source": [
    "etfs = yf.download(['BOVA11.SA', 'SMAL11.SA'], start='2020-01-01', end='2020-12-31', progress=False)"
   ]
  },
  {
   "cell_type": "code",
   "execution_count": null,
   "metadata": {},
   "outputs": [],
   "source": [
    "etfs.head()"
   ]
  },
  {
   "cell_type": "code",
   "execution_count": null,
   "metadata": {},
   "outputs": [],
   "source": [
    "etfs = etfs['Adj Close']"
   ]
  },
  {
   "cell_type": "code",
   "execution_count": null,
   "metadata": {},
   "outputs": [],
   "source": [
    "usdbrl = currency.get('USD', start_date='2020-01-01', end_date='2020-12-31')"
   ]
  },
  {
   "cell_type": "code",
   "execution_count": null,
   "metadata": {},
   "outputs": [],
   "source": [
    "usdbrl_ask = usdbrl.loc[:, ('USD', 'ask')]"
   ]
  },
  {
   "cell_type": "code",
   "execution_count": null,
   "metadata": {},
   "outputs": [],
   "source": [
    "series = pd.concat([usdbrl_ask, etfs], axis=1)\\\n",
    "    .set_axis(['USDBRL', 'BOVA11', 'SMAL11'], axis=1)"
   ]
  },
  {
   "cell_type": "code",
   "execution_count": null,
   "metadata": {},
   "outputs": [],
   "source": [
    "series.head()"
   ]
  },
  {
   "cell_type": "code",
   "execution_count": null,
   "metadata": {},
   "outputs": [],
   "source": [
    "r_t = series\\\n",
    "    .apply(lambda x: np.log(x).diff())"
   ]
  },
  {
   "cell_type": "code",
   "execution_count": null,
   "metadata": {},
   "outputs": [],
   "source": [
    "r_t.head()"
   ]
  },
  {
   "cell_type": "code",
   "execution_count": null,
   "metadata": {},
   "outputs": [],
   "source": [
    "rentabilidade = 100 * r_t.apply(lambda x: np.exp(x.cumsum()))"
   ]
  },
  {
   "cell_type": "code",
   "execution_count": null,
   "metadata": {},
   "outputs": [],
   "source": [
    "rentabilidade.iloc[0, :] = 100"
   ]
  },
  {
   "cell_type": "code",
   "execution_count": null,
   "metadata": {},
   "outputs": [],
   "source": [
    "rentabilidade.head()"
   ]
  },
  {
   "cell_type": "code",
   "execution_count": null,
   "metadata": {},
   "outputs": [],
   "source": [
    "rentabilidade.plot(figsize=(15,5), grid=True, title='Rentabilidade acumulada');"
   ]
  },
  {
   "cell_type": "markdown",
   "metadata": {},
   "source": [
    "## Convertendo LOG-RETORNO em Retornos Simples\n",
    "\n",
    "\\begin{equation}\n",
    "1 + R_t =  \\exp\\left( r_t \\right)\n",
    "%(\\#eq:arithmetic-log-return-relation)\n",
    "\\end{equation}\n"
   ]
  },
  {
   "cell_type": "code",
   "execution_count": null,
   "metadata": {},
   "outputs": [],
   "source": [
    "R_t = np.exp(r_t).head() - 1"
   ]
  },
  {
   "cell_type": "code",
   "execution_count": null,
   "metadata": {},
   "outputs": [],
   "source": [
    "R_t.head()"
   ]
  },
  {
   "cell_type": "markdown",
   "metadata": {},
   "source": [
    "## Resumo\n",
    "\n",
    "- Definição:\n",
    "    - Variação Percentual $\\longrightarrow$ Retornos Simples\n",
    "    - Retornos Logaritimicos $\\longrightarrow$ LOG-RETORNOS: diferença do logaritimos dos preços\n",
    "- Reconstruindo Preços a partir dos Retornos:\n",
    "    - Retornos Simples: $P_t = P_{t-N} \\Pi_{i=0}^{N-1} (1 + R_{t-i})$\n",
    "    - LOG-RETORNOS: $P_t = P_{t-N} \\exp\\left( \\sum_{i=0}^{N-1} r_{t-i} \\right)$\n",
    "- Rentabilidade:\n",
    "    - Retornos Simples Acumulados: $\\Pi_{i=0}^{N-1} (1 + R_{t-i})$\n",
    "    - LOG-RETORNOS Acumulados: $\\exp \\left( \\sum_{i=0}^{N-1} r_{t-i} \\right)$"
   ]
  }
 ],
 "metadata": {
  "kernelspec": {
   "display_name": "Python 3",
   "language": "python",
   "name": "python3"
  },
  "language_info": {
   "codemirror_mode": {
    "name": "ipython",
    "version": 3
   },
   "file_extension": ".py",
   "mimetype": "text/x-python",
   "name": "python",
   "nbconvert_exporter": "python",
   "pygments_lexer": "ipython3",
   "version": "3.7.6"
  }
 },
 "nbformat": 4,
 "nbformat_minor": 4
}
