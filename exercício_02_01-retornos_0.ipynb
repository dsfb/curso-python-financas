{
 "cells": [
  {
   "cell_type": "markdown",
   "id": "outer-hollywood",
   "metadata": {},
   "source": [
    "# Exercício 2\n",
    "\n",
    "Obtenha as séries de preços ajustados de Petrobrás PN (PETR4.SA), Lojas Renner (LREN3.SA), Ambev (ABEV3.SA), da ETF SMAL11 (SMAL11.SA) e do Índice IBOVESPA (^BVSP), para o período de 2010-12-31 a 2020-01-01 (10 anos de dados). Estas séries possuem valores faltantes, é necessário fazer o tratamento. Para cada uma destas séries faça:\n",
    "1. Limpeza dos dados faltantes\n",
    "1. Cálculo do log-retorno diário\n",
    "1. Dividir as séries em 5 períodos de 2 anos cada e calcule as estatísticas: retorno esperado e volatilidade anualizados, para cada sub-período.\n",
    "1. O que você observa? As medidas permanecem *constantes* ao longo do tempo?"
   ]
  },
  {
   "cell_type": "code",
   "execution_count": 1,
   "id": "living-drink",
   "metadata": {},
   "outputs": [],
   "source": [
    "import pandas as pd\n",
    "import numpy as np\n",
    "import yfinance as yf"
   ]
  },
  {
   "cell_type": "code",
   "execution_count": 2,
   "id": "welcome-bradford",
   "metadata": {},
   "outputs": [],
   "source": [
    "symbol = 'PETR4.SA LREN3.SA ABEV3.SA SMAL11.SA ^BVSP'"
   ]
  },
  {
   "cell_type": "code",
   "execution_count": 3,
   "id": "documented-promotion",
   "metadata": {},
   "outputs": [
    {
     "name": "stdout",
     "output_type": "stream",
     "text": [
      "[*********************100%***********************]  5 of 5 completed\n"
     ]
    }
   ],
   "source": [
    "data = yf.download(symbol, start='2010-12-30', end='2020-01-01')"
   ]
  },
  {
   "cell_type": "markdown",
   "id": "continuing-termination",
   "metadata": {},
   "source": [
    "## Limpeza dos dados faltantes"
   ]
  },
  {
   "cell_type": "code",
   "execution_count": 4,
   "id": "widespread-going",
   "metadata": {},
   "outputs": [
    {
     "data": {
      "text/plain": [
       "(2232, 5)"
      ]
     },
     "execution_count": 4,
     "metadata": {},
     "output_type": "execute_result"
    }
   ],
   "source": [
    "data['Adj Close'].shape"
   ]
  },
  {
   "cell_type": "code",
   "execution_count": 5,
   "id": "joint-audio",
   "metadata": {},
   "outputs": [
    {
     "data": {
      "text/plain": [
       "(2225, 5)"
      ]
     },
     "execution_count": 5,
     "metadata": {},
     "output_type": "execute_result"
    }
   ],
   "source": [
    "data['Adj Close'].dropna().shape"
   ]
  },
  {
   "cell_type": "code",
   "execution_count": 6,
   "id": "extra-lighting",
   "metadata": {},
   "outputs": [],
   "source": [
    "p = data['Adj Close'].dropna()"
   ]
  },
  {
   "cell_type": "code",
   "execution_count": 7,
   "id": "english-notion",
   "metadata": {},
   "outputs": [
    {
     "data": {
      "text/html": [
       "<div>\n",
       "<style scoped>\n",
       "    .dataframe tbody tr th:only-of-type {\n",
       "        vertical-align: middle;\n",
       "    }\n",
       "\n",
       "    .dataframe tbody tr th {\n",
       "        vertical-align: top;\n",
       "    }\n",
       "\n",
       "    .dataframe thead th {\n",
       "        text-align: right;\n",
       "    }\n",
       "</style>\n",
       "<table border=\"1\" class=\"dataframe\">\n",
       "  <thead>\n",
       "    <tr style=\"text-align: right;\">\n",
       "      <th></th>\n",
       "      <th>ABEV3.SA</th>\n",
       "      <th>LREN3.SA</th>\n",
       "      <th>PETR4.SA</th>\n",
       "      <th>SMAL11.SA</th>\n",
       "      <th>^BVSP</th>\n",
       "    </tr>\n",
       "    <tr>\n",
       "      <th>Date</th>\n",
       "      <th></th>\n",
       "      <th></th>\n",
       "      <th></th>\n",
       "      <th></th>\n",
       "      <th></th>\n",
       "    </tr>\n",
       "  </thead>\n",
       "  <tbody>\n",
       "    <tr>\n",
       "      <th>2010-12-30</th>\n",
       "      <td>6.045817</td>\n",
       "      <td>7.446164</td>\n",
       "      <td>21.904737</td>\n",
       "      <td>70.919998</td>\n",
       "      <td>69305.0</td>\n",
       "    </tr>\n",
       "    <tr>\n",
       "      <th>2011-01-03</th>\n",
       "      <td>6.059748</td>\n",
       "      <td>7.537259</td>\n",
       "      <td>21.671963</td>\n",
       "      <td>71.470001</td>\n",
       "      <td>69962.0</td>\n",
       "    </tr>\n",
       "    <tr>\n",
       "      <th>2011-01-04</th>\n",
       "      <td>6.061141</td>\n",
       "      <td>7.432962</td>\n",
       "      <td>21.591696</td>\n",
       "      <td>70.940002</td>\n",
       "      <td>70318.0</td>\n",
       "    </tr>\n",
       "    <tr>\n",
       "      <th>2011-01-05</th>\n",
       "      <td>5.948304</td>\n",
       "      <td>7.373550</td>\n",
       "      <td>21.848547</td>\n",
       "      <td>70.919998</td>\n",
       "      <td>71091.0</td>\n",
       "    </tr>\n",
       "    <tr>\n",
       "      <th>2011-01-06</th>\n",
       "      <td>5.892582</td>\n",
       "      <td>7.195315</td>\n",
       "      <td>21.760258</td>\n",
       "      <td>70.129997</td>\n",
       "      <td>70579.0</td>\n",
       "    </tr>\n",
       "  </tbody>\n",
       "</table>\n",
       "</div>"
      ],
      "text/plain": [
       "            ABEV3.SA  LREN3.SA   PETR4.SA  SMAL11.SA    ^BVSP\n",
       "Date                                                         \n",
       "2010-12-30  6.045817  7.446164  21.904737  70.919998  69305.0\n",
       "2011-01-03  6.059748  7.537259  21.671963  71.470001  69962.0\n",
       "2011-01-04  6.061141  7.432962  21.591696  70.940002  70318.0\n",
       "2011-01-05  5.948304  7.373550  21.848547  70.919998  71091.0\n",
       "2011-01-06  5.892582  7.195315  21.760258  70.129997  70579.0"
      ]
     },
     "execution_count": 7,
     "metadata": {},
     "output_type": "execute_result"
    }
   ],
   "source": [
    "p.head()"
   ]
  },
  {
   "cell_type": "markdown",
   "id": "decent-serve",
   "metadata": {},
   "source": [
    "## Cálculo do log-retorno diário"
   ]
  },
  {
   "cell_type": "code",
   "execution_count": 45,
   "id": "stopped-charge",
   "metadata": {},
   "outputs": [],
   "source": [
    "r = np.log(p).diff()"
   ]
  },
  {
   "cell_type": "markdown",
   "id": "discrete-things",
   "metadata": {},
   "source": [
    "## Estatísticas em subperíodos de 2 anos\n",
    "\n",
    "Dividir as séries em 5 períodos de 2 anos cada e calcule as estatísticas: retorno esperado e volatilidade anualizados, para cada sub-período."
   ]
  },
  {
   "cell_type": "markdown",
   "id": "formed-windows",
   "metadata": {},
   "source": [
    "### Criando os subperíodos"
   ]
  },
  {
   "cell_type": "code",
   "execution_count": 48,
   "id": "municipal-fundamentals",
   "metadata": {},
   "outputs": [],
   "source": [
    "r['group'] = np.ceil(r.index.year / 2).astype('int32') - 1005"
   ]
  },
  {
   "cell_type": "markdown",
   "id": "infrared-certificate",
   "metadata": {},
   "source": [
    "### Calculando o retorno esperado anualizado para cada subperíodo"
   ]
  },
  {
   "cell_type": "code",
   "execution_count": 51,
   "id": "passive-invasion",
   "metadata": {},
   "outputs": [
    {
     "data": {
      "text/html": [
       "<div>\n",
       "<style scoped>\n",
       "    .dataframe tbody tr th:only-of-type {\n",
       "        vertical-align: middle;\n",
       "    }\n",
       "\n",
       "    .dataframe tbody tr th {\n",
       "        vertical-align: top;\n",
       "    }\n",
       "\n",
       "    .dataframe thead th {\n",
       "        text-align: right;\n",
       "    }\n",
       "</style>\n",
       "<table border=\"1\" class=\"dataframe\">\n",
       "  <thead>\n",
       "    <tr style=\"text-align: right;\">\n",
       "      <th></th>\n",
       "      <th>ABEV3.SA</th>\n",
       "      <th>LREN3.SA</th>\n",
       "      <th>PETR4.SA</th>\n",
       "      <th>SMAL11.SA</th>\n",
       "      <th>^BVSP</th>\n",
       "      <th>group</th>\n",
       "    </tr>\n",
       "    <tr>\n",
       "      <th>group</th>\n",
       "      <th></th>\n",
       "      <th></th>\n",
       "      <th></th>\n",
       "      <th></th>\n",
       "      <th></th>\n",
       "      <th></th>\n",
       "    </tr>\n",
       "  </thead>\n",
       "  <tbody>\n",
       "    <tr>\n",
       "      <th>1</th>\n",
       "      <td>0.367935</td>\n",
       "      <td>0.212757</td>\n",
       "      <td>-0.139840</td>\n",
       "      <td>0.031988</td>\n",
       "      <td>-0.065648</td>\n",
       "      <td>252.0</td>\n",
       "    </tr>\n",
       "    <tr>\n",
       "      <th>2</th>\n",
       "      <td>0.012586</td>\n",
       "      <td>0.003813</td>\n",
       "      <td>-0.295994</td>\n",
       "      <td>-0.178721</td>\n",
       "      <td>-0.100558</td>\n",
       "      <td>504.0</td>\n",
       "    </tr>\n",
       "    <tr>\n",
       "      <th>3</th>\n",
       "      <td>0.069557</td>\n",
       "      <td>0.231865</td>\n",
       "      <td>0.200462</td>\n",
       "      <td>0.009402</td>\n",
       "      <td>0.094669</td>\n",
       "      <td>756.0</td>\n",
       "    </tr>\n",
       "    <tr>\n",
       "      <th>4</th>\n",
       "      <td>-0.002191</td>\n",
       "      <td>0.371561</td>\n",
       "      <td>0.237397</td>\n",
       "      <td>0.243131</td>\n",
       "      <td>0.193182</td>\n",
       "      <td>1008.0</td>\n",
       "    </tr>\n",
       "    <tr>\n",
       "      <th>5</th>\n",
       "      <td>0.224224</td>\n",
       "      <td>0.404524</td>\n",
       "      <td>0.324817</td>\n",
       "      <td>0.458499</td>\n",
       "      <td>0.282840</td>\n",
       "      <td>1260.0</td>\n",
       "    </tr>\n",
       "  </tbody>\n",
       "</table>\n",
       "</div>"
      ],
      "text/plain": [
       "       ABEV3.SA  LREN3.SA  PETR4.SA  SMAL11.SA     ^BVSP   group\n",
       "group                                                           \n",
       "1      0.367935  0.212757 -0.139840   0.031988 -0.065648   252.0\n",
       "2      0.012586  0.003813 -0.295994  -0.178721 -0.100558   504.0\n",
       "3      0.069557  0.231865  0.200462   0.009402  0.094669   756.0\n",
       "4     -0.002191  0.371561  0.237397   0.243131  0.193182  1008.0\n",
       "5      0.224224  0.404524  0.324817   0.458499  0.282840  1260.0"
      ]
     },
     "execution_count": 51,
     "metadata": {},
     "output_type": "execute_result"
    }
   ],
   "source": [
    "r.dropna()\\\n",
    "    .groupby('group')\\\n",
    "    .apply(lambda x: x.mean() * 252)"
   ]
  },
  {
   "cell_type": "markdown",
   "id": "measured-fever",
   "metadata": {},
   "source": [
    "### Calculando o risco esperado anualizado para cada subperíodo"
   ]
  },
  {
   "cell_type": "code",
   "execution_count": 52,
   "id": "hawaiian-visiting",
   "metadata": {},
   "outputs": [
    {
     "data": {
      "text/html": [
       "<div>\n",
       "<style scoped>\n",
       "    .dataframe tbody tr th:only-of-type {\n",
       "        vertical-align: middle;\n",
       "    }\n",
       "\n",
       "    .dataframe tbody tr th {\n",
       "        vertical-align: top;\n",
       "    }\n",
       "\n",
       "    .dataframe thead th {\n",
       "        text-align: right;\n",
       "    }\n",
       "</style>\n",
       "<table border=\"1\" class=\"dataframe\">\n",
       "  <thead>\n",
       "    <tr style=\"text-align: right;\">\n",
       "      <th></th>\n",
       "      <th>ABEV3.SA</th>\n",
       "      <th>LREN3.SA</th>\n",
       "      <th>PETR4.SA</th>\n",
       "      <th>SMAL11.SA</th>\n",
       "      <th>^BVSP</th>\n",
       "      <th>group</th>\n",
       "    </tr>\n",
       "    <tr>\n",
       "      <th>group</th>\n",
       "      <th></th>\n",
       "      <th></th>\n",
       "      <th></th>\n",
       "      <th></th>\n",
       "      <th></th>\n",
       "      <th></th>\n",
       "    </tr>\n",
       "  </thead>\n",
       "  <tbody>\n",
       "    <tr>\n",
       "      <th>1</th>\n",
       "      <td>0.255424</td>\n",
       "      <td>0.369958</td>\n",
       "      <td>0.309180</td>\n",
       "      <td>0.212330</td>\n",
       "      <td>0.233806</td>\n",
       "      <td>0.0</td>\n",
       "    </tr>\n",
       "    <tr>\n",
       "      <th>2</th>\n",
       "      <td>0.235389</td>\n",
       "      <td>0.277302</td>\n",
       "      <td>0.459732</td>\n",
       "      <td>0.163247</td>\n",
       "      <td>0.229353</td>\n",
       "      <td>0.0</td>\n",
       "    </tr>\n",
       "    <tr>\n",
       "      <th>3</th>\n",
       "      <td>0.220528</td>\n",
       "      <td>0.327793</td>\n",
       "      <td>0.615885</td>\n",
       "      <td>0.228360</td>\n",
       "      <td>0.250101</td>\n",
       "      <td>0.0</td>\n",
       "    </tr>\n",
       "    <tr>\n",
       "      <th>4</th>\n",
       "      <td>0.195741</td>\n",
       "      <td>0.316397</td>\n",
       "      <td>0.455122</td>\n",
       "      <td>0.201174</td>\n",
       "      <td>0.207757</td>\n",
       "      <td>0.0</td>\n",
       "    </tr>\n",
       "    <tr>\n",
       "      <th>5</th>\n",
       "      <td>0.266602</td>\n",
       "      <td>0.281391</td>\n",
       "      <td>0.290568</td>\n",
       "      <td>0.178664</td>\n",
       "      <td>0.180550</td>\n",
       "      <td>0.0</td>\n",
       "    </tr>\n",
       "  </tbody>\n",
       "</table>\n",
       "</div>"
      ],
      "text/plain": [
       "       ABEV3.SA  LREN3.SA  PETR4.SA  SMAL11.SA     ^BVSP  group\n",
       "group                                                          \n",
       "1      0.255424  0.369958  0.309180   0.212330  0.233806    0.0\n",
       "2      0.235389  0.277302  0.459732   0.163247  0.229353    0.0\n",
       "3      0.220528  0.327793  0.615885   0.228360  0.250101    0.0\n",
       "4      0.195741  0.316397  0.455122   0.201174  0.207757    0.0\n",
       "5      0.266602  0.281391  0.290568   0.178664  0.180550    0.0"
      ]
     },
     "execution_count": 52,
     "metadata": {},
     "output_type": "execute_result"
    }
   ],
   "source": [
    "r.dropna()\\\n",
    "    .groupby('group')\\\n",
    "    .apply(lambda x: x.std() * np.sqrt(252))"
   ]
  },
  {
   "cell_type": "code",
   "execution_count": null,
   "id": "juvenile-buffalo",
   "metadata": {},
   "outputs": [],
   "source": []
  }
 ],
 "metadata": {
  "kernelspec": {
   "display_name": "Python 3",
   "language": "python",
   "name": "python3"
  },
  "language_info": {
   "codemirror_mode": {
    "name": "ipython",
    "version": 3
   },
   "file_extension": ".py",
   "mimetype": "text/x-python",
   "name": "python",
   "nbconvert_exporter": "python",
   "pygments_lexer": "ipython3",
   "version": "3.7.6"
  }
 },
 "nbformat": 4,
 "nbformat_minor": 5
}
