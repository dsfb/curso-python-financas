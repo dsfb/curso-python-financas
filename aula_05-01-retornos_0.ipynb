{
 "cells": [
  {
   "cell_type": "markdown",
   "metadata": {},
   "source": [
    "# Análise de retornos\n",
    "\n",
    "## Cálculo do Retorno Médio\n",
    "\n",
    "### Retornos Simples Médio\n",
    "\n",
    "$$\n",
    "1 + \\bar{R} = \\left( \\prod_{i=0}^{N-1} (1 + R_{t-i}) \\right)^{\\frac{1}{N}}\n",
    "$$"
   ]
  },
  {
   "cell_type": "code",
   "execution_count": null,
   "metadata": {},
   "outputs": [],
   "source": [
    "import pandas as pd\n",
    "import numpy as np\n",
    "from bcb import sgs"
   ]
  },
  {
   "cell_type": "code",
   "execution_count": null,
   "metadata": {},
   "outputs": [],
   "source": [
    "usdbrl = sgs.get(('USDBRL', 1), last=5)"
   ]
  },
  {
   "cell_type": "code",
   "execution_count": null,
   "metadata": {},
   "outputs": [],
   "source": [
    "usdbrl.head()"
   ]
  },
  {
   "cell_type": "code",
   "execution_count": null,
   "metadata": {},
   "outputs": [],
   "source": [
    "R_t = usdbrl.apply(lambda x: x.diff() / x.shift(1))"
   ]
  },
  {
   "cell_type": "code",
   "execution_count": null,
   "metadata": {},
   "outputs": [],
   "source": [
    "np.power( (1 + R_t).prod(), 1 / len(R_t.dropna()) ) - 1"
   ]
  },
  {
   "cell_type": "markdown",
   "metadata": {},
   "source": [
    "### LOG-RETORNO Médio\n",
    "\n",
    "\\begin{equation}\n",
    "\\bar{r} = \\frac{1}{N} \\sum_{i=0}^{N-1} r_{t-i}\n",
    "%(\\#eq:mean-log-return-composed)\n",
    "\\end{equation}\n"
   ]
  },
  {
   "cell_type": "code",
   "execution_count": null,
   "metadata": {},
   "outputs": [],
   "source": [
    "r_t = usdbrl.apply(lambda x: np.log(x).diff())"
   ]
  },
  {
   "cell_type": "code",
   "execution_count": null,
   "metadata": {},
   "outputs": [],
   "source": [
    "r_t.dropna().mean()"
   ]
  },
  {
   "cell_type": "markdown",
   "metadata": {},
   "source": [
    "### Risco Esperado\n",
    "\n",
    "$$\n",
    "\\textrm{Var}(r_t) = \\frac{1}{N-1}\\sum_{i=0}^{N-1}\\left( r_{t-i} - \\bar{r} \\right)^2\n",
    "$$\n",
    "\n",
    "#### Volatilidade\n",
    "\n",
    "$$\n",
    "\\sigma = \\sqrt{\\textrm{Var}(r_t)}\n",
    "$$\n"
   ]
  },
  {
   "cell_type": "code",
   "execution_count": null,
   "metadata": {},
   "outputs": [],
   "source": [
    "r_t.dropna().std()"
   ]
  },
  {
   "cell_type": "code",
   "execution_count": null,
   "metadata": {},
   "outputs": [],
   "source": []
  }
 ],
 "metadata": {
  "kernelspec": {
   "display_name": "Python 3",
   "language": "python",
   "name": "python3"
  },
  "language_info": {
   "codemirror_mode": {
    "name": "ipython",
    "version": 3
   },
   "file_extension": ".py",
   "mimetype": "text/x-python",
   "name": "python",
   "nbconvert_exporter": "python",
   "pygments_lexer": "ipython3",
   "version": "3.7.6"
  }
 },
 "nbformat": 4,
 "nbformat_minor": 4
}
