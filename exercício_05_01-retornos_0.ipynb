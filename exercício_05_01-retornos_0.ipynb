{
 "cells": [
  {
   "cell_type": "markdown",
   "id": "greek-background",
   "metadata": {},
   "source": [
    "# Exercício 5\n",
    "\n",
    "Fazer gráfico de comparação da rentabilidade de ativos. Usar a série da VALE (VALE3.SA) no período de 2015-01-01 até 2020-12-31 e comparar com:\n",
    "1. CDI acumulado no período\n",
    "1. IBOVESPA\n",
    "1. IPCA + 6% ao ano"
   ]
  },
  {
   "cell_type": "code",
   "execution_count": 1,
   "id": "prepared-mount",
   "metadata": {},
   "outputs": [],
   "source": [
    "import pandas as pd\n",
    "import numpy as np\n",
    "import yfinance as yf"
   ]
  },
  {
   "cell_type": "markdown",
   "id": "talented-knock",
   "metadata": {},
   "source": [
    "## Obtendo dados de Bolsa (ação e índice IBOVESPA)"
   ]
  },
  {
   "cell_type": "code",
   "execution_count": 2,
   "id": "ranging-tuesday",
   "metadata": {},
   "outputs": [],
   "source": [
    "symbol = ['VALE3.SA', '^BVSP']"
   ]
  },
  {
   "cell_type": "code",
   "execution_count": 3,
   "id": "unauthorized-gauge",
   "metadata": {},
   "outputs": [
    {
     "name": "stdout",
     "output_type": "stream",
     "text": [
      "[*********************100%***********************]  2 of 2 completed\n"
     ]
    }
   ],
   "source": [
    "data = yf.download(symbol, start='2014-12-30', end='2020-01-01')"
   ]
  },
  {
   "cell_type": "markdown",
   "id": "daily-treat",
   "metadata": {},
   "source": [
    "## Limpeza dos dados faltantes"
   ]
  },
  {
   "cell_type": "code",
   "execution_count": 4,
   "id": "alone-account",
   "metadata": {},
   "outputs": [
    {
     "data": {
      "text/plain": [
       "(1242, 12)"
      ]
     },
     "execution_count": 4,
     "metadata": {},
     "output_type": "execute_result"
    }
   ],
   "source": [
    "data.shape"
   ]
  },
  {
   "cell_type": "code",
   "execution_count": 5,
   "id": "strategic-inventory",
   "metadata": {},
   "outputs": [
    {
     "data": {
      "text/plain": [
       "(1236, 12)"
      ]
     },
     "execution_count": 5,
     "metadata": {},
     "output_type": "execute_result"
    }
   ],
   "source": [
    "data.dropna().shape"
   ]
  },
  {
   "cell_type": "markdown",
   "id": "closed-change",
   "metadata": {},
   "source": [
    "## Calculando retornos mensais"
   ]
  },
  {
   "cell_type": "code",
   "execution_count": 6,
   "id": "august-press",
   "metadata": {},
   "outputs": [],
   "source": [
    "p = data['Adj Close'].resample('1M').last()"
   ]
  },
  {
   "cell_type": "code",
   "execution_count": 7,
   "id": "overhead-bahamas",
   "metadata": {},
   "outputs": [],
   "source": [
    "r = p.diff() / p.shift(1)"
   ]
  },
  {
   "cell_type": "markdown",
   "id": "future-validity",
   "metadata": {},
   "source": [
    "## Obtendo CDI"
   ]
  },
  {
   "cell_type": "code",
   "execution_count": 8,
   "id": "fallen-strike",
   "metadata": {},
   "outputs": [],
   "source": [
    "from bcb import sgs"
   ]
  },
  {
   "cell_type": "code",
   "execution_count": 9,
   "id": "joint-myrtle",
   "metadata": {},
   "outputs": [],
   "source": [
    "cdi = sgs.get(('CDI', 12), start_date='2014-12-30', end_date='2020-01-01')\n",
    "\n",
    "cdi['month'] = cdi.index.strftime('%Y%m')\n",
    "\n",
    "cdi_monthly = cdi.groupby('month')['CDI'].apply(lambda x: (1 + x/100).prod() - 1)"
   ]
  },
  {
   "cell_type": "markdown",
   "id": "wrapped-professor",
   "metadata": {},
   "source": [
    "## Obtendo IPCA"
   ]
  },
  {
   "cell_type": "code",
   "execution_count": 10,
   "id": "younger-providence",
   "metadata": {},
   "outputs": [],
   "source": [
    "ipca = sgs.get(('IPCA', 433), start_date='2014-12-30', end_date='2019-12-31')"
   ]
  },
  {
   "cell_type": "markdown",
   "id": "maritime-february",
   "metadata": {},
   "source": [
    "### Calculando IPCA + 6% ao ano"
   ]
  },
  {
   "cell_type": "code",
   "execution_count": 11,
   "id": "directed-proposition",
   "metadata": {},
   "outputs": [],
   "source": [
    "ipca['IPCA'] = ipca['IPCA'] / 100\n",
    "ipca['IPCA+6%'] = ipca['IPCA'] + np.power(1 + 6/100, 1/12) - 1"
   ]
  },
  {
   "cell_type": "code",
   "execution_count": 12,
   "id": "sudden-project",
   "metadata": {},
   "outputs": [
    {
     "data": {
      "text/html": [
       "<div>\n",
       "<style scoped>\n",
       "    .dataframe tbody tr th:only-of-type {\n",
       "        vertical-align: middle;\n",
       "    }\n",
       "\n",
       "    .dataframe tbody tr th {\n",
       "        vertical-align: top;\n",
       "    }\n",
       "\n",
       "    .dataframe thead th {\n",
       "        text-align: right;\n",
       "    }\n",
       "</style>\n",
       "<table border=\"1\" class=\"dataframe\">\n",
       "  <thead>\n",
       "    <tr style=\"text-align: right;\">\n",
       "      <th></th>\n",
       "      <th>IPCA</th>\n",
       "      <th>IPCA+6%</th>\n",
       "    </tr>\n",
       "    <tr>\n",
       "      <th>date</th>\n",
       "      <th></th>\n",
       "      <th></th>\n",
       "    </tr>\n",
       "  </thead>\n",
       "  <tbody>\n",
       "    <tr>\n",
       "      <th>2014-12-01</th>\n",
       "      <td>0.0078</td>\n",
       "      <td>0.012668</td>\n",
       "    </tr>\n",
       "    <tr>\n",
       "      <th>2015-01-01</th>\n",
       "      <td>0.0124</td>\n",
       "      <td>0.017268</td>\n",
       "    </tr>\n",
       "    <tr>\n",
       "      <th>2015-02-01</th>\n",
       "      <td>0.0122</td>\n",
       "      <td>0.017068</td>\n",
       "    </tr>\n",
       "    <tr>\n",
       "      <th>2015-03-01</th>\n",
       "      <td>0.0132</td>\n",
       "      <td>0.018068</td>\n",
       "    </tr>\n",
       "    <tr>\n",
       "      <th>2015-04-01</th>\n",
       "      <td>0.0071</td>\n",
       "      <td>0.011968</td>\n",
       "    </tr>\n",
       "  </tbody>\n",
       "</table>\n",
       "</div>"
      ],
      "text/plain": [
       "              IPCA   IPCA+6%\n",
       "date                        \n",
       "2014-12-01  0.0078  0.012668\n",
       "2015-01-01  0.0124  0.017268\n",
       "2015-02-01  0.0122  0.017068\n",
       "2015-03-01  0.0132  0.018068\n",
       "2015-04-01  0.0071  0.011968"
      ]
     },
     "execution_count": 12,
     "metadata": {},
     "output_type": "execute_result"
    }
   ],
   "source": [
    "ipca.head()"
   ]
  },
  {
   "cell_type": "markdown",
   "id": "chubby-gregory",
   "metadata": {},
   "source": [
    "## Juntando as séries de taxas"
   ]
  },
  {
   "cell_type": "code",
   "execution_count": 13,
   "id": "connected-infection",
   "metadata": {},
   "outputs": [],
   "source": [
    "r['CDI'] = cdi_monthly.values\n",
    "r['IPCA+6%'] = ipca['IPCA+6%'].values\n",
    "r.iloc[0] = 0"
   ]
  },
  {
   "cell_type": "code",
   "execution_count": 14,
   "id": "successful-element",
   "metadata": {},
   "outputs": [
    {
     "data": {
      "text/html": [
       "<div>\n",
       "<style scoped>\n",
       "    .dataframe tbody tr th:only-of-type {\n",
       "        vertical-align: middle;\n",
       "    }\n",
       "\n",
       "    .dataframe tbody tr th {\n",
       "        vertical-align: top;\n",
       "    }\n",
       "\n",
       "    .dataframe thead th {\n",
       "        text-align: right;\n",
       "    }\n",
       "</style>\n",
       "<table border=\"1\" class=\"dataframe\">\n",
       "  <thead>\n",
       "    <tr style=\"text-align: right;\">\n",
       "      <th></th>\n",
       "      <th>VALE3.SA</th>\n",
       "      <th>^BVSP</th>\n",
       "      <th>CDI</th>\n",
       "      <th>IPCA+6%</th>\n",
       "    </tr>\n",
       "    <tr>\n",
       "      <th>Date</th>\n",
       "      <th></th>\n",
       "      <th></th>\n",
       "      <th></th>\n",
       "      <th></th>\n",
       "    </tr>\n",
       "  </thead>\n",
       "  <tbody>\n",
       "    <tr>\n",
       "      <th>2014-12-31</th>\n",
       "      <td>0.000000</td>\n",
       "      <td>0.000000</td>\n",
       "      <td>0.000000</td>\n",
       "      <td>0.000000</td>\n",
       "    </tr>\n",
       "    <tr>\n",
       "      <th>2015-01-31</th>\n",
       "      <td>-0.150616</td>\n",
       "      <td>-0.061971</td>\n",
       "      <td>0.009293</td>\n",
       "      <td>0.017268</td>\n",
       "    </tr>\n",
       "    <tr>\n",
       "      <th>2015-02-28</th>\n",
       "      <td>0.141859</td>\n",
       "      <td>0.099663</td>\n",
       "      <td>0.008185</td>\n",
       "      <td>0.017068</td>\n",
       "    </tr>\n",
       "    <tr>\n",
       "      <th>2015-03-31</th>\n",
       "      <td>-0.155765</td>\n",
       "      <td>-0.008394</td>\n",
       "      <td>0.010361</td>\n",
       "      <td>0.018068</td>\n",
       "    </tr>\n",
       "    <tr>\n",
       "      <th>2015-04-30</th>\n",
       "      <td>0.304405</td>\n",
       "      <td>0.099296</td>\n",
       "      <td>0.009483</td>\n",
       "      <td>0.011968</td>\n",
       "    </tr>\n",
       "  </tbody>\n",
       "</table>\n",
       "</div>"
      ],
      "text/plain": [
       "            VALE3.SA     ^BVSP       CDI   IPCA+6%\n",
       "Date                                              \n",
       "2014-12-31  0.000000  0.000000  0.000000  0.000000\n",
       "2015-01-31 -0.150616 -0.061971  0.009293  0.017268\n",
       "2015-02-28  0.141859  0.099663  0.008185  0.017068\n",
       "2015-03-31 -0.155765 -0.008394  0.010361  0.018068\n",
       "2015-04-30  0.304405  0.099296  0.009483  0.011968"
      ]
     },
     "execution_count": 14,
     "metadata": {},
     "output_type": "execute_result"
    }
   ],
   "source": [
    "r.head()"
   ]
  },
  {
   "cell_type": "markdown",
   "id": "continental-spanking",
   "metadata": {},
   "source": [
    "## Calculando a rentabilidade dos ativos"
   ]
  },
  {
   "cell_type": "code",
   "execution_count": 15,
   "id": "compatible-festival",
   "metadata": {},
   "outputs": [],
   "source": [
    "rentabilidade = 100 * (1 + r).cumprod()"
   ]
  },
  {
   "cell_type": "code",
   "execution_count": 16,
   "id": "balanced-bunch",
   "metadata": {},
   "outputs": [],
   "source": [
    "rentabilidade.iloc[0] = 100"
   ]
  },
  {
   "cell_type": "code",
   "execution_count": 17,
   "id": "accepted-specific",
   "metadata": {},
   "outputs": [
    {
     "data": {
      "image/png": "[encoded data removed]",
      "text/plain": [
       "<Figure size 1152x288 with 1 Axes>"
      ]
     },
     "metadata": {
      "needs_background": "light"
     },
     "output_type": "display_data"
    }
   ],
   "source": [
    "rentabilidade.plot(figsize=(16,4));"
   ]
  }
 ],
 "metadata": {
  "kernelspec": {
   "display_name": "Python 3",
   "language": "python",
   "name": "python3"
  },
  "language_info": {
   "codemirror_mode": {
    "name": "ipython",
    "version": 3
   },
   "file_extension": ".py",
   "mimetype": "text/x-python",
   "name": "python",
   "nbconvert_exporter": "python",
   "pygments_lexer": "ipython3",
   "version": "3.7.6"
  }
 },
 "nbformat": 4,
 "nbformat_minor": 5
}
