{
 "cells": [
  {
   "cell_type": "markdown",
   "metadata": {},
   "source": [
    "# Análise de Retornos\n",
    "\n",
    "- Investimento em WEGE3\n",
    "    - compra: R\\\\$ 42,03 em junho/2020\n",
    "    - venda:  R\\\\$ 67,32 em julho/2020\n",
    "    - duração: 2 meses\n",
    "- Investimento em OIBR3\n",
    "    - compra: R\\\\$ 0,49 em abril/2020\n",
    "    - venda:  R\\\\$ 1,20 em junho/2020\n",
    "    - duração: 3 meses\n",
    "- Investimento em VVAR3\n",
    "    - compra: R\\\\$ 4,65 em abril/2020\n",
    "    - venda:  R\\\\$ 17,87 em setembro/2020\n",
    "    - duração: 6 meses\n",
    "\n",
    "#### Qual investimento tem o melhor *retorno*?\n",
    "\n",
    "*Assumindo que a mesma quantia foi investida nestes ativos*"
   ]
  },
  {
   "cell_type": "code",
   "execution_count": null,
   "metadata": {},
   "outputs": [],
   "source": [
    "import pandas as pd"
   ]
  },
  {
   "cell_type": "code",
   "execution_count": null,
   "metadata": {},
   "outputs": [],
   "source": [
    "trades = pd.DataFrame(\n",
    "    {\n",
    "        'PreçoInicial': [42.03, 0.49, 4.65],\n",
    "        'PreçoFinal'  : [67.32, 1.20, 17.87],\n",
    "        'Duração'     : [2, 3, 6]\n",
    "    },\n",
    "    index=['WEGE3', 'OIBR3', 'VVAR3']\n",
    ")"
   ]
  },
  {
   "cell_type": "code",
   "execution_count": null,
   "metadata": {},
   "outputs": [],
   "source": [
    "trades"
   ]
  },
  {
   "cell_type": "markdown",
   "metadata": {},
   "source": [
    "## Variação Absoluta\n",
    "\n",
    "$$\n",
    "P_t - P_{t-1}\n",
    "$$"
   ]
  },
  {
   "cell_type": "code",
   "execution_count": null,
   "metadata": {},
   "outputs": [],
   "source": [
    "trades['Variação'] = trades['PreçoFinal'] - trades['PreçoInicial']"
   ]
  },
  {
   "cell_type": "code",
   "execution_count": null,
   "metadata": {},
   "outputs": [],
   "source": [
    "trades"
   ]
  },
  {
   "cell_type": "markdown",
   "metadata": {},
   "source": [
    "## Variação Percentual\n",
    "\n",
    "$$\n",
    "\\frac{P_t - P_{t-1}}{P_{t-1}}\n",
    "$$"
   ]
  },
  {
   "cell_type": "code",
   "execution_count": null,
   "metadata": {},
   "outputs": [],
   "source": [
    "trades['VariaçãoPercentual'] = trades['Variação'] / trades['PreçoInicial']"
   ]
  },
  {
   "cell_type": "code",
   "execution_count": null,
   "metadata": {},
   "outputs": [],
   "source": [
    "trades"
   ]
  },
  {
   "cell_type": "markdown",
   "metadata": {},
   "source": [
    "## Variação Média\n",
    "\n",
    "$$\n",
    "\\frac{P_t - P_{t-1}}{P_{t-1}} \\frac{1}{D}\n",
    "$$"
   ]
  },
  {
   "cell_type": "code",
   "execution_count": null,
   "metadata": {},
   "outputs": [],
   "source": [
    "trades['VariaçãoMédia'] = trades['VariaçãoPercentual'] / trades['Duração']"
   ]
  },
  {
   "cell_type": "code",
   "execution_count": null,
   "metadata": {},
   "outputs": [],
   "source": [
    "trades"
   ]
  },
  {
   "cell_type": "markdown",
   "metadata": {},
   "source": [
    "#### O que podemos extrair desses exemplos?\n",
    "\n",
    "#### Como fazer a mesma análise considerando o desempenho dos ativos no ano de 2020?"
   ]
  },
  {
   "cell_type": "code",
   "execution_count": null,
   "metadata": {},
   "outputs": [],
   "source": [
    "import yfinance as yf"
   ]
  },
  {
   "cell_type": "code",
   "execution_count": null,
   "metadata": {},
   "outputs": [],
   "source": [
    "series = yf.download(['WEGE3.SA', 'OIBR3.SA', 'VVAR3.SA'], start='2020-01-01', end='2020-12-31', progress=False)"
   ]
  },
  {
   "cell_type": "code",
   "execution_count": null,
   "metadata": {},
   "outputs": [],
   "source": [
    "series.head()"
   ]
  },
  {
   "cell_type": "code",
   "execution_count": null,
   "metadata": {},
   "outputs": [],
   "source": [
    "trades_2020 = series\\\n",
    "    .loc[:, 'Adj Close']\\\n",
    "    .iloc[[0,-1],:]\\\n",
    "    .transpose()"
   ]
  },
  {
   "cell_type": "code",
   "execution_count": null,
   "metadata": {},
   "outputs": [],
   "source": [
    "trades_2020"
   ]
  },
  {
   "cell_type": "code",
   "execution_count": null,
   "metadata": {},
   "outputs": [],
   "source": [
    "trades_2020.columns = ['PreçoInicial', 'PreçoFinal']\n",
    "trades_2020['Duração'] = 12"
   ]
  },
  {
   "cell_type": "code",
   "execution_count": null,
   "metadata": {},
   "outputs": [],
   "source": [
    "trades_2020"
   ]
  },
  {
   "cell_type": "code",
   "execution_count": null,
   "metadata": {},
   "outputs": [],
   "source": [
    "trades_2020['Variação'] = trades_2020['PreçoFinal'] - trades_2020['PreçoInicial']\n",
    "trades_2020['VariaçãoPercentual'] = trades_2020['Variação'] / trades_2020['PreçoInicial']\n",
    "trades_2020['VariaçãoMédia'] = trades_2020['VariaçãoPercentual'] / trades_2020['Duração']"
   ]
  },
  {
   "cell_type": "code",
   "execution_count": null,
   "metadata": {},
   "outputs": [],
   "source": [
    "trades_2020"
   ]
  },
  {
   "cell_type": "markdown",
   "metadata": {},
   "source": [
    "#### O que observamos agora?"
   ]
  }
 ],
 "metadata": {
  "kernelspec": {
   "display_name": "Python 3",
   "language": "python",
   "name": "python3"
  },
  "language_info": {
   "codemirror_mode": {
    "name": "ipython",
    "version": 3
   },
   "file_extension": ".py",
   "mimetype": "text/x-python",
   "name": "python",
   "nbconvert_exporter": "python",
   "pygments_lexer": "ipython3",
   "version": "3.7.6"
  }
 },
 "nbformat": 4,
 "nbformat_minor": 4
}
